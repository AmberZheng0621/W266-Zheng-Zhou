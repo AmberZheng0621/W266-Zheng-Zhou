{
  "nbformat": 4,
  "nbformat_minor": 0,
  "metadata": {
    "colab": {
      "provenance": []
    },
    "kernelspec": {
      "name": "python3",
      "display_name": "Python 3"
    },
    "language_info": {
      "name": "python"
    },
    "widgets": {
      "application/vnd.jupyter.widget-state+json": {
        "f5b81191530140e99f151b9ff842ae7b": {
          "model_module": "@jupyter-widgets/controls",
          "model_name": "HBoxModel",
          "model_module_version": "1.5.0",
          "state": {
            "_dom_classes": [],
            "_model_module": "@jupyter-widgets/controls",
            "_model_module_version": "1.5.0",
            "_model_name": "HBoxModel",
            "_view_count": null,
            "_view_module": "@jupyter-widgets/controls",
            "_view_module_version": "1.5.0",
            "_view_name": "HBoxView",
            "box_style": "",
            "children": [
              "IPY_MODEL_45ea9ad4287743afb776a7b0dac68ea0",
              "IPY_MODEL_c014b35cd1804538ae765095ebccdcab",
              "IPY_MODEL_d0c21dbb772a42f8b2cab454e758f0dc"
            ],
            "layout": "IPY_MODEL_8453bbf0b514468299e3efcd0f9b8e3d"
          }
        },
        "45ea9ad4287743afb776a7b0dac68ea0": {
          "model_module": "@jupyter-widgets/controls",
          "model_name": "HTMLModel",
          "model_module_version": "1.5.0",
          "state": {
            "_dom_classes": [],
            "_model_module": "@jupyter-widgets/controls",
            "_model_module_version": "1.5.0",
            "_model_name": "HTMLModel",
            "_view_count": null,
            "_view_module": "@jupyter-widgets/controls",
            "_view_module_version": "1.5.0",
            "_view_name": "HTMLView",
            "description": "",
            "description_tooltip": null,
            "layout": "IPY_MODEL_799c79c4ea4d46b0954ca8bdbf3ffa55",
            "placeholder": "​",
            "style": "IPY_MODEL_96062b012e5f40f19068a2c4ecc2bf67",
            "value": "tokenizer_config.json: 100%"
          }
        },
        "c014b35cd1804538ae765095ebccdcab": {
          "model_module": "@jupyter-widgets/controls",
          "model_name": "FloatProgressModel",
          "model_module_version": "1.5.0",
          "state": {
            "_dom_classes": [],
            "_model_module": "@jupyter-widgets/controls",
            "_model_module_version": "1.5.0",
            "_model_name": "FloatProgressModel",
            "_view_count": null,
            "_view_module": "@jupyter-widgets/controls",
            "_view_module_version": "1.5.0",
            "_view_name": "ProgressView",
            "bar_style": "success",
            "description": "",
            "description_tooltip": null,
            "layout": "IPY_MODEL_626076016e1042bcb71cd33cb0a9ca3f",
            "max": 49,
            "min": 0,
            "orientation": "horizontal",
            "style": "IPY_MODEL_4d780c35a7754ddaa25787091d8ec5b9",
            "value": 49
          }
        },
        "d0c21dbb772a42f8b2cab454e758f0dc": {
          "model_module": "@jupyter-widgets/controls",
          "model_name": "HTMLModel",
          "model_module_version": "1.5.0",
          "state": {
            "_dom_classes": [],
            "_model_module": "@jupyter-widgets/controls",
            "_model_module_version": "1.5.0",
            "_model_name": "HTMLModel",
            "_view_count": null,
            "_view_module": "@jupyter-widgets/controls",
            "_view_module_version": "1.5.0",
            "_view_name": "HTMLView",
            "description": "",
            "description_tooltip": null,
            "layout": "IPY_MODEL_30ee0fb9b27941ecb9a4fb314959d3b2",
            "placeholder": "​",
            "style": "IPY_MODEL_c42a7e46b2c242b5abdb043cc405a5aa",
            "value": " 49.0/49.0 [00:00&lt;00:00, 1.79kB/s]"
          }
        },
        "8453bbf0b514468299e3efcd0f9b8e3d": {
          "model_module": "@jupyter-widgets/base",
          "model_name": "LayoutModel",
          "model_module_version": "1.2.0",
          "state": {
            "_model_module": "@jupyter-widgets/base",
            "_model_module_version": "1.2.0",
            "_model_name": "LayoutModel",
            "_view_count": null,
            "_view_module": "@jupyter-widgets/base",
            "_view_module_version": "1.2.0",
            "_view_name": "LayoutView",
            "align_content": null,
            "align_items": null,
            "align_self": null,
            "border": null,
            "bottom": null,
            "display": null,
            "flex": null,
            "flex_flow": null,
            "grid_area": null,
            "grid_auto_columns": null,
            "grid_auto_flow": null,
            "grid_auto_rows": null,
            "grid_column": null,
            "grid_gap": null,
            "grid_row": null,
            "grid_template_areas": null,
            "grid_template_columns": null,
            "grid_template_rows": null,
            "height": null,
            "justify_content": null,
            "justify_items": null,
            "left": null,
            "margin": null,
            "max_height": null,
            "max_width": null,
            "min_height": null,
            "min_width": null,
            "object_fit": null,
            "object_position": null,
            "order": null,
            "overflow": null,
            "overflow_x": null,
            "overflow_y": null,
            "padding": null,
            "right": null,
            "top": null,
            "visibility": null,
            "width": null
          }
        },
        "799c79c4ea4d46b0954ca8bdbf3ffa55": {
          "model_module": "@jupyter-widgets/base",
          "model_name": "LayoutModel",
          "model_module_version": "1.2.0",
          "state": {
            "_model_module": "@jupyter-widgets/base",
            "_model_module_version": "1.2.0",
            "_model_name": "LayoutModel",
            "_view_count": null,
            "_view_module": "@jupyter-widgets/base",
            "_view_module_version": "1.2.0",
            "_view_name": "LayoutView",
            "align_content": null,
            "align_items": null,
            "align_self": null,
            "border": null,
            "bottom": null,
            "display": null,
            "flex": null,
            "flex_flow": null,
            "grid_area": null,
            "grid_auto_columns": null,
            "grid_auto_flow": null,
            "grid_auto_rows": null,
            "grid_column": null,
            "grid_gap": null,
            "grid_row": null,
            "grid_template_areas": null,
            "grid_template_columns": null,
            "grid_template_rows": null,
            "height": null,
            "justify_content": null,
            "justify_items": null,
            "left": null,
            "margin": null,
            "max_height": null,
            "max_width": null,
            "min_height": null,
            "min_width": null,
            "object_fit": null,
            "object_position": null,
            "order": null,
            "overflow": null,
            "overflow_x": null,
            "overflow_y": null,
            "padding": null,
            "right": null,
            "top": null,
            "visibility": null,
            "width": null
          }
        },
        "96062b012e5f40f19068a2c4ecc2bf67": {
          "model_module": "@jupyter-widgets/controls",
          "model_name": "DescriptionStyleModel",
          "model_module_version": "1.5.0",
          "state": {
            "_model_module": "@jupyter-widgets/controls",
            "_model_module_version": "1.5.0",
            "_model_name": "DescriptionStyleModel",
            "_view_count": null,
            "_view_module": "@jupyter-widgets/base",
            "_view_module_version": "1.2.0",
            "_view_name": "StyleView",
            "description_width": ""
          }
        },
        "626076016e1042bcb71cd33cb0a9ca3f": {
          "model_module": "@jupyter-widgets/base",
          "model_name": "LayoutModel",
          "model_module_version": "1.2.0",
          "state": {
            "_model_module": "@jupyter-widgets/base",
            "_model_module_version": "1.2.0",
            "_model_name": "LayoutModel",
            "_view_count": null,
            "_view_module": "@jupyter-widgets/base",
            "_view_module_version": "1.2.0",
            "_view_name": "LayoutView",
            "align_content": null,
            "align_items": null,
            "align_self": null,
            "border": null,
            "bottom": null,
            "display": null,
            "flex": null,
            "flex_flow": null,
            "grid_area": null,
            "grid_auto_columns": null,
            "grid_auto_flow": null,
            "grid_auto_rows": null,
            "grid_column": null,
            "grid_gap": null,
            "grid_row": null,
            "grid_template_areas": null,
            "grid_template_columns": null,
            "grid_template_rows": null,
            "height": null,
            "justify_content": null,
            "justify_items": null,
            "left": null,
            "margin": null,
            "max_height": null,
            "max_width": null,
            "min_height": null,
            "min_width": null,
            "object_fit": null,
            "object_position": null,
            "order": null,
            "overflow": null,
            "overflow_x": null,
            "overflow_y": null,
            "padding": null,
            "right": null,
            "top": null,
            "visibility": null,
            "width": null
          }
        },
        "4d780c35a7754ddaa25787091d8ec5b9": {
          "model_module": "@jupyter-widgets/controls",
          "model_name": "ProgressStyleModel",
          "model_module_version": "1.5.0",
          "state": {
            "_model_module": "@jupyter-widgets/controls",
            "_model_module_version": "1.5.0",
            "_model_name": "ProgressStyleModel",
            "_view_count": null,
            "_view_module": "@jupyter-widgets/base",
            "_view_module_version": "1.2.0",
            "_view_name": "StyleView",
            "bar_color": null,
            "description_width": ""
          }
        },
        "30ee0fb9b27941ecb9a4fb314959d3b2": {
          "model_module": "@jupyter-widgets/base",
          "model_name": "LayoutModel",
          "model_module_version": "1.2.0",
          "state": {
            "_model_module": "@jupyter-widgets/base",
            "_model_module_version": "1.2.0",
            "_model_name": "LayoutModel",
            "_view_count": null,
            "_view_module": "@jupyter-widgets/base",
            "_view_module_version": "1.2.0",
            "_view_name": "LayoutView",
            "align_content": null,
            "align_items": null,
            "align_self": null,
            "border": null,
            "bottom": null,
            "display": null,
            "flex": null,
            "flex_flow": null,
            "grid_area": null,
            "grid_auto_columns": null,
            "grid_auto_flow": null,
            "grid_auto_rows": null,
            "grid_column": null,
            "grid_gap": null,
            "grid_row": null,
            "grid_template_areas": null,
            "grid_template_columns": null,
            "grid_template_rows": null,
            "height": null,
            "justify_content": null,
            "justify_items": null,
            "left": null,
            "margin": null,
            "max_height": null,
            "max_width": null,
            "min_height": null,
            "min_width": null,
            "object_fit": null,
            "object_position": null,
            "order": null,
            "overflow": null,
            "overflow_x": null,
            "overflow_y": null,
            "padding": null,
            "right": null,
            "top": null,
            "visibility": null,
            "width": null
          }
        },
        "c42a7e46b2c242b5abdb043cc405a5aa": {
          "model_module": "@jupyter-widgets/controls",
          "model_name": "DescriptionStyleModel",
          "model_module_version": "1.5.0",
          "state": {
            "_model_module": "@jupyter-widgets/controls",
            "_model_module_version": "1.5.0",
            "_model_name": "DescriptionStyleModel",
            "_view_count": null,
            "_view_module": "@jupyter-widgets/base",
            "_view_module_version": "1.2.0",
            "_view_name": "StyleView",
            "description_width": ""
          }
        },
        "e7ecfb09470e490b86eede888cf6d3aa": {
          "model_module": "@jupyter-widgets/controls",
          "model_name": "HBoxModel",
          "model_module_version": "1.5.0",
          "state": {
            "_dom_classes": [],
            "_model_module": "@jupyter-widgets/controls",
            "_model_module_version": "1.5.0",
            "_model_name": "HBoxModel",
            "_view_count": null,
            "_view_module": "@jupyter-widgets/controls",
            "_view_module_version": "1.5.0",
            "_view_name": "HBoxView",
            "box_style": "",
            "children": [
              "IPY_MODEL_ea2e4f1f3faf4131a326bcce29d28b00",
              "IPY_MODEL_367fbbbf1a8d44748526c1d189f1be56",
              "IPY_MODEL_962322adfd32477c9750631a0d32e3a1"
            ],
            "layout": "IPY_MODEL_bfd1dfa3d5c7467b945549d2248ae505"
          }
        },
        "ea2e4f1f3faf4131a326bcce29d28b00": {
          "model_module": "@jupyter-widgets/controls",
          "model_name": "HTMLModel",
          "model_module_version": "1.5.0",
          "state": {
            "_dom_classes": [],
            "_model_module": "@jupyter-widgets/controls",
            "_model_module_version": "1.5.0",
            "_model_name": "HTMLModel",
            "_view_count": null,
            "_view_module": "@jupyter-widgets/controls",
            "_view_module_version": "1.5.0",
            "_view_name": "HTMLView",
            "description": "",
            "description_tooltip": null,
            "layout": "IPY_MODEL_1f9b219413e643d5afdcb4bad3f77608",
            "placeholder": "​",
            "style": "IPY_MODEL_3f5c7031abe5492ab4ffbc810a31afd9",
            "value": "vocab.txt: 100%"
          }
        },
        "367fbbbf1a8d44748526c1d189f1be56": {
          "model_module": "@jupyter-widgets/controls",
          "model_name": "FloatProgressModel",
          "model_module_version": "1.5.0",
          "state": {
            "_dom_classes": [],
            "_model_module": "@jupyter-widgets/controls",
            "_model_module_version": "1.5.0",
            "_model_name": "FloatProgressModel",
            "_view_count": null,
            "_view_module": "@jupyter-widgets/controls",
            "_view_module_version": "1.5.0",
            "_view_name": "ProgressView",
            "bar_style": "success",
            "description": "",
            "description_tooltip": null,
            "layout": "IPY_MODEL_ab979e8a1ee549bf99889c91d8eafe11",
            "max": 995526,
            "min": 0,
            "orientation": "horizontal",
            "style": "IPY_MODEL_bf7d3f170d6847e6a2d5032e9bc766e9",
            "value": 995526
          }
        },
        "962322adfd32477c9750631a0d32e3a1": {
          "model_module": "@jupyter-widgets/controls",
          "model_name": "HTMLModel",
          "model_module_version": "1.5.0",
          "state": {
            "_dom_classes": [],
            "_model_module": "@jupyter-widgets/controls",
            "_model_module_version": "1.5.0",
            "_model_name": "HTMLModel",
            "_view_count": null,
            "_view_module": "@jupyter-widgets/controls",
            "_view_module_version": "1.5.0",
            "_view_name": "HTMLView",
            "description": "",
            "description_tooltip": null,
            "layout": "IPY_MODEL_f7dd648077214f24a83600549e2d6a23",
            "placeholder": "​",
            "style": "IPY_MODEL_9e6da469a18b476fa715f4bf22ca813e",
            "value": " 996k/996k [00:00&lt;00:00, 5.11MB/s]"
          }
        },
        "bfd1dfa3d5c7467b945549d2248ae505": {
          "model_module": "@jupyter-widgets/base",
          "model_name": "LayoutModel",
          "model_module_version": "1.2.0",
          "state": {
            "_model_module": "@jupyter-widgets/base",
            "_model_module_version": "1.2.0",
            "_model_name": "LayoutModel",
            "_view_count": null,
            "_view_module": "@jupyter-widgets/base",
            "_view_module_version": "1.2.0",
            "_view_name": "LayoutView",
            "align_content": null,
            "align_items": null,
            "align_self": null,
            "border": null,
            "bottom": null,
            "display": null,
            "flex": null,
            "flex_flow": null,
            "grid_area": null,
            "grid_auto_columns": null,
            "grid_auto_flow": null,
            "grid_auto_rows": null,
            "grid_column": null,
            "grid_gap": null,
            "grid_row": null,
            "grid_template_areas": null,
            "grid_template_columns": null,
            "grid_template_rows": null,
            "height": null,
            "justify_content": null,
            "justify_items": null,
            "left": null,
            "margin": null,
            "max_height": null,
            "max_width": null,
            "min_height": null,
            "min_width": null,
            "object_fit": null,
            "object_position": null,
            "order": null,
            "overflow": null,
            "overflow_x": null,
            "overflow_y": null,
            "padding": null,
            "right": null,
            "top": null,
            "visibility": null,
            "width": null
          }
        },
        "1f9b219413e643d5afdcb4bad3f77608": {
          "model_module": "@jupyter-widgets/base",
          "model_name": "LayoutModel",
          "model_module_version": "1.2.0",
          "state": {
            "_model_module": "@jupyter-widgets/base",
            "_model_module_version": "1.2.0",
            "_model_name": "LayoutModel",
            "_view_count": null,
            "_view_module": "@jupyter-widgets/base",
            "_view_module_version": "1.2.0",
            "_view_name": "LayoutView",
            "align_content": null,
            "align_items": null,
            "align_self": null,
            "border": null,
            "bottom": null,
            "display": null,
            "flex": null,
            "flex_flow": null,
            "grid_area": null,
            "grid_auto_columns": null,
            "grid_auto_flow": null,
            "grid_auto_rows": null,
            "grid_column": null,
            "grid_gap": null,
            "grid_row": null,
            "grid_template_areas": null,
            "grid_template_columns": null,
            "grid_template_rows": null,
            "height": null,
            "justify_content": null,
            "justify_items": null,
            "left": null,
            "margin": null,
            "max_height": null,
            "max_width": null,
            "min_height": null,
            "min_width": null,
            "object_fit": null,
            "object_position": null,
            "order": null,
            "overflow": null,
            "overflow_x": null,
            "overflow_y": null,
            "padding": null,
            "right": null,
            "top": null,
            "visibility": null,
            "width": null
          }
        },
        "3f5c7031abe5492ab4ffbc810a31afd9": {
          "model_module": "@jupyter-widgets/controls",
          "model_name": "DescriptionStyleModel",
          "model_module_version": "1.5.0",
          "state": {
            "_model_module": "@jupyter-widgets/controls",
            "_model_module_version": "1.5.0",
            "_model_name": "DescriptionStyleModel",
            "_view_count": null,
            "_view_module": "@jupyter-widgets/base",
            "_view_module_version": "1.2.0",
            "_view_name": "StyleView",
            "description_width": ""
          }
        },
        "ab979e8a1ee549bf99889c91d8eafe11": {
          "model_module": "@jupyter-widgets/base",
          "model_name": "LayoutModel",
          "model_module_version": "1.2.0",
          "state": {
            "_model_module": "@jupyter-widgets/base",
            "_model_module_version": "1.2.0",
            "_model_name": "LayoutModel",
            "_view_count": null,
            "_view_module": "@jupyter-widgets/base",
            "_view_module_version": "1.2.0",
            "_view_name": "LayoutView",
            "align_content": null,
            "align_items": null,
            "align_self": null,
            "border": null,
            "bottom": null,
            "display": null,
            "flex": null,
            "flex_flow": null,
            "grid_area": null,
            "grid_auto_columns": null,
            "grid_auto_flow": null,
            "grid_auto_rows": null,
            "grid_column": null,
            "grid_gap": null,
            "grid_row": null,
            "grid_template_areas": null,
            "grid_template_columns": null,
            "grid_template_rows": null,
            "height": null,
            "justify_content": null,
            "justify_items": null,
            "left": null,
            "margin": null,
            "max_height": null,
            "max_width": null,
            "min_height": null,
            "min_width": null,
            "object_fit": null,
            "object_position": null,
            "order": null,
            "overflow": null,
            "overflow_x": null,
            "overflow_y": null,
            "padding": null,
            "right": null,
            "top": null,
            "visibility": null,
            "width": null
          }
        },
        "bf7d3f170d6847e6a2d5032e9bc766e9": {
          "model_module": "@jupyter-widgets/controls",
          "model_name": "ProgressStyleModel",
          "model_module_version": "1.5.0",
          "state": {
            "_model_module": "@jupyter-widgets/controls",
            "_model_module_version": "1.5.0",
            "_model_name": "ProgressStyleModel",
            "_view_count": null,
            "_view_module": "@jupyter-widgets/base",
            "_view_module_version": "1.2.0",
            "_view_name": "StyleView",
            "bar_color": null,
            "description_width": ""
          }
        },
        "f7dd648077214f24a83600549e2d6a23": {
          "model_module": "@jupyter-widgets/base",
          "model_name": "LayoutModel",
          "model_module_version": "1.2.0",
          "state": {
            "_model_module": "@jupyter-widgets/base",
            "_model_module_version": "1.2.0",
            "_model_name": "LayoutModel",
            "_view_count": null,
            "_view_module": "@jupyter-widgets/base",
            "_view_module_version": "1.2.0",
            "_view_name": "LayoutView",
            "align_content": null,
            "align_items": null,
            "align_self": null,
            "border": null,
            "bottom": null,
            "display": null,
            "flex": null,
            "flex_flow": null,
            "grid_area": null,
            "grid_auto_columns": null,
            "grid_auto_flow": null,
            "grid_auto_rows": null,
            "grid_column": null,
            "grid_gap": null,
            "grid_row": null,
            "grid_template_areas": null,
            "grid_template_columns": null,
            "grid_template_rows": null,
            "height": null,
            "justify_content": null,
            "justify_items": null,
            "left": null,
            "margin": null,
            "max_height": null,
            "max_width": null,
            "min_height": null,
            "min_width": null,
            "object_fit": null,
            "object_position": null,
            "order": null,
            "overflow": null,
            "overflow_x": null,
            "overflow_y": null,
            "padding": null,
            "right": null,
            "top": null,
            "visibility": null,
            "width": null
          }
        },
        "9e6da469a18b476fa715f4bf22ca813e": {
          "model_module": "@jupyter-widgets/controls",
          "model_name": "DescriptionStyleModel",
          "model_module_version": "1.5.0",
          "state": {
            "_model_module": "@jupyter-widgets/controls",
            "_model_module_version": "1.5.0",
            "_model_name": "DescriptionStyleModel",
            "_view_count": null,
            "_view_module": "@jupyter-widgets/base",
            "_view_module_version": "1.2.0",
            "_view_name": "StyleView",
            "description_width": ""
          }
        },
        "dd8f84eae3b74486bd7438165b37a966": {
          "model_module": "@jupyter-widgets/controls",
          "model_name": "HBoxModel",
          "model_module_version": "1.5.0",
          "state": {
            "_dom_classes": [],
            "_model_module": "@jupyter-widgets/controls",
            "_model_module_version": "1.5.0",
            "_model_name": "HBoxModel",
            "_view_count": null,
            "_view_module": "@jupyter-widgets/controls",
            "_view_module_version": "1.5.0",
            "_view_name": "HBoxView",
            "box_style": "",
            "children": [
              "IPY_MODEL_92958aa36de7421eb912a8e200c9ed6b",
              "IPY_MODEL_cf559cb2f92d4b5db6bfcd9a35e8f75a",
              "IPY_MODEL_9383a6c87b164b96872b35fb103e86a4"
            ],
            "layout": "IPY_MODEL_c289b608b63f428c89c7caf73fa7a0b7"
          }
        },
        "92958aa36de7421eb912a8e200c9ed6b": {
          "model_module": "@jupyter-widgets/controls",
          "model_name": "HTMLModel",
          "model_module_version": "1.5.0",
          "state": {
            "_dom_classes": [],
            "_model_module": "@jupyter-widgets/controls",
            "_model_module_version": "1.5.0",
            "_model_name": "HTMLModel",
            "_view_count": null,
            "_view_module": "@jupyter-widgets/controls",
            "_view_module_version": "1.5.0",
            "_view_name": "HTMLView",
            "description": "",
            "description_tooltip": null,
            "layout": "IPY_MODEL_62d2811a9e3a4f08b8b1197c77163acd",
            "placeholder": "​",
            "style": "IPY_MODEL_73975def862e49c995804b7f37f4387b",
            "value": "tokenizer.json: 100%"
          }
        },
        "cf559cb2f92d4b5db6bfcd9a35e8f75a": {
          "model_module": "@jupyter-widgets/controls",
          "model_name": "FloatProgressModel",
          "model_module_version": "1.5.0",
          "state": {
            "_dom_classes": [],
            "_model_module": "@jupyter-widgets/controls",
            "_model_module_version": "1.5.0",
            "_model_name": "FloatProgressModel",
            "_view_count": null,
            "_view_module": "@jupyter-widgets/controls",
            "_view_module_version": "1.5.0",
            "_view_name": "ProgressView",
            "bar_style": "success",
            "description": "",
            "description_tooltip": null,
            "layout": "IPY_MODEL_a4886ab7658c4a0bae07d40fc995fc2f",
            "max": 1961828,
            "min": 0,
            "orientation": "horizontal",
            "style": "IPY_MODEL_ef7d33b370894a158ec6d3e2ec7b4905",
            "value": 1961828
          }
        },
        "9383a6c87b164b96872b35fb103e86a4": {
          "model_module": "@jupyter-widgets/controls",
          "model_name": "HTMLModel",
          "model_module_version": "1.5.0",
          "state": {
            "_dom_classes": [],
            "_model_module": "@jupyter-widgets/controls",
            "_model_module_version": "1.5.0",
            "_model_name": "HTMLModel",
            "_view_count": null,
            "_view_module": "@jupyter-widgets/controls",
            "_view_module_version": "1.5.0",
            "_view_name": "HTMLView",
            "description": "",
            "description_tooltip": null,
            "layout": "IPY_MODEL_59263e781373444bb291f54d4461f25b",
            "placeholder": "​",
            "style": "IPY_MODEL_4cf42a1b1f734dbc91382849f916a9a6",
            "value": " 1.96M/1.96M [00:00&lt;00:00, 6.84MB/s]"
          }
        },
        "c289b608b63f428c89c7caf73fa7a0b7": {
          "model_module": "@jupyter-widgets/base",
          "model_name": "LayoutModel",
          "model_module_version": "1.2.0",
          "state": {
            "_model_module": "@jupyter-widgets/base",
            "_model_module_version": "1.2.0",
            "_model_name": "LayoutModel",
            "_view_count": null,
            "_view_module": "@jupyter-widgets/base",
            "_view_module_version": "1.2.0",
            "_view_name": "LayoutView",
            "align_content": null,
            "align_items": null,
            "align_self": null,
            "border": null,
            "bottom": null,
            "display": null,
            "flex": null,
            "flex_flow": null,
            "grid_area": null,
            "grid_auto_columns": null,
            "grid_auto_flow": null,
            "grid_auto_rows": null,
            "grid_column": null,
            "grid_gap": null,
            "grid_row": null,
            "grid_template_areas": null,
            "grid_template_columns": null,
            "grid_template_rows": null,
            "height": null,
            "justify_content": null,
            "justify_items": null,
            "left": null,
            "margin": null,
            "max_height": null,
            "max_width": null,
            "min_height": null,
            "min_width": null,
            "object_fit": null,
            "object_position": null,
            "order": null,
            "overflow": null,
            "overflow_x": null,
            "overflow_y": null,
            "padding": null,
            "right": null,
            "top": null,
            "visibility": null,
            "width": null
          }
        },
        "62d2811a9e3a4f08b8b1197c77163acd": {
          "model_module": "@jupyter-widgets/base",
          "model_name": "LayoutModel",
          "model_module_version": "1.2.0",
          "state": {
            "_model_module": "@jupyter-widgets/base",
            "_model_module_version": "1.2.0",
            "_model_name": "LayoutModel",
            "_view_count": null,
            "_view_module": "@jupyter-widgets/base",
            "_view_module_version": "1.2.0",
            "_view_name": "LayoutView",
            "align_content": null,
            "align_items": null,
            "align_self": null,
            "border": null,
            "bottom": null,
            "display": null,
            "flex": null,
            "flex_flow": null,
            "grid_area": null,
            "grid_auto_columns": null,
            "grid_auto_flow": null,
            "grid_auto_rows": null,
            "grid_column": null,
            "grid_gap": null,
            "grid_row": null,
            "grid_template_areas": null,
            "grid_template_columns": null,
            "grid_template_rows": null,
            "height": null,
            "justify_content": null,
            "justify_items": null,
            "left": null,
            "margin": null,
            "max_height": null,
            "max_width": null,
            "min_height": null,
            "min_width": null,
            "object_fit": null,
            "object_position": null,
            "order": null,
            "overflow": null,
            "overflow_x": null,
            "overflow_y": null,
            "padding": null,
            "right": null,
            "top": null,
            "visibility": null,
            "width": null
          }
        },
        "73975def862e49c995804b7f37f4387b": {
          "model_module": "@jupyter-widgets/controls",
          "model_name": "DescriptionStyleModel",
          "model_module_version": "1.5.0",
          "state": {
            "_model_module": "@jupyter-widgets/controls",
            "_model_module_version": "1.5.0",
            "_model_name": "DescriptionStyleModel",
            "_view_count": null,
            "_view_module": "@jupyter-widgets/base",
            "_view_module_version": "1.2.0",
            "_view_name": "StyleView",
            "description_width": ""
          }
        },
        "a4886ab7658c4a0bae07d40fc995fc2f": {
          "model_module": "@jupyter-widgets/base",
          "model_name": "LayoutModel",
          "model_module_version": "1.2.0",
          "state": {
            "_model_module": "@jupyter-widgets/base",
            "_model_module_version": "1.2.0",
            "_model_name": "LayoutModel",
            "_view_count": null,
            "_view_module": "@jupyter-widgets/base",
            "_view_module_version": "1.2.0",
            "_view_name": "LayoutView",
            "align_content": null,
            "align_items": null,
            "align_self": null,
            "border": null,
            "bottom": null,
            "display": null,
            "flex": null,
            "flex_flow": null,
            "grid_area": null,
            "grid_auto_columns": null,
            "grid_auto_flow": null,
            "grid_auto_rows": null,
            "grid_column": null,
            "grid_gap": null,
            "grid_row": null,
            "grid_template_areas": null,
            "grid_template_columns": null,
            "grid_template_rows": null,
            "height": null,
            "justify_content": null,
            "justify_items": null,
            "left": null,
            "margin": null,
            "max_height": null,
            "max_width": null,
            "min_height": null,
            "min_width": null,
            "object_fit": null,
            "object_position": null,
            "order": null,
            "overflow": null,
            "overflow_x": null,
            "overflow_y": null,
            "padding": null,
            "right": null,
            "top": null,
            "visibility": null,
            "width": null
          }
        },
        "ef7d33b370894a158ec6d3e2ec7b4905": {
          "model_module": "@jupyter-widgets/controls",
          "model_name": "ProgressStyleModel",
          "model_module_version": "1.5.0",
          "state": {
            "_model_module": "@jupyter-widgets/controls",
            "_model_module_version": "1.5.0",
            "_model_name": "ProgressStyleModel",
            "_view_count": null,
            "_view_module": "@jupyter-widgets/base",
            "_view_module_version": "1.2.0",
            "_view_name": "StyleView",
            "bar_color": null,
            "description_width": ""
          }
        },
        "59263e781373444bb291f54d4461f25b": {
          "model_module": "@jupyter-widgets/base",
          "model_name": "LayoutModel",
          "model_module_version": "1.2.0",
          "state": {
            "_model_module": "@jupyter-widgets/base",
            "_model_module_version": "1.2.0",
            "_model_name": "LayoutModel",
            "_view_count": null,
            "_view_module": "@jupyter-widgets/base",
            "_view_module_version": "1.2.0",
            "_view_name": "LayoutView",
            "align_content": null,
            "align_items": null,
            "align_self": null,
            "border": null,
            "bottom": null,
            "display": null,
            "flex": null,
            "flex_flow": null,
            "grid_area": null,
            "grid_auto_columns": null,
            "grid_auto_flow": null,
            "grid_auto_rows": null,
            "grid_column": null,
            "grid_gap": null,
            "grid_row": null,
            "grid_template_areas": null,
            "grid_template_columns": null,
            "grid_template_rows": null,
            "height": null,
            "justify_content": null,
            "justify_items": null,
            "left": null,
            "margin": null,
            "max_height": null,
            "max_width": null,
            "min_height": null,
            "min_width": null,
            "object_fit": null,
            "object_position": null,
            "order": null,
            "overflow": null,
            "overflow_x": null,
            "overflow_y": null,
            "padding": null,
            "right": null,
            "top": null,
            "visibility": null,
            "width": null
          }
        },
        "4cf42a1b1f734dbc91382849f916a9a6": {
          "model_module": "@jupyter-widgets/controls",
          "model_name": "DescriptionStyleModel",
          "model_module_version": "1.5.0",
          "state": {
            "_model_module": "@jupyter-widgets/controls",
            "_model_module_version": "1.5.0",
            "_model_name": "DescriptionStyleModel",
            "_view_count": null,
            "_view_module": "@jupyter-widgets/base",
            "_view_module_version": "1.2.0",
            "_view_name": "StyleView",
            "description_width": ""
          }
        },
        "41c8cf1537d64ecf83594e7806c29fd1": {
          "model_module": "@jupyter-widgets/controls",
          "model_name": "HBoxModel",
          "model_module_version": "1.5.0",
          "state": {
            "_dom_classes": [],
            "_model_module": "@jupyter-widgets/controls",
            "_model_module_version": "1.5.0",
            "_model_name": "HBoxModel",
            "_view_count": null,
            "_view_module": "@jupyter-widgets/controls",
            "_view_module_version": "1.5.0",
            "_view_name": "HBoxView",
            "box_style": "",
            "children": [
              "IPY_MODEL_788c3b6231e24f03aa2e60d0e65216d4",
              "IPY_MODEL_5bec989d1fcb4e58b2f5c7c32a33d5f9",
              "IPY_MODEL_de3fb5f6ff004c2884d2759c0f1b4ba1"
            ],
            "layout": "IPY_MODEL_4fdb9bbcd0234f559c6fbc501f486389"
          }
        },
        "788c3b6231e24f03aa2e60d0e65216d4": {
          "model_module": "@jupyter-widgets/controls",
          "model_name": "HTMLModel",
          "model_module_version": "1.5.0",
          "state": {
            "_dom_classes": [],
            "_model_module": "@jupyter-widgets/controls",
            "_model_module_version": "1.5.0",
            "_model_name": "HTMLModel",
            "_view_count": null,
            "_view_module": "@jupyter-widgets/controls",
            "_view_module_version": "1.5.0",
            "_view_name": "HTMLView",
            "description": "",
            "description_tooltip": null,
            "layout": "IPY_MODEL_67009622e6e049fc8d0e8e8535938948",
            "placeholder": "​",
            "style": "IPY_MODEL_c4f0307be858425887efc3e1a5fcd32b",
            "value": "config.json: 100%"
          }
        },
        "5bec989d1fcb4e58b2f5c7c32a33d5f9": {
          "model_module": "@jupyter-widgets/controls",
          "model_name": "FloatProgressModel",
          "model_module_version": "1.5.0",
          "state": {
            "_dom_classes": [],
            "_model_module": "@jupyter-widgets/controls",
            "_model_module_version": "1.5.0",
            "_model_name": "FloatProgressModel",
            "_view_count": null,
            "_view_module": "@jupyter-widgets/controls",
            "_view_module_version": "1.5.0",
            "_view_name": "ProgressView",
            "bar_style": "success",
            "description": "",
            "description_tooltip": null,
            "layout": "IPY_MODEL_bc1f6795219b4afda3423f1516c5e306",
            "max": 625,
            "min": 0,
            "orientation": "horizontal",
            "style": "IPY_MODEL_8eed89434c4f44e8ae296db8ef1280e2",
            "value": 625
          }
        },
        "de3fb5f6ff004c2884d2759c0f1b4ba1": {
          "model_module": "@jupyter-widgets/controls",
          "model_name": "HTMLModel",
          "model_module_version": "1.5.0",
          "state": {
            "_dom_classes": [],
            "_model_module": "@jupyter-widgets/controls",
            "_model_module_version": "1.5.0",
            "_model_name": "HTMLModel",
            "_view_count": null,
            "_view_module": "@jupyter-widgets/controls",
            "_view_module_version": "1.5.0",
            "_view_name": "HTMLView",
            "description": "",
            "description_tooltip": null,
            "layout": "IPY_MODEL_df3fdc81775a4a6bbaad16267a578467",
            "placeholder": "​",
            "style": "IPY_MODEL_a793fd75d9e147c59d91cc2ab126024e",
            "value": " 625/625 [00:00&lt;00:00, 6.23kB/s]"
          }
        },
        "4fdb9bbcd0234f559c6fbc501f486389": {
          "model_module": "@jupyter-widgets/base",
          "model_name": "LayoutModel",
          "model_module_version": "1.2.0",
          "state": {
            "_model_module": "@jupyter-widgets/base",
            "_model_module_version": "1.2.0",
            "_model_name": "LayoutModel",
            "_view_count": null,
            "_view_module": "@jupyter-widgets/base",
            "_view_module_version": "1.2.0",
            "_view_name": "LayoutView",
            "align_content": null,
            "align_items": null,
            "align_self": null,
            "border": null,
            "bottom": null,
            "display": null,
            "flex": null,
            "flex_flow": null,
            "grid_area": null,
            "grid_auto_columns": null,
            "grid_auto_flow": null,
            "grid_auto_rows": null,
            "grid_column": null,
            "grid_gap": null,
            "grid_row": null,
            "grid_template_areas": null,
            "grid_template_columns": null,
            "grid_template_rows": null,
            "height": null,
            "justify_content": null,
            "justify_items": null,
            "left": null,
            "margin": null,
            "max_height": null,
            "max_width": null,
            "min_height": null,
            "min_width": null,
            "object_fit": null,
            "object_position": null,
            "order": null,
            "overflow": null,
            "overflow_x": null,
            "overflow_y": null,
            "padding": null,
            "right": null,
            "top": null,
            "visibility": null,
            "width": null
          }
        },
        "67009622e6e049fc8d0e8e8535938948": {
          "model_module": "@jupyter-widgets/base",
          "model_name": "LayoutModel",
          "model_module_version": "1.2.0",
          "state": {
            "_model_module": "@jupyter-widgets/base",
            "_model_module_version": "1.2.0",
            "_model_name": "LayoutModel",
            "_view_count": null,
            "_view_module": "@jupyter-widgets/base",
            "_view_module_version": "1.2.0",
            "_view_name": "LayoutView",
            "align_content": null,
            "align_items": null,
            "align_self": null,
            "border": null,
            "bottom": null,
            "display": null,
            "flex": null,
            "flex_flow": null,
            "grid_area": null,
            "grid_auto_columns": null,
            "grid_auto_flow": null,
            "grid_auto_rows": null,
            "grid_column": null,
            "grid_gap": null,
            "grid_row": null,
            "grid_template_areas": null,
            "grid_template_columns": null,
            "grid_template_rows": null,
            "height": null,
            "justify_content": null,
            "justify_items": null,
            "left": null,
            "margin": null,
            "max_height": null,
            "max_width": null,
            "min_height": null,
            "min_width": null,
            "object_fit": null,
            "object_position": null,
            "order": null,
            "overflow": null,
            "overflow_x": null,
            "overflow_y": null,
            "padding": null,
            "right": null,
            "top": null,
            "visibility": null,
            "width": null
          }
        },
        "c4f0307be858425887efc3e1a5fcd32b": {
          "model_module": "@jupyter-widgets/controls",
          "model_name": "DescriptionStyleModel",
          "model_module_version": "1.5.0",
          "state": {
            "_model_module": "@jupyter-widgets/controls",
            "_model_module_version": "1.5.0",
            "_model_name": "DescriptionStyleModel",
            "_view_count": null,
            "_view_module": "@jupyter-widgets/base",
            "_view_module_version": "1.2.0",
            "_view_name": "StyleView",
            "description_width": ""
          }
        },
        "bc1f6795219b4afda3423f1516c5e306": {
          "model_module": "@jupyter-widgets/base",
          "model_name": "LayoutModel",
          "model_module_version": "1.2.0",
          "state": {
            "_model_module": "@jupyter-widgets/base",
            "_model_module_version": "1.2.0",
            "_model_name": "LayoutModel",
            "_view_count": null,
            "_view_module": "@jupyter-widgets/base",
            "_view_module_version": "1.2.0",
            "_view_name": "LayoutView",
            "align_content": null,
            "align_items": null,
            "align_self": null,
            "border": null,
            "bottom": null,
            "display": null,
            "flex": null,
            "flex_flow": null,
            "grid_area": null,
            "grid_auto_columns": null,
            "grid_auto_flow": null,
            "grid_auto_rows": null,
            "grid_column": null,
            "grid_gap": null,
            "grid_row": null,
            "grid_template_areas": null,
            "grid_template_columns": null,
            "grid_template_rows": null,
            "height": null,
            "justify_content": null,
            "justify_items": null,
            "left": null,
            "margin": null,
            "max_height": null,
            "max_width": null,
            "min_height": null,
            "min_width": null,
            "object_fit": null,
            "object_position": null,
            "order": null,
            "overflow": null,
            "overflow_x": null,
            "overflow_y": null,
            "padding": null,
            "right": null,
            "top": null,
            "visibility": null,
            "width": null
          }
        },
        "8eed89434c4f44e8ae296db8ef1280e2": {
          "model_module": "@jupyter-widgets/controls",
          "model_name": "ProgressStyleModel",
          "model_module_version": "1.5.0",
          "state": {
            "_model_module": "@jupyter-widgets/controls",
            "_model_module_version": "1.5.0",
            "_model_name": "ProgressStyleModel",
            "_view_count": null,
            "_view_module": "@jupyter-widgets/base",
            "_view_module_version": "1.2.0",
            "_view_name": "StyleView",
            "bar_color": null,
            "description_width": ""
          }
        },
        "df3fdc81775a4a6bbaad16267a578467": {
          "model_module": "@jupyter-widgets/base",
          "model_name": "LayoutModel",
          "model_module_version": "1.2.0",
          "state": {
            "_model_module": "@jupyter-widgets/base",
            "_model_module_version": "1.2.0",
            "_model_name": "LayoutModel",
            "_view_count": null,
            "_view_module": "@jupyter-widgets/base",
            "_view_module_version": "1.2.0",
            "_view_name": "LayoutView",
            "align_content": null,
            "align_items": null,
            "align_self": null,
            "border": null,
            "bottom": null,
            "display": null,
            "flex": null,
            "flex_flow": null,
            "grid_area": null,
            "grid_auto_columns": null,
            "grid_auto_flow": null,
            "grid_auto_rows": null,
            "grid_column": null,
            "grid_gap": null,
            "grid_row": null,
            "grid_template_areas": null,
            "grid_template_columns": null,
            "grid_template_rows": null,
            "height": null,
            "justify_content": null,
            "justify_items": null,
            "left": null,
            "margin": null,
            "max_height": null,
            "max_width": null,
            "min_height": null,
            "min_width": null,
            "object_fit": null,
            "object_position": null,
            "order": null,
            "overflow": null,
            "overflow_x": null,
            "overflow_y": null,
            "padding": null,
            "right": null,
            "top": null,
            "visibility": null,
            "width": null
          }
        },
        "a793fd75d9e147c59d91cc2ab126024e": {
          "model_module": "@jupyter-widgets/controls",
          "model_name": "DescriptionStyleModel",
          "model_module_version": "1.5.0",
          "state": {
            "_model_module": "@jupyter-widgets/controls",
            "_model_module_version": "1.5.0",
            "_model_name": "DescriptionStyleModel",
            "_view_count": null,
            "_view_module": "@jupyter-widgets/base",
            "_view_module_version": "1.2.0",
            "_view_name": "StyleView",
            "description_width": ""
          }
        },
        "2c16f81378ce4691a82f0feb3d67969d": {
          "model_module": "@jupyter-widgets/controls",
          "model_name": "HBoxModel",
          "model_module_version": "1.5.0",
          "state": {
            "_dom_classes": [],
            "_model_module": "@jupyter-widgets/controls",
            "_model_module_version": "1.5.0",
            "_model_name": "HBoxModel",
            "_view_count": null,
            "_view_module": "@jupyter-widgets/controls",
            "_view_module_version": "1.5.0",
            "_view_name": "HBoxView",
            "box_style": "",
            "children": [
              "IPY_MODEL_346d1786737c407d92077cf2861b1e7c",
              "IPY_MODEL_7ae7c72025db46c992209e1529b47258",
              "IPY_MODEL_f0f0b2116a1f488a8a4dc1f3c71057cf"
            ],
            "layout": "IPY_MODEL_a6bc784be41945dbb1fab5aee3dd2361"
          }
        },
        "346d1786737c407d92077cf2861b1e7c": {
          "model_module": "@jupyter-widgets/controls",
          "model_name": "HTMLModel",
          "model_module_version": "1.5.0",
          "state": {
            "_dom_classes": [],
            "_model_module": "@jupyter-widgets/controls",
            "_model_module_version": "1.5.0",
            "_model_name": "HTMLModel",
            "_view_count": null,
            "_view_module": "@jupyter-widgets/controls",
            "_view_module_version": "1.5.0",
            "_view_name": "HTMLView",
            "description": "",
            "description_tooltip": null,
            "layout": "IPY_MODEL_e527a19e38eb44fcab2d4fd1341f96ee",
            "placeholder": "​",
            "style": "IPY_MODEL_7a6863c48b084e1b9c853d796061c1ec",
            "value": "model.safetensors: 100%"
          }
        },
        "7ae7c72025db46c992209e1529b47258": {
          "model_module": "@jupyter-widgets/controls",
          "model_name": "FloatProgressModel",
          "model_module_version": "1.5.0",
          "state": {
            "_dom_classes": [],
            "_model_module": "@jupyter-widgets/controls",
            "_model_module_version": "1.5.0",
            "_model_name": "FloatProgressModel",
            "_view_count": null,
            "_view_module": "@jupyter-widgets/controls",
            "_view_module_version": "1.5.0",
            "_view_name": "ProgressView",
            "bar_style": "success",
            "description": "",
            "description_tooltip": null,
            "layout": "IPY_MODEL_419acfaf43d14a949c5a389d61156a64",
            "max": 714290682,
            "min": 0,
            "orientation": "horizontal",
            "style": "IPY_MODEL_d86b369b737040dd997204d6c5faa36c",
            "value": 714290682
          }
        },
        "f0f0b2116a1f488a8a4dc1f3c71057cf": {
          "model_module": "@jupyter-widgets/controls",
          "model_name": "HTMLModel",
          "model_module_version": "1.5.0",
          "state": {
            "_dom_classes": [],
            "_model_module": "@jupyter-widgets/controls",
            "_model_module_version": "1.5.0",
            "_model_name": "HTMLModel",
            "_view_count": null,
            "_view_module": "@jupyter-widgets/controls",
            "_view_module_version": "1.5.0",
            "_view_name": "HTMLView",
            "description": "",
            "description_tooltip": null,
            "layout": "IPY_MODEL_c8747cde138c455ea41027872063786e",
            "placeholder": "​",
            "style": "IPY_MODEL_b4c6e4657be948e9a4dacff94a994c64",
            "value": " 714M/714M [00:06&lt;00:00, 99.1MB/s]"
          }
        },
        "a6bc784be41945dbb1fab5aee3dd2361": {
          "model_module": "@jupyter-widgets/base",
          "model_name": "LayoutModel",
          "model_module_version": "1.2.0",
          "state": {
            "_model_module": "@jupyter-widgets/base",
            "_model_module_version": "1.2.0",
            "_model_name": "LayoutModel",
            "_view_count": null,
            "_view_module": "@jupyter-widgets/base",
            "_view_module_version": "1.2.0",
            "_view_name": "LayoutView",
            "align_content": null,
            "align_items": null,
            "align_self": null,
            "border": null,
            "bottom": null,
            "display": null,
            "flex": null,
            "flex_flow": null,
            "grid_area": null,
            "grid_auto_columns": null,
            "grid_auto_flow": null,
            "grid_auto_rows": null,
            "grid_column": null,
            "grid_gap": null,
            "grid_row": null,
            "grid_template_areas": null,
            "grid_template_columns": null,
            "grid_template_rows": null,
            "height": null,
            "justify_content": null,
            "justify_items": null,
            "left": null,
            "margin": null,
            "max_height": null,
            "max_width": null,
            "min_height": null,
            "min_width": null,
            "object_fit": null,
            "object_position": null,
            "order": null,
            "overflow": null,
            "overflow_x": null,
            "overflow_y": null,
            "padding": null,
            "right": null,
            "top": null,
            "visibility": null,
            "width": null
          }
        },
        "e527a19e38eb44fcab2d4fd1341f96ee": {
          "model_module": "@jupyter-widgets/base",
          "model_name": "LayoutModel",
          "model_module_version": "1.2.0",
          "state": {
            "_model_module": "@jupyter-widgets/base",
            "_model_module_version": "1.2.0",
            "_model_name": "LayoutModel",
            "_view_count": null,
            "_view_module": "@jupyter-widgets/base",
            "_view_module_version": "1.2.0",
            "_view_name": "LayoutView",
            "align_content": null,
            "align_items": null,
            "align_self": null,
            "border": null,
            "bottom": null,
            "display": null,
            "flex": null,
            "flex_flow": null,
            "grid_area": null,
            "grid_auto_columns": null,
            "grid_auto_flow": null,
            "grid_auto_rows": null,
            "grid_column": null,
            "grid_gap": null,
            "grid_row": null,
            "grid_template_areas": null,
            "grid_template_columns": null,
            "grid_template_rows": null,
            "height": null,
            "justify_content": null,
            "justify_items": null,
            "left": null,
            "margin": null,
            "max_height": null,
            "max_width": null,
            "min_height": null,
            "min_width": null,
            "object_fit": null,
            "object_position": null,
            "order": null,
            "overflow": null,
            "overflow_x": null,
            "overflow_y": null,
            "padding": null,
            "right": null,
            "top": null,
            "visibility": null,
            "width": null
          }
        },
        "7a6863c48b084e1b9c853d796061c1ec": {
          "model_module": "@jupyter-widgets/controls",
          "model_name": "DescriptionStyleModel",
          "model_module_version": "1.5.0",
          "state": {
            "_model_module": "@jupyter-widgets/controls",
            "_model_module_version": "1.5.0",
            "_model_name": "DescriptionStyleModel",
            "_view_count": null,
            "_view_module": "@jupyter-widgets/base",
            "_view_module_version": "1.2.0",
            "_view_name": "StyleView",
            "description_width": ""
          }
        },
        "419acfaf43d14a949c5a389d61156a64": {
          "model_module": "@jupyter-widgets/base",
          "model_name": "LayoutModel",
          "model_module_version": "1.2.0",
          "state": {
            "_model_module": "@jupyter-widgets/base",
            "_model_module_version": "1.2.0",
            "_model_name": "LayoutModel",
            "_view_count": null,
            "_view_module": "@jupyter-widgets/base",
            "_view_module_version": "1.2.0",
            "_view_name": "LayoutView",
            "align_content": null,
            "align_items": null,
            "align_self": null,
            "border": null,
            "bottom": null,
            "display": null,
            "flex": null,
            "flex_flow": null,
            "grid_area": null,
            "grid_auto_columns": null,
            "grid_auto_flow": null,
            "grid_auto_rows": null,
            "grid_column": null,
            "grid_gap": null,
            "grid_row": null,
            "grid_template_areas": null,
            "grid_template_columns": null,
            "grid_template_rows": null,
            "height": null,
            "justify_content": null,
            "justify_items": null,
            "left": null,
            "margin": null,
            "max_height": null,
            "max_width": null,
            "min_height": null,
            "min_width": null,
            "object_fit": null,
            "object_position": null,
            "order": null,
            "overflow": null,
            "overflow_x": null,
            "overflow_y": null,
            "padding": null,
            "right": null,
            "top": null,
            "visibility": null,
            "width": null
          }
        },
        "d86b369b737040dd997204d6c5faa36c": {
          "model_module": "@jupyter-widgets/controls",
          "model_name": "ProgressStyleModel",
          "model_module_version": "1.5.0",
          "state": {
            "_model_module": "@jupyter-widgets/controls",
            "_model_module_version": "1.5.0",
            "_model_name": "ProgressStyleModel",
            "_view_count": null,
            "_view_module": "@jupyter-widgets/base",
            "_view_module_version": "1.2.0",
            "_view_name": "StyleView",
            "bar_color": null,
            "description_width": ""
          }
        },
        "c8747cde138c455ea41027872063786e": {
          "model_module": "@jupyter-widgets/base",
          "model_name": "LayoutModel",
          "model_module_version": "1.2.0",
          "state": {
            "_model_module": "@jupyter-widgets/base",
            "_model_module_version": "1.2.0",
            "_model_name": "LayoutModel",
            "_view_count": null,
            "_view_module": "@jupyter-widgets/base",
            "_view_module_version": "1.2.0",
            "_view_name": "LayoutView",
            "align_content": null,
            "align_items": null,
            "align_self": null,
            "border": null,
            "bottom": null,
            "display": null,
            "flex": null,
            "flex_flow": null,
            "grid_area": null,
            "grid_auto_columns": null,
            "grid_auto_flow": null,
            "grid_auto_rows": null,
            "grid_column": null,
            "grid_gap": null,
            "grid_row": null,
            "grid_template_areas": null,
            "grid_template_columns": null,
            "grid_template_rows": null,
            "height": null,
            "justify_content": null,
            "justify_items": null,
            "left": null,
            "margin": null,
            "max_height": null,
            "max_width": null,
            "min_height": null,
            "min_width": null,
            "object_fit": null,
            "object_position": null,
            "order": null,
            "overflow": null,
            "overflow_x": null,
            "overflow_y": null,
            "padding": null,
            "right": null,
            "top": null,
            "visibility": null,
            "width": null
          }
        },
        "b4c6e4657be948e9a4dacff94a994c64": {
          "model_module": "@jupyter-widgets/controls",
          "model_name": "DescriptionStyleModel",
          "model_module_version": "1.5.0",
          "state": {
            "_model_module": "@jupyter-widgets/controls",
            "_model_module_version": "1.5.0",
            "_model_name": "DescriptionStyleModel",
            "_view_count": null,
            "_view_module": "@jupyter-widgets/base",
            "_view_module_version": "1.2.0",
            "_view_name": "StyleView",
            "description_width": ""
          }
        }
      }
    }
  },
  "cells": [
    {
      "cell_type": "code",
      "source": [
        "!pip install -q transformers==4.37.2"
      ],
      "metadata": {
        "id": "oTl7ifYRLpBI",
        "colab": {
          "base_uri": "https://localhost:8080/"
        },
        "outputId": "d6181610-b7d4-44c5-a494-261106db34a4"
      },
      "execution_count": 1,
      "outputs": [
        {
          "output_type": "stream",
          "name": "stdout",
          "text": [
            "\u001b[2K     \u001b[90m━━━━━━━━━━━━━━━━━━━━━━━━━━━━━━━━━━━━━━━━\u001b[0m \u001b[32m8.4/8.4 MB\u001b[0m \u001b[31m18.0 MB/s\u001b[0m eta \u001b[36m0:00:00\u001b[0m\n",
            "\u001b[?25h"
          ]
        }
      ]
    },
    {
      "cell_type": "code",
      "source": [
        "!pip install pydot"
      ],
      "metadata": {
        "colab": {
          "base_uri": "https://localhost:8080/"
        },
        "id": "IZuHVbllRnzs",
        "outputId": "5c924ba5-4791-46fe-e943-82bbd1dde269"
      },
      "execution_count": 2,
      "outputs": [
        {
          "output_type": "stream",
          "name": "stdout",
          "text": [
            "Requirement already satisfied: pydot in /usr/local/lib/python3.10/dist-packages (1.4.2)\n",
            "Requirement already satisfied: pyparsing>=2.1.4 in /usr/local/lib/python3.10/dist-packages (from pydot) (3.1.2)\n"
          ]
        }
      ]
    },
    {
      "cell_type": "code",
      "source": [
        "from transformers import BertTokenizer, TFBertModel"
      ],
      "metadata": {
        "id": "bSbCMTLaRuVR"
      },
      "execution_count": 3,
      "outputs": []
    },
    {
      "cell_type": "code",
      "source": [
        "from sklearn.datasets import fetch_20newsgroups\n",
        "from sklearn.model_selection import train_test_split\n",
        "from sklearn.metrics import classification_report"
      ],
      "metadata": {
        "id": "iwsORDcURpTj"
      },
      "execution_count": 4,
      "outputs": []
    },
    {
      "cell_type": "code",
      "source": [
        "from collections import Counter\n",
        "import numpy as np\n",
        "import tensorflow as tf\n",
        "from tensorflow import keras\n",
        "\n",
        "import seaborn as sns\n",
        "import matplotlib.pyplot as plt\n",
        "from pprint import pprint"
      ],
      "metadata": {
        "id": "6LKehb4PRsNy"
      },
      "execution_count": 5,
      "outputs": []
    },
    {
      "cell_type": "code",
      "source": [
        "import json\n",
        "from transformers import BertTokenizer, TFBertModel\n",
        "import tensorflow as tf\n",
        "# Load JSONL dataset\n",
        "data = []\n",
        "train_texts=[]\n",
        "train_labels=[]\n",
        "train_targets=[]\n",
        "# get train example and label\n",
        "with open('train.json', 'r') as f:\n",
        "    for line in f:\n",
        "      text=json.loads(line)\n",
        "      data.append(text)\n",
        "      train_texts.append(text['sentence_normalized'])\n",
        "      polarity=int(text['targets'][0]['polarity'])\n",
        "      this_polarity = -1\n",
        "      if polarity==2:\n",
        "        this_polarity = 0\n",
        "      elif polarity==4:\n",
        "        this_polarity = 1\n",
        "      elif polarity==6:\n",
        "        this_polarity = 2\n",
        "      else:\n",
        "        print('error')\n",
        "\n",
        "      train_labels.append(this_polarity)\n",
        "      targets = text['targets']\n",
        "      target_vector = np.zeros(150)\n",
        "\n",
        "      for target in targets:\n",
        "        target_vector[target['from']:target['to']] = this_polarity\n",
        "\n",
        "      train_targets.append(target_vector)\n",
        "\n",
        "\n",
        "\n",
        "\n",
        "\n",
        "\n",
        "\n",
        "\n",
        "\n",
        "\n",
        "\n",
        "\n",
        "# Preprocess Data and Tokenization\n",
        "\n",
        "\n",
        "\n",
        "#print(data[0])\n"
      ],
      "metadata": {
        "id": "sxFAy2k2S7Y_"
      },
      "execution_count": 6,
      "outputs": []
    },
    {
      "cell_type": "code",
      "source": [
        "print(train_texts[2])"
      ],
      "metadata": {
        "id": "H-6RNkNT-F_o",
        "colab": {
          "base_uri": "https://localhost:8080/"
        },
        "outputId": "542444e3-0fed-4309-e23f-80efbbb06a97"
      },
      "execution_count": 7,
      "outputs": [
        {
          "output_type": "stream",
          "name": "stdout",
          "text": [
            "Für La Stampa ist es seit dem Treffen von Monti, Merkel, Hollande und Rajoy in Rom am 22. Juni klar, dass der am Donnerstag beginnende Gipfel „die erste schwere Prüfung sein wird, mit der die europäischen Staats- und Regierungschefs versuchen werden, eine neue Währungsunion zu gründen und, wer weiß, zu starten“:\n",
            "\n"
          ]
        }
      ]
    },
    {
      "cell_type": "code",
      "source": [
        "\n",
        "# Load JSONL dataset\n",
        "data_test = []\n",
        "test_texts=[]\n",
        "test_labels=[]\n",
        "test_targets=[]\n",
        "# get test example and label\n",
        "with open('test.jsonl', 'r') as f:\n",
        "    for line in f:\n",
        "      text=json.loads(line)\n",
        "      data_test.append(text)\n",
        "      test_texts.append(text['sentence_normalized'])\n",
        "      polarity=int(text['targets'][0]['polarity'])\n",
        "      this_polarity = -1\n",
        "      if polarity==2:\n",
        "        this_polarity = 0\n",
        "      elif polarity==4:\n",
        "        this_polarity = 1\n",
        "      elif polarity==6:\n",
        "        this_polarity = 2\n",
        "      else:\n",
        "        print('error')\n",
        "\n",
        "      test_labels.append(this_polarity)\n",
        "      targets = text['targets']\n",
        "      target_vector = np.zeros(150)\n",
        "\n",
        "      for target in targets:\n",
        "        target_vector[target['from']:target['to']] = this_polarity\n",
        "\n",
        "      test_targets.append(target_vector)\n"
      ],
      "metadata": {
        "id": "tw6CQGosVq7j"
      },
      "execution_count": 8,
      "outputs": []
    },
    {
      "cell_type": "code",
      "source": [
        "print(len(test_texts))"
      ],
      "metadata": {
        "id": "bZoXAhvb6eTY",
        "colab": {
          "base_uri": "https://localhost:8080/"
        },
        "outputId": "ee10c26a-1d31-4788-b993-656b6b034235"
      },
      "execution_count": 9,
      "outputs": [
        {
          "output_type": "stream",
          "name": "stdout",
          "text": [
            "1000\n"
          ]
        }
      ]
    },
    {
      "cell_type": "code",
      "source": [
        "# Load JSONL dataset\n",
        "data_vali = []\n",
        "valid_texts=[]\n",
        "valid_labels=[]\n",
        "valid_targets=[]\n",
        "# get valid example and label\n",
        "with open('validation.jsonl', 'r') as f:\n",
        "    for line in f:\n",
        "      text=json.loads(line)\n",
        "      data_vali.append(text)\n",
        "      valid_texts.append(text['sentence_normalized'])\n",
        "      polarity=int(text['targets'][0]['polarity'])\n",
        "      this_polarity = -1\n",
        "      if polarity==2:\n",
        "        this_polarity = 0\n",
        "      elif polarity==4:\n",
        "        this_polarity = 1\n",
        "      elif polarity==6:\n",
        "        this_polarity = 2\n",
        "      else:\n",
        "        print('error')\n",
        "\n",
        "      valid_labels.append(this_polarity)\n",
        "      targets = text['targets']\n",
        "      target_vector = np.zeros(150)\n",
        "\n",
        "      for target in targets:\n",
        "        target_vector[target['from']:target['to']] = this_polarity\n",
        "\n",
        "      valid_targets.append(target_vector)"
      ],
      "metadata": {
        "id": "QTDr6wIVKh9l"
      },
      "execution_count": 10,
      "outputs": []
    },
    {
      "cell_type": "code",
      "source": [
        "print(len(valid_texts))"
      ],
      "metadata": {
        "id": "-qL2KXUT6hMA",
        "colab": {
          "base_uri": "https://localhost:8080/"
        },
        "outputId": "d7f7f40c-93e0-49a6-cf35-4201d744a457"
      },
      "execution_count": 11,
      "outputs": [
        {
          "output_type": "stream",
          "name": "stdout",
          "text": [
            "300\n"
          ]
        }
      ]
    },
    {
      "cell_type": "code",
      "source": [
        "integer_counts = Counter(valid_labels)\n",
        "# Print the summary\n",
        "for integer, count in integer_counts.items():\n",
        "    print(f\"Integer {integer} appears {count} times\")"
      ],
      "metadata": {
        "id": "8EYUigK_YNqI",
        "colab": {
          "base_uri": "https://localhost:8080/"
        },
        "outputId": "744b4017-a066-403d-ecc1-a08f112dd312"
      },
      "execution_count": 12,
      "outputs": [
        {
          "output_type": "stream",
          "name": "stdout",
          "text": [
            "Integer 2 appears 71 times\n",
            "Integer 1 appears 117 times\n",
            "Integer 0 appears 112 times\n"
          ]
        }
      ]
    },
    {
      "cell_type": "code",
      "source": [
        "integer_counts = Counter(test_labels)\n",
        "# Print the summary\n",
        "for integer, count in integer_counts.items():\n",
        "    print(f\"Integer {integer} appears {count} times\")"
      ],
      "metadata": {
        "id": "uACwoXYV6tVY",
        "colab": {
          "base_uri": "https://localhost:8080/"
        },
        "outputId": "4c94e3ea-9cd6-4b2e-e8b6-5f32a2fdbe4f"
      },
      "execution_count": 13,
      "outputs": [
        {
          "output_type": "stream",
          "name": "stdout",
          "text": [
            "Integer 1 appears 401 times\n",
            "Integer 0 appears 364 times\n",
            "Integer 2 appears 235 times\n"
          ]
        }
      ]
    },
    {
      "cell_type": "code",
      "source": [
        "integer_counts = Counter(train_labels)\n",
        "# Print the summary\n",
        "for integer, count in integer_counts.items():\n",
        "    print(f\"Integer {integer} appears {count} times\")"
      ],
      "metadata": {
        "id": "iu8nKXdi6uhJ",
        "colab": {
          "base_uri": "https://localhost:8080/"
        },
        "outputId": "41e1411b-c726-463b-e42a-aad35dbf5215"
      },
      "execution_count": 14,
      "outputs": [
        {
          "output_type": "stream",
          "name": "stdout",
          "text": [
            "Integer 1 appears 1493 times\n",
            "Integer 0 appears 1363 times\n",
            "Integer 2 appears 954 times\n"
          ]
        }
      ]
    },
    {
      "cell_type": "code",
      "source": [
        "#baseline multinomial Naive Bayes\n",
        "from sklearn.feature_extraction.text import CountVectorizer\n",
        "from sklearn.naive_bayes import MultinomialNB\n",
        "from sklearn.pipeline import Pipeline\n",
        "from sklearn.metrics import accuracy_score"
      ],
      "metadata": {
        "id": "7-1okbErzzmA"
      },
      "execution_count": 15,
      "outputs": []
    },
    {
      "cell_type": "code",
      "source": [
        "# Training data\n",
        "\n",
        "# Create a pipeline with CountVectorizer and MultinomialNB\n",
        "pipeline = Pipeline([\n",
        "    ('vect', CountVectorizer()),  # Convert text to word count vectors\n",
        "    ('clf', MultinomialNB()),     # Multinomial Naive Bayes classifier\n",
        "])\n",
        "# Train the model\n",
        "pipeline.fit(train_texts, train_labels)\n",
        "# Test the model\n",
        "# Example test data\n",
        "\n",
        "# Predict sentiment for test data\n",
        "predictions = pipeline.predict(test_texts)\n",
        "print(predictions)"
      ],
      "metadata": {
        "id": "eEPdC_o22FXB",
        "colab": {
          "base_uri": "https://localhost:8080/"
        },
        "outputId": "127fe6e4-e2e0-4155-e28b-44f2cd3acb20"
      },
      "execution_count": 16,
      "outputs": [
        {
          "output_type": "stream",
          "name": "stdout",
          "text": [
            "[1 0 0 1 1 0 1 1 0 0 0 1 0 1 1 1 0 0 1 1 1 0 1 0 0 2 1 1 1 0 0 0 0 0 2 1 1\n",
            " 1 1 1 0 1 1 1 2 0 1 1 0 2 1 1 1 0 2 0 0 1 1 1 0 0 0 0 1 0 0 1 0 0 0 2 0 1\n",
            " 0 0 2 2 0 1 1 0 2 1 1 0 2 1 2 1 1 1 1 0 1 1 1 1 1 2 0 0 1 0 1 0 0 0 0 0 1\n",
            " 1 1 1 1 1 1 0 1 0 0 1 0 0 1 1 0 1 1 1 0 1 1 2 0 0 2 0 1 1 0 1 2 0 1 0 0 1\n",
            " 0 1 1 0 0 1 0 0 1 0 1 0 1 1 1 1 0 2 1 0 0 1 0 1 0 0 2 2 1 0 0 0 2 1 1 0 1\n",
            " 1 1 1 1 1 1 2 1 1 1 0 0 1 1 1 1 1 0 1 0 1 0 2 1 0 0 2 1 1 1 0 0 1 0 0 0 0\n",
            " 1 0 1 0 0 1 0 0 1 0 0 1 0 1 2 2 1 0 1 0 1 0 1 1 0 0 1 0 1 0 0 1 0 1 1 1 1\n",
            " 0 0 1 2 0 0 1 0 1 1 1 1 1 1 1 0 1 0 0 0 1 1 2 1 1 1 0 0 1 1 0 1 0 1 0 2 0\n",
            " 0 0 1 0 1 1 0 1 0 2 1 0 0 0 1 1 0 0 2 0 1 0 0 0 0 0 0 1 0 1 1 0 1 0 1 0 0\n",
            " 1 0 1 0 0 0 0 1 2 0 1 1 1 0 2 0 0 1 0 0 0 2 1 0 0 1 0 0 1 1 0 1 1 1 0 1 0\n",
            " 2 0 0 1 0 1 0 0 0 0 1 0 0 2 0 1 1 1 1 0 0 1 1 1 0 1 0 1 0 1 0 1 0 0 0 2 1\n",
            " 1 0 1 0 0 1 0 0 1 0 0 0 0 1 2 1 0 0 1 1 2 1 1 1 0 1 1 1 1 1 0 1 1 1 1 1 0\n",
            " 1 1 0 1 1 0 1 0 2 1 0 1 1 0 1 0 0 0 1 0 1 0 1 2 0 0 0 1 0 1 2 1 0 1 1 0 0\n",
            " 0 1 0 0 1 1 1 1 0 1 0 1 0 1 2 0 0 0 0 0 0 0 0 2 1 0 1 1 0 0 1 0 1 1 0 0 2\n",
            " 1 1 0 0 0 1 0 1 2 1 0 0 1 0 0 0 0 0 0 0 0 0 0 2 0 2 0 1 1 1 1 1 0 0 0 1 2\n",
            " 0 1 0 1 0 1 1 1 1 0 0 2 1 0 0 1 1 0 2 0 0 0 2 0 0 1 1 0 1 0 1 0 0 1 0 1 0\n",
            " 1 0 0 0 0 1 0 1 1 0 0 0 1 0 0 0 1 0 0 1 2 1 0 0 1 1 0 2 0 1 2 0 1 0 1 0 2\n",
            " 0 1 1 1 1 1 0 1 1 1 1 0 2 0 0 0 1 2 0 0 0 2 0 1 0 1 2 1 1 1 2 0 0 1 0 1 1\n",
            " 0 1 0 0 1 2 1 2 0 0 1 1 0 1 1 1 2 1 0 2 0 1 2 0 1 2 1 0 0 0 0 1 1 0 0 2 0\n",
            " 0 0 1 1 0 1 0 1 0 1 2 0 1 1 0 0 0 0 0 1 0 0 2 1 2 2 1 0 0 1 0 0 0 0 0 1 0\n",
            " 0 1 1 0 0 0 0 0 0 0 1 1 1 0 1 1 0 0 0 0 2 1 1 1 1 2 1 1 0 1 2 0 2 1 1 2 1\n",
            " 1 1 1 0 0 0 1 1 0 2 1 0 0 1 0 0 2 1 0 0 1 0 2 1 0 0 2 1 0 1 1 1 1 1 1 0 2\n",
            " 1 1 0 1 0 0 0 1 1 1 0 0 1 1 0 0 0 0 1 0 1 1 1 0 0 2 2 0 1 1 0 0 1 1 1 1 0\n",
            " 2 1 0 1 0 0 0 1 0 0 0 1 0 2 1 1 0 0 1 1 0 1 1 0 1 1 0 1 1 0 1 1 0 1 1 0 0\n",
            " 1 0 0 1 2 0 1 0 0 1 0 1 1 1 0 2 0 0 1 1 0 1 1 1 0 0 0 0 2 0 0 0 1 1 1 1 1\n",
            " 1 0 0 0 1 2 1 1 0 1 0 1 1 1 0 2 1 0 0 0 1 1 0 1 0 0 1 1 1 0 0 1 1 0 0 0 0\n",
            " 0 0 0 0 1 1 0 0 0 2 0 0 1 0 2 0 1 1 0 0 1 1 0 1 1 0 0 0 1 1 1 1 2 1 0 0 1\n",
            " 1]\n"
          ]
        }
      ]
    },
    {
      "cell_type": "code",
      "source": [
        "# Evaluate model performance\n",
        "accuracy = accuracy_score(test_labels, predictions)\n",
        "print(\"Accuracy:\", accuracy)"
      ],
      "metadata": {
        "id": "7yUuL8Hm2ia_",
        "colab": {
          "base_uri": "https://localhost:8080/"
        },
        "outputId": "ac7b4a47-d770-43b2-b751-d32d6f54853d"
      },
      "execution_count": 17,
      "outputs": [
        {
          "output_type": "stream",
          "name": "stdout",
          "text": [
            "Accuracy: 0.538\n"
          ]
        }
      ]
    },
    {
      "cell_type": "code",
      "source": [
        "model_checkpoint = 'bert-base-multilingual-cased'"
      ],
      "metadata": {
        "id": "DQg-CFNJGZrL"
      },
      "execution_count": 18,
      "outputs": []
    },
    {
      "cell_type": "code",
      "source": [
        "bert_tokenizer = BertTokenizer.from_pretrained(model_checkpoint)\n",
        "bert_model = TFBertModel.from_pretrained(model_checkpoint)"
      ],
      "metadata": {
        "id": "W9LpcRD5XBkG",
        "colab": {
          "base_uri": "https://localhost:8080/",
          "height": 393,
          "referenced_widgets": [
            "f5b81191530140e99f151b9ff842ae7b",
            "45ea9ad4287743afb776a7b0dac68ea0",
            "c014b35cd1804538ae765095ebccdcab",
            "d0c21dbb772a42f8b2cab454e758f0dc",
            "8453bbf0b514468299e3efcd0f9b8e3d",
            "799c79c4ea4d46b0954ca8bdbf3ffa55",
            "96062b012e5f40f19068a2c4ecc2bf67",
            "626076016e1042bcb71cd33cb0a9ca3f",
            "4d780c35a7754ddaa25787091d8ec5b9",
            "30ee0fb9b27941ecb9a4fb314959d3b2",
            "c42a7e46b2c242b5abdb043cc405a5aa",
            "e7ecfb09470e490b86eede888cf6d3aa",
            "ea2e4f1f3faf4131a326bcce29d28b00",
            "367fbbbf1a8d44748526c1d189f1be56",
            "962322adfd32477c9750631a0d32e3a1",
            "bfd1dfa3d5c7467b945549d2248ae505",
            "1f9b219413e643d5afdcb4bad3f77608",
            "3f5c7031abe5492ab4ffbc810a31afd9",
            "ab979e8a1ee549bf99889c91d8eafe11",
            "bf7d3f170d6847e6a2d5032e9bc766e9",
            "f7dd648077214f24a83600549e2d6a23",
            "9e6da469a18b476fa715f4bf22ca813e",
            "dd8f84eae3b74486bd7438165b37a966",
            "92958aa36de7421eb912a8e200c9ed6b",
            "cf559cb2f92d4b5db6bfcd9a35e8f75a",
            "9383a6c87b164b96872b35fb103e86a4",
            "c289b608b63f428c89c7caf73fa7a0b7",
            "62d2811a9e3a4f08b8b1197c77163acd",
            "73975def862e49c995804b7f37f4387b",
            "a4886ab7658c4a0bae07d40fc995fc2f",
            "ef7d33b370894a158ec6d3e2ec7b4905",
            "59263e781373444bb291f54d4461f25b",
            "4cf42a1b1f734dbc91382849f916a9a6",
            "41c8cf1537d64ecf83594e7806c29fd1",
            "788c3b6231e24f03aa2e60d0e65216d4",
            "5bec989d1fcb4e58b2f5c7c32a33d5f9",
            "de3fb5f6ff004c2884d2759c0f1b4ba1",
            "4fdb9bbcd0234f559c6fbc501f486389",
            "67009622e6e049fc8d0e8e8535938948",
            "c4f0307be858425887efc3e1a5fcd32b",
            "bc1f6795219b4afda3423f1516c5e306",
            "8eed89434c4f44e8ae296db8ef1280e2",
            "df3fdc81775a4a6bbaad16267a578467",
            "a793fd75d9e147c59d91cc2ab126024e",
            "2c16f81378ce4691a82f0feb3d67969d",
            "346d1786737c407d92077cf2861b1e7c",
            "7ae7c72025db46c992209e1529b47258",
            "f0f0b2116a1f488a8a4dc1f3c71057cf",
            "a6bc784be41945dbb1fab5aee3dd2361",
            "e527a19e38eb44fcab2d4fd1341f96ee",
            "7a6863c48b084e1b9c853d796061c1ec",
            "419acfaf43d14a949c5a389d61156a64",
            "d86b369b737040dd997204d6c5faa36c",
            "c8747cde138c455ea41027872063786e",
            "b4c6e4657be948e9a4dacff94a994c64"
          ]
        },
        "outputId": "abb767d8-30b2-4846-ad80-2dc1d03ff1ad"
      },
      "execution_count": 19,
      "outputs": [
        {
          "output_type": "stream",
          "name": "stderr",
          "text": [
            "/usr/local/lib/python3.10/dist-packages/huggingface_hub/utils/_token.py:88: UserWarning: \n",
            "The secret `HF_TOKEN` does not exist in your Colab secrets.\n",
            "To authenticate with the Hugging Face Hub, create a token in your settings tab (https://huggingface.co/settings/tokens), set it as secret in your Google Colab and restart your session.\n",
            "You will be able to reuse this secret in all of your notebooks.\n",
            "Please note that authentication is recommended but still optional to access public models or datasets.\n",
            "  warnings.warn(\n"
          ]
        },
        {
          "output_type": "display_data",
          "data": {
            "text/plain": [
              "tokenizer_config.json:   0%|          | 0.00/49.0 [00:00<?, ?B/s]"
            ],
            "application/vnd.jupyter.widget-view+json": {
              "version_major": 2,
              "version_minor": 0,
              "model_id": "f5b81191530140e99f151b9ff842ae7b"
            }
          },
          "metadata": {}
        },
        {
          "output_type": "display_data",
          "data": {
            "text/plain": [
              "vocab.txt:   0%|          | 0.00/996k [00:00<?, ?B/s]"
            ],
            "application/vnd.jupyter.widget-view+json": {
              "version_major": 2,
              "version_minor": 0,
              "model_id": "e7ecfb09470e490b86eede888cf6d3aa"
            }
          },
          "metadata": {}
        },
        {
          "output_type": "display_data",
          "data": {
            "text/plain": [
              "tokenizer.json:   0%|          | 0.00/1.96M [00:00<?, ?B/s]"
            ],
            "application/vnd.jupyter.widget-view+json": {
              "version_major": 2,
              "version_minor": 0,
              "model_id": "dd8f84eae3b74486bd7438165b37a966"
            }
          },
          "metadata": {}
        },
        {
          "output_type": "display_data",
          "data": {
            "text/plain": [
              "config.json:   0%|          | 0.00/625 [00:00<?, ?B/s]"
            ],
            "application/vnd.jupyter.widget-view+json": {
              "version_major": 2,
              "version_minor": 0,
              "model_id": "41c8cf1537d64ecf83594e7806c29fd1"
            }
          },
          "metadata": {}
        },
        {
          "output_type": "display_data",
          "data": {
            "text/plain": [
              "model.safetensors:   0%|          | 0.00/714M [00:00<?, ?B/s]"
            ],
            "application/vnd.jupyter.widget-view+json": {
              "version_major": 2,
              "version_minor": 0,
              "model_id": "2c16f81378ce4691a82f0feb3d67969d"
            }
          },
          "metadata": {}
        },
        {
          "output_type": "stream",
          "name": "stderr",
          "text": [
            "Some weights of the PyTorch model were not used when initializing the TF 2.0 model TFBertModel: ['cls.predictions.transform.LayerNorm.weight', 'cls.predictions.transform.LayerNorm.bias', 'cls.predictions.transform.dense.weight', 'cls.predictions.bias', 'cls.predictions.transform.dense.bias', 'cls.seq_relationship.weight', 'cls.seq_relationship.bias']\n",
            "- This IS expected if you are initializing TFBertModel from a PyTorch model trained on another task or with another architecture (e.g. initializing a TFBertForSequenceClassification model from a BertForPreTraining model).\n",
            "- This IS NOT expected if you are initializing TFBertModel from a PyTorch model that you expect to be exactly identical (e.g. initializing a TFBertForSequenceClassification model from a BertForSequenceClassification model).\n",
            "All the weights of TFBertModel were initialized from the PyTorch model.\n",
            "If your task is similar to the task the model of the checkpoint was trained on, you can already use TFBertModel for predictions without further training.\n"
          ]
        }
      ]
    },
    {
      "cell_type": "code",
      "source": [
        "max_length = 150"
      ],
      "metadata": {
        "id": "3T9FsLMPXInb"
      },
      "execution_count": 20,
      "outputs": []
    },
    {
      "cell_type": "code",
      "source": [
        "# tokenize the dataset, truncate at `max_length`,\n",
        "# and pad with 0's when less than `max_length` and return a tf Tensor\n",
        "train_encodings = bert_tokenizer(train_texts, truncation=True, padding='max_length', max_length=max_length, return_tensors='tf')\n",
        "valid_encodings = bert_tokenizer(valid_texts, truncation=True, padding='max_length', max_length=max_length, return_tensors='tf')\n",
        "test_encodings = bert_tokenizer(test_texts, truncation=True, padding='max_length', max_length=max_length, return_tensors='tf')"
      ],
      "metadata": {
        "id": "ICgKHLOWXKzf"
      },
      "execution_count": 21,
      "outputs": []
    },
    {
      "cell_type": "code",
      "source": [
        "train_encodings.input_ids[:1]"
      ],
      "metadata": {
        "id": "4-Rvmf5cXP-P",
        "colab": {
          "base_uri": "https://localhost:8080/"
        },
        "outputId": "703f680e-e219-499b-a50e-a587aeaf2179"
      },
      "execution_count": 22,
      "outputs": [
        {
          "output_type": "execute_result",
          "data": {
            "text/plain": [
              "<tf.Tensor: shape=(1, 150), dtype=int32, numpy=\n",
              "array([[   101,  51105,  13502,  24114,  46594,  10915,  87394,  10211,\n",
              "         46708,  37113,  11569,  10128,    187,  10269, 107358,  52033,\n",
              "         10245,  29330,  57747,  67487,  13396,  59042,  63594,  13796,\n",
              "         32066,  10161,  11058,  10128,    144, 105687,  74456,  18508,\n",
              "           117,  10211,  20327,  13502,  19004,  45131,  12817,  10304,\n",
              "         85647,    119,    102,      0,      0,      0,      0,      0,\n",
              "             0,      0,      0,      0,      0,      0,      0,      0,\n",
              "             0,      0,      0,      0,      0,      0,      0,      0,\n",
              "             0,      0,      0,      0,      0,      0,      0,      0,\n",
              "             0,      0,      0,      0,      0,      0,      0,      0,\n",
              "             0,      0,      0,      0,      0,      0,      0,      0,\n",
              "             0,      0,      0,      0,      0,      0,      0,      0,\n",
              "             0,      0,      0,      0,      0,      0,      0,      0,\n",
              "             0,      0,      0,      0,      0,      0,      0,      0,\n",
              "             0,      0,      0,      0,      0,      0,      0,      0,\n",
              "             0,      0,      0,      0,      0,      0,      0,      0,\n",
              "             0,      0,      0,      0,      0,      0,      0,      0,\n",
              "             0,      0,      0,      0,      0,      0,      0,      0,\n",
              "             0,      0,      0,      0,      0,      0]], dtype=int32)>"
            ]
          },
          "metadata": {},
          "execution_count": 22
        }
      ]
    },
    {
      "cell_type": "code",
      "source": [
        "from tensorflow.keras.layers import Input, Dense, Dropout, Concatenate, Reshape, GlobalMaxPooling1D, MultiHeadAttention\n",
        "from tensorflow.keras.models import Model\n",
        "from transformers import TFBertModel\n",
        "\n",
        "def create_target_dependent_sentiment_model(checkpoint=model_checkpoint,\n",
        "                                            num_classes=3,\n",
        "                                            hidden_size=201,\n",
        "                                            dropout=0.3,\n",
        "                                            learning_rate=0.00005):\n",
        "    \"\"\"\n",
        "    Build a multi-input sentiment analysis model with BERT, target embeddings, and attention mechanism.\n",
        "    \"\"\"\n",
        "    # Load pre-trained BERT model\n",
        "    bert_model = TFBertModel.from_pretrained(checkpoint)\n",
        "\n",
        "    # Freeze BERT layers to prevent training\n",
        "    for layer in bert_model.layers:\n",
        "        layer.trainable = False\n",
        "\n",
        "    # Define input layers for BERT\n",
        "    input_ids = Input(shape=(max_length,), dtype='int32', name='input_ids')\n",
        "    token_type_ids = Input(shape=(max_length,), dtype='int32', name='token_type_ids')\n",
        "    attention_mask = Input(shape=(max_length,), dtype='int32', name='attention_mask')\n",
        "\n",
        "    # Get BERT output\n",
        "    bert_output = bert_model(input_ids, token_type_ids=token_type_ids, attention_mask=attention_mask)[0]  # BERT sequence output\n",
        "\n",
        "    # Reshape BERT output to add sequence length dimension\n",
        "    bert_output_reshaped = Reshape((-1, 768))(bert_output)\n",
        "\n",
        "    # Apply attention mechanism to BERT output\n",
        "    attention_output = MultiHeadAttention(num_heads=2, key_dim=64)(bert_output_reshaped, bert_output_reshaped)\n",
        "\n",
        "    # Apply global max pooling to extract relevant features from attention output\n",
        "    pooled_output = GlobalMaxPooling1D()(attention_output)\n",
        "\n",
        "    # Define input layer for target IDs\n",
        "    target_ids = Input(shape=(max_length,), dtype='float32', name='target_ids')\n",
        "\n",
        "    # Add a dense layer to process target IDs\n",
        "    target_layer = Dense(hidden_size, activation='relu')(target_ids)\n",
        "\n",
        "    # Concatenate pooled attention output with processed target IDs\n",
        "    concatenated_output = Concatenate()([pooled_output, target_layer])\n",
        "\n",
        "    # Add hidden layer with dropout\n",
        "    hidden_layer = Dense(hidden_size, activation='relu', name='hidden_layer')(concatenated_output)\n",
        "    dropout_layer = Dropout(dropout)(hidden_layer)\n",
        "\n",
        "    # Add classification layer\n",
        "    output = Dense(num_classes, activation='softmax', name='output')(dropout_layer)  # Softmax for multi-class classification\n",
        "\n",
        "    # Create model\n",
        "    classification_model = Model(inputs=[input_ids, token_type_ids, attention_mask, target_ids], outputs=output)\n",
        "\n",
        "    # Compile model\n",
        "    classification_model.compile(optimizer='adam',\n",
        "                                  loss='sparse_categorical_crossentropy',\n",
        "                                  metrics=['accuracy'])\n",
        "\n",
        "    return classification_model"
      ],
      "metadata": {
        "id": "Q9fZ9iiHXgP9"
      },
      "execution_count": 23,
      "outputs": []
    },
    {
      "cell_type": "markdown",
      "source": [],
      "metadata": {
        "id": "xkzfsgZaYYn6"
      }
    },
    {
      "cell_type": "code",
      "source": [
        "pooler_bert_model = create_target_dependent_sentiment_model(num_classes=3)"
      ],
      "metadata": {
        "id": "sA70_vrGXlBO",
        "colab": {
          "base_uri": "https://localhost:8080/"
        },
        "outputId": "3410ad32-3a9f-4888-b557-3ba673fbe178"
      },
      "execution_count": 24,
      "outputs": [
        {
          "output_type": "stream",
          "name": "stderr",
          "text": [
            "Some weights of the PyTorch model were not used when initializing the TF 2.0 model TFBertModel: ['cls.predictions.transform.LayerNorm.weight', 'cls.predictions.transform.LayerNorm.bias', 'cls.predictions.transform.dense.weight', 'cls.predictions.bias', 'cls.predictions.transform.dense.bias', 'cls.seq_relationship.weight', 'cls.seq_relationship.bias']\n",
            "- This IS expected if you are initializing TFBertModel from a PyTorch model trained on another task or with another architecture (e.g. initializing a TFBertForSequenceClassification model from a BertForPreTraining model).\n",
            "- This IS NOT expected if you are initializing TFBertModel from a PyTorch model that you expect to be exactly identical (e.g. initializing a TFBertForSequenceClassification model from a BertForSequenceClassification model).\n",
            "All the weights of TFBertModel were initialized from the PyTorch model.\n",
            "If your task is similar to the task the model of the checkpoint was trained on, you can already use TFBertModel for predictions without further training.\n"
          ]
        }
      ]
    },
    {
      "cell_type": "code",
      "source": [
        "pooler_bert_model.summary()"
      ],
      "metadata": {
        "id": "bfmuka4nEc-2",
        "colab": {
          "base_uri": "https://localhost:8080/"
        },
        "outputId": "468a8daa-54d2-4e5f-fc14-4949e580df99"
      },
      "execution_count": 25,
      "outputs": [
        {
          "output_type": "stream",
          "name": "stdout",
          "text": [
            "Model: \"model\"\n",
            "__________________________________________________________________________________________________\n",
            " Layer (type)                Output Shape                 Param #   Connected to                  \n",
            "==================================================================================================\n",
            " input_ids (InputLayer)      [(None, 150)]                0         []                            \n",
            "                                                                                                  \n",
            " attention_mask (InputLayer  [(None, 150)]                0         []                            \n",
            " )                                                                                                \n",
            "                                                                                                  \n",
            " token_type_ids (InputLayer  [(None, 150)]                0         []                            \n",
            " )                                                                                                \n",
            "                                                                                                  \n",
            " tf_bert_model_1 (TFBertMod  TFBaseModelOutputWithPooli   1778534   ['input_ids[0][0]',           \n",
            " el)                         ngAndCrossAttentions(last_   40         'attention_mask[0][0]',      \n",
            "                             hidden_state=(None, 150, 7              'token_type_ids[0][0]']      \n",
            "                             68),                                                                 \n",
            "                              pooler_output=(None, 768)                                           \n",
            "                             , past_key_values=None, hi                                           \n",
            "                             dden_states=None, attentio                                           \n",
            "                             ns=None, cross_attentions=                                           \n",
            "                             None)                                                                \n",
            "                                                                                                  \n",
            " reshape (Reshape)           (None, 150, 768)             0         ['tf_bert_model_1[0][0]']     \n",
            "                                                                                                  \n",
            " multi_head_attention (Mult  (None, 150, 768)             394368    ['reshape[0][0]',             \n",
            " iHeadAttention)                                                     'reshape[0][0]']             \n",
            "                                                                                                  \n",
            " target_ids (InputLayer)     [(None, 150)]                0         []                            \n",
            "                                                                                                  \n",
            " global_max_pooling1d (Glob  (None, 768)                  0         ['multi_head_attention[0][0]']\n",
            " alMaxPooling1D)                                                                                  \n",
            "                                                                                                  \n",
            " dense (Dense)               (None, 201)                  30351     ['target_ids[0][0]']          \n",
            "                                                                                                  \n",
            " concatenate (Concatenate)   (None, 969)                  0         ['global_max_pooling1d[0][0]',\n",
            "                                                                     'dense[0][0]']               \n",
            "                                                                                                  \n",
            " hidden_layer (Dense)        (None, 201)                  194970    ['concatenate[0][0]']         \n",
            "                                                                                                  \n",
            " dropout_74 (Dropout)        (None, 201)                  0         ['hidden_layer[0][0]']        \n",
            "                                                                                                  \n",
            " output (Dense)              (None, 3)                    606       ['dropout_74[0][0]']          \n",
            "                                                                                                  \n",
            "==================================================================================================\n",
            "Total params: 178473735 (680.82 MB)\n",
            "Trainable params: 620295 (2.37 MB)\n",
            "Non-trainable params: 177853440 (678.46 MB)\n",
            "__________________________________________________________________________________________________\n"
          ]
        }
      ]
    },
    {
      "cell_type": "code",
      "source": [
        "keras.utils.plot_model(pooler_bert_model, show_shapes=False, show_dtype=False, show_layer_names=True, dpi=90)"
      ],
      "metadata": {
        "id": "1KZ7kSokEgbM",
        "colab": {
          "base_uri": "https://localhost:8080/",
          "height": 803
        },
        "outputId": "a928b98b-4d1f-4efe-9bf3-75d4cf150e4e"
      },
      "execution_count": 26,
      "outputs": [
        {
          "output_type": "execute_result",
          "data": {
            "image/png": "[encoded data removed]",
            "text/plain": [
              "<IPython.core.display.Image object>"
            ]
          },
          "metadata": {},
          "execution_count": 26
        }
      ]
    },
    {
      "cell_type": "code",
      "source": [
        "#get the labels in a needed data format for validation\n",
        "npvalid_labels = np.asarray(valid_labels)"
      ],
      "metadata": {
        "id": "L5h0ilZaEuim"
      },
      "execution_count": 27,
      "outputs": []
    },
    {
      "cell_type": "code",
      "source": [
        "import numpy as np  # Ensure numpy is imported\n",
        "\n",
        "# Convert train_labels and valid_labels to numpy arrays if they are not already\n",
        "train_labels = np.array(train_labels)\n",
        "valid_labels = np.array(valid_labels)\n",
        "\n",
        "# Use a dictionary to pass input data to the fit method\n",
        "input_data_train = {\n",
        "    'input_ids': train_encodings.input_ids,\n",
        "    'token_type_ids': train_encodings.token_type_ids,\n",
        "    'attention_mask': train_encodings.attention_mask,\n",
        "    'target_ids': np.array(train_targets)\n",
        "}\n",
        "\n",
        "input_data_valid = {\n",
        "    'input_ids': valid_encodings.input_ids,\n",
        "    'token_type_ids': valid_encodings.token_type_ids,\n",
        "    'attention_mask': valid_encodings.attention_mask,\n",
        "    'target_ids': np.array(valid_targets)\n",
        "}\n",
        "\n",
        "# Fit the model using the dictionary format for input data\n",
        "pooler_bert_model_history = pooler_bert_model.fit(\n",
        "    x=input_data_train,\n",
        "    y=train_labels,\n",
        "    validation_data=(input_data_valid, valid_labels),\n",
        "    batch_size=8,\n",
        "    epochs=1\n",
        ")"
      ],
      "metadata": {
        "id": "KiEH4OJjIsWB",
        "colab": {
          "base_uri": "https://localhost:8080/"
        },
        "outputId": "d2b1a6a9-a2ce-458b-e285-f9402eb858ed"
      },
      "execution_count": 28,
      "outputs": [
        {
          "output_type": "stream",
          "name": "stdout",
          "text": [
            "477/477 [==============================] - 2283s 5s/step - loss: 0.4504 - accuracy: 0.8304 - val_loss: 0.3098 - val_accuracy: 0.9167\n"
          ]
        }
      ]
    },
    {
      "cell_type": "code",
      "source": [
        "print(train_labels[:100])"
      ],
      "metadata": {
        "id": "D5Y7C9NBTuU-",
        "colab": {
          "base_uri": "https://localhost:8080/"
        },
        "outputId": "05b84317-0d39-4c2a-ba0c-cdb3e9018934"
      },
      "execution_count": 29,
      "outputs": [
        {
          "metadata": {
            "tags": null
          },
          "name": "stdout",
          "output_type": "stream",
          "text": [
            "[1 1 1 0 1 0 1 2 1 0 1 1 2 1 1 1 2 1 0 0 1 1 1 0 1 2 2 0 1 0 2 2 2 0 0 1 0\n",
            " 0 1 0 0 1 2 0 1 2 0 1 1 1 2 2 2 1 0 0 1 2 2 1 1 1 2 1 0 0 0 0 2 0 1 1 1 0\n",
            " 1 1 2 0 0 1 1 0 1 0 1 0 2 0 0 1 0 1 1 0 1 0 0 0 1 0]\n"
          ]
        }
      ]
    },
    {
      "cell_type": "code",
      "source": [
        "# Convert test_labels to a numpy array if it is not already\n",
        "test_labels = np.array(test_labels)\n",
        "\n",
        "# Use a dictionary to pass input data to the evaluate method\n",
        "input_data_test = {\n",
        "    'input_ids': test_encodings.input_ids,\n",
        "    'token_type_ids': test_encodings.token_type_ids,\n",
        "    'attention_mask': test_encodings.attention_mask,\n",
        "    'target_ids': np.array(test_targets)\n",
        "}\n",
        "\n",
        "# Evaluate the model using the dictionary format for input data\n",
        "score = pooler_bert_model.evaluate(\n",
        "    x=input_data_test,\n",
        "    y=test_labels\n",
        ")\n",
        "\n",
        "print('Test loss:', score[0])\n",
        "print('Test accuracy:', score[1])\n"
      ],
      "metadata": {
        "id": "JGXjdhaQMid-",
        "colab": {
          "base_uri": "https://localhost:8080/"
        },
        "outputId": "9ec16a21-d6a5-43fd-b548-86439c11105e"
      },
      "execution_count": 30,
      "outputs": [
        {
          "output_type": "stream",
          "name": "stdout",
          "text": [
            "32/32 [==============================] - 519s 16s/step - loss: 0.2552 - accuracy: 0.9390\n",
            "Test loss: 0.25523003935813904\n",
            "Test accuracy: 0.9390000104904175\n"
          ]
        }
      ]
    },
    {
      "cell_type": "code",
      "source": [
        "predictions = pooler_bert_model.predict(\n",
        "    [test_encodings.input_ids, test_encodings.token_type_ids, test_encodings.attention_mask, np.array(test_targets)]\n",
        ")\n",
        "predictions_model1 = tf.argmax(predictions, axis=-1)\n",
        "predictions_model1"
      ],
      "metadata": {
        "id": "ewmPYaQZJcJj"
      },
      "execution_count": null,
      "outputs": []
    },
    {
      "cell_type": "code",
      "source": [
        "target_names=['negative','neutral','positive']"
      ],
      "metadata": {
        "id": "gCkKwEaQNgij"
      },
      "execution_count": null,
      "outputs": []
    },
    {
      "cell_type": "code",
      "source": [
        "print(classification_report(test_labels, predictions_model1.numpy(), target_names=target_names))"
      ],
      "metadata": {
        "id": "wD7yBpJiJfS0",
        "colab": {
          "base_uri": "https://localhost:8080/"
        },
        "outputId": "82d18e00-4b32-44e6-a5d0-7ac24b1896ee"
      },
      "execution_count": 33,
      "outputs": [
        {
          "output_type": "stream",
          "name": "stdout",
          "text": [
            "              precision    recall  f1-score   support\n",
            "\n",
            "    negative       0.89      0.99      0.94       364\n",
            "     neutral       0.97      0.90      0.93       401\n",
            "    positive       0.98      0.91      0.95       235\n",
            "\n",
            "    accuracy                           0.94      1000\n",
            "   macro avg       0.95      0.94      0.94      1000\n",
            "weighted avg       0.94      0.94      0.94      1000\n",
            "\n",
            "              precision    recall  f1-score   support\n",
            "\n",
            "    negative       0.89      0.99      0.94       364\n",
            "     neutral       0.97      0.90      0.93       401\n",
            "    positive       0.98      0.91      0.95       235\n",
            "\n",
            "    accuracy                           0.94      1000\n",
            "   macro avg       0.95      0.94      0.94      1000\n",
            "weighted avg       0.94      0.94      0.94      1000\n",
            "\n"
          ]
        }
      ]
    }
  ]
}