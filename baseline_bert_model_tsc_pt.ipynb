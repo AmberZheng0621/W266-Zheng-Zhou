{
  "nbformat": 4,
  "nbformat_minor": 0,
  "metadata": {
    "colab": {
      "provenance": []
    },
    "kernelspec": {
      "name": "python3",
      "display_name": "Python 3"
    },
    "language_info": {
      "name": "python"
    }
  },
  "cells": [
    {
      "cell_type": "code",
      "source": [
        "!pip install -q transformers==4.37.2"
      ],
      "metadata": {
        "id": "oTl7ifYRLpBI"
      },
      "execution_count": 67,
      "outputs": []
    },
    {
      "cell_type": "code",
      "source": [
        "!pip install pydot"
      ],
      "metadata": {
        "colab": {
          "base_uri": "https://localhost:8080/"
        },
        "id": "IZuHVbllRnzs",
        "outputId": "2a5aa9a0-574d-4471-d26b-bf5f54fee12b"
      },
      "execution_count": 68,
      "outputs": [
        {
          "output_type": "stream",
          "name": "stdout",
          "text": [
            "Requirement already satisfied: pydot in /usr/local/lib/python3.10/dist-packages (1.4.2)\n",
            "Requirement already satisfied: pyparsing>=2.1.4 in /usr/local/lib/python3.10/dist-packages (from pydot) (3.1.2)\n"
          ]
        }
      ]
    },
    {
      "cell_type": "code",
      "source": [
        "from transformers import BertTokenizer, TFBertModel"
      ],
      "metadata": {
        "id": "bSbCMTLaRuVR"
      },
      "execution_count": 69,
      "outputs": []
    },
    {
      "cell_type": "code",
      "source": [
        "from sklearn.datasets import fetch_20newsgroups\n",
        "from sklearn.model_selection import train_test_split\n",
        "from sklearn.metrics import classification_report"
      ],
      "metadata": {
        "id": "iwsORDcURpTj"
      },
      "execution_count": 70,
      "outputs": []
    },
    {
      "cell_type": "code",
      "source": [
        "from collections import Counter\n",
        "import numpy as np\n",
        "import tensorflow as tf\n",
        "from tensorflow import keras\n",
        "\n",
        "import seaborn as sns\n",
        "import matplotlib.pyplot as plt\n",
        "from pprint import pprint"
      ],
      "metadata": {
        "id": "6LKehb4PRsNy"
      },
      "execution_count": 73,
      "outputs": []
    },
    {
      "cell_type": "code",
      "source": [
        "import json\n",
        "from transformers import BertTokenizer, TFBertModel\n",
        "import tensorflow as tf\n",
        "# Load JSONL dataset\n",
        "data = []\n",
        "train_texts=[]\n",
        "train_labels=[]\n",
        "train_targets=[]\n",
        "# get train example and label\n",
        "with open('/content/train.jsonl', 'r') as f:\n",
        "    for line in f:\n",
        "      text=json.loads(line)\n",
        "      data.append(text)\n",
        "      train_texts.append(text['sentence_normalized'])\n",
        "      polarity=int(text['targets'][0]['polarity'])\n",
        "      this_polarity = -1\n",
        "      if polarity==2:\n",
        "        this_polarity = 0\n",
        "      elif polarity==4:\n",
        "        this_polarity = 1\n",
        "      elif polarity==6:\n",
        "        this_polarity = 2\n",
        "      else:\n",
        "        print('error')\n",
        "\n",
        "      train_labels.append(this_polarity)\n",
        "      targets = text['targets']\n",
        "      target_vector = np.zeros(150)\n",
        "\n",
        "      for target in targets:\n",
        "        target_vector[target['from']:target['to']] = this_polarity\n",
        "\n",
        "      train_targets.append(target_vector)\n",
        "\n",
        "\n",
        "\n",
        "\n",
        "\n",
        "\n",
        "\n",
        "\n",
        "\n",
        "\n",
        "\n",
        "\n",
        "# Preprocess Data and Tokenization\n",
        "\n",
        "\n",
        "\n",
        "#print(data[0])\n"
      ],
      "metadata": {
        "id": "sxFAy2k2S7Y_"
      },
      "execution_count": 74,
      "outputs": []
    },
    {
      "cell_type": "code",
      "source": [
        "print(train_texts[2])"
      ],
      "metadata": {
        "id": "H-6RNkNT-F_o",
        "colab": {
          "base_uri": "https://localhost:8080/"
        },
        "outputId": "c0d7863e-63b4-4795-c0a3-e44cfcc61cf6"
      },
      "execution_count": 75,
      "outputs": [
        {
          "output_type": "stream",
          "name": "stdout",
          "text": [
            "Para La Stampa, \"é evidente, desde o encontro entre Monti, Merkel, Rajoy e Hollande\", em 22 de junho, que o Conselho que começa nesta quinta-feira \"será a primeira e a mais dura prova em que os dirigentes europeus vão procurar estabelecer e, quem sabe, introduzir uma nova União Monetária\":\n",
            "\n"
          ]
        }
      ]
    },
    {
      "cell_type": "code",
      "source": [
        "\n",
        "# Load JSONL dataset\n",
        "data_test = []\n",
        "test_texts=[]\n",
        "test_labels=[]\n",
        "test_targets=[]\n",
        "# get test example and label\n",
        "with open('/content/test.json', 'r') as f:\n",
        "    for line in f:\n",
        "      text=json.loads(line)\n",
        "      data_test.append(text)\n",
        "      test_texts.append(text['sentence_normalized'])\n",
        "      polarity=int(text['targets'][0]['polarity'])\n",
        "      this_polarity = -1\n",
        "      if polarity==2:\n",
        "        this_polarity = 0\n",
        "      elif polarity==4:\n",
        "        this_polarity = 1\n",
        "      elif polarity==6:\n",
        "        this_polarity = 2\n",
        "      else:\n",
        "        print('error')\n",
        "\n",
        "      test_labels.append(this_polarity)\n",
        "      targets = text['targets']\n",
        "      target_vector = np.zeros(150)\n",
        "\n",
        "      for target in targets:\n",
        "        target_vector[target['from']:target['to']] = this_polarity\n",
        "\n",
        "      test_targets.append(target_vector)\n"
      ],
      "metadata": {
        "id": "tw6CQGosVq7j"
      },
      "execution_count": 76,
      "outputs": []
    },
    {
      "cell_type": "code",
      "source": [
        "print(len(test_texts))"
      ],
      "metadata": {
        "id": "bZoXAhvb6eTY",
        "colab": {
          "base_uri": "https://localhost:8080/"
        },
        "outputId": "3bc1db43-06aa-4485-913e-b0e1007c413f"
      },
      "execution_count": 77,
      "outputs": [
        {
          "output_type": "stream",
          "name": "stdout",
          "text": [
            "1000\n"
          ]
        }
      ]
    },
    {
      "cell_type": "code",
      "source": [
        "# Load JSONL dataset\n",
        "data_vali = []\n",
        "valid_texts=[]\n",
        "valid_labels=[]\n",
        "valid_targets=[]\n",
        "# get valid example and label\n",
        "with open('/content/validation.jsonl', 'r') as f:\n",
        "    for line in f:\n",
        "      text=json.loads(line)\n",
        "      data_vali.append(text)\n",
        "      valid_texts.append(text['sentence_normalized'])\n",
        "      polarity=int(text['targets'][0]['polarity'])\n",
        "      this_polarity = -1\n",
        "      if polarity==2:\n",
        "        this_polarity = 0\n",
        "      elif polarity==4:\n",
        "        this_polarity = 1\n",
        "      elif polarity==6:\n",
        "        this_polarity = 2\n",
        "      else:\n",
        "        print('error')\n",
        "\n",
        "      valid_labels.append(this_polarity)\n",
        "      targets = text['targets']\n",
        "      target_vector = np.zeros(150)\n",
        "\n",
        "      for target in targets:\n",
        "        target_vector[target['from']:target['to']] = this_polarity\n",
        "\n",
        "      valid_targets.append(target_vector)"
      ],
      "metadata": {
        "id": "QTDr6wIVKh9l"
      },
      "execution_count": 78,
      "outputs": []
    },
    {
      "cell_type": "code",
      "source": [
        "print(len(valid_texts))"
      ],
      "metadata": {
        "id": "-qL2KXUT6hMA",
        "colab": {
          "base_uri": "https://localhost:8080/"
        },
        "outputId": "a9d5dfe1-6bec-491a-e94e-48465d88a27c"
      },
      "execution_count": 79,
      "outputs": [
        {
          "output_type": "stream",
          "name": "stdout",
          "text": [
            "300\n"
          ]
        }
      ]
    },
    {
      "cell_type": "code",
      "source": [
        "integer_counts = Counter(valid_labels)\n",
        "# Print the summary\n",
        "for integer, count in integer_counts.items():\n",
        "    print(f\"Integer {integer} appears {count} times\")"
      ],
      "metadata": {
        "id": "8EYUigK_YNqI",
        "colab": {
          "base_uri": "https://localhost:8080/"
        },
        "outputId": "d8ec1ac8-f13c-4d4a-85bc-d9f2d953e2ee"
      },
      "execution_count": 80,
      "outputs": [
        {
          "output_type": "stream",
          "name": "stdout",
          "text": [
            "Integer 2 appears 71 times\n",
            "Integer 1 appears 117 times\n",
            "Integer 0 appears 112 times\n"
          ]
        }
      ]
    },
    {
      "cell_type": "code",
      "source": [
        "integer_counts = Counter(test_labels)\n",
        "# Print the summary\n",
        "for integer, count in integer_counts.items():\n",
        "    print(f\"Integer {integer} appears {count} times\")"
      ],
      "metadata": {
        "id": "uACwoXYV6tVY",
        "colab": {
          "base_uri": "https://localhost:8080/"
        },
        "outputId": "66df2a02-22e3-4857-f178-196aaed729fe"
      },
      "execution_count": 81,
      "outputs": [
        {
          "output_type": "stream",
          "name": "stdout",
          "text": [
            "Integer 1 appears 401 times\n",
            "Integer 0 appears 364 times\n",
            "Integer 2 appears 235 times\n"
          ]
        }
      ]
    },
    {
      "cell_type": "code",
      "source": [
        "integer_counts = Counter(train_labels)\n",
        "# Print the summary\n",
        "for integer, count in integer_counts.items():\n",
        "    print(f\"Integer {integer} appears {count} times\")"
      ],
      "metadata": {
        "id": "iu8nKXdi6uhJ",
        "colab": {
          "base_uri": "https://localhost:8080/"
        },
        "outputId": "d9847aa6-48fd-4289-ef06-faca12fe95bf"
      },
      "execution_count": 82,
      "outputs": [
        {
          "output_type": "stream",
          "name": "stdout",
          "text": [
            "Integer 1 appears 1493 times\n",
            "Integer 0 appears 1363 times\n",
            "Integer 2 appears 954 times\n"
          ]
        }
      ]
    },
    {
      "cell_type": "code",
      "source": [
        "#baseline multinomial Naive Bayes\n",
        "from sklearn.feature_extraction.text import CountVectorizer\n",
        "from sklearn.naive_bayes import MultinomialNB\n",
        "from sklearn.pipeline import Pipeline\n",
        "from sklearn.metrics import accuracy_score"
      ],
      "metadata": {
        "id": "7-1okbErzzmA"
      },
      "execution_count": 83,
      "outputs": []
    },
    {
      "cell_type": "code",
      "source": [
        "# Training data\n",
        "\n",
        "# Create a pipeline with CountVectorizer and MultinomialNB\n",
        "pipeline = Pipeline([\n",
        "    ('vect', CountVectorizer()),  # Convert text to word count vectors\n",
        "    ('clf', MultinomialNB()),     # Multinomial Naive Bayes classifier\n",
        "])\n",
        "# Train the model\n",
        "pipeline.fit(train_texts, train_labels)\n",
        "# Test the model\n",
        "# Example test data\n",
        "\n",
        "# Predict sentiment for test data\n",
        "predictions = pipeline.predict(test_texts)\n",
        "print(predictions)"
      ],
      "metadata": {
        "id": "eEPdC_o22FXB",
        "colab": {
          "base_uri": "https://localhost:8080/"
        },
        "outputId": "e7b8e3fa-865d-4f3c-bfe6-e14725048588"
      },
      "execution_count": 84,
      "outputs": [
        {
          "output_type": "stream",
          "name": "stdout",
          "text": [
            "[1 0 0 1 1 0 1 0 1 0 0 1 1 0 0 1 1 0 0 1 0 0 1 0 1 2 2 1 1 0 0 0 0 0 2 1 1\n",
            " 1 1 0 0 1 1 0 2 0 2 1 0 2 1 1 0 0 1 0 0 1 1 1 0 1 1 0 1 2 0 1 2 0 1 2 1 0\n",
            " 1 0 1 1 0 1 0 2 1 1 1 0 1 2 1 1 1 1 1 0 1 1 1 0 2 0 0 0 1 0 1 0 0 0 2 1 0\n",
            " 0 1 1 0 0 0 0 1 0 1 1 0 0 0 1 2 0 1 1 1 1 0 0 2 0 2 1 1 2 1 1 2 0 1 1 0 0\n",
            " 1 1 1 1 2 1 0 0 1 1 0 2 0 1 1 0 0 1 1 0 0 0 0 1 0 0 1 0 0 0 0 0 0 2 1 0 1\n",
            " 1 1 1 1 1 1 2 1 1 1 0 0 1 1 1 0 1 1 1 0 0 1 2 0 0 1 2 1 0 1 0 0 1 1 1 1 0\n",
            " 1 0 0 0 0 1 0 0 1 0 0 1 1 1 0 2 1 1 1 0 1 1 1 1 0 0 1 1 2 0 0 0 0 1 0 0 1\n",
            " 0 0 1 2 1 1 1 0 1 0 1 0 1 0 0 0 1 1 1 0 1 1 1 0 1 1 0 0 1 0 0 0 0 0 0 1 0\n",
            " 1 1 1 0 0 1 0 1 0 1 1 1 0 1 1 1 2 1 2 0 2 0 0 0 0 0 0 1 0 1 1 0 1 2 1 0 1\n",
            " 1 0 1 0 0 0 0 1 2 0 1 1 1 0 2 2 0 1 0 1 0 2 1 1 0 1 0 0 1 1 0 1 1 1 0 0 0\n",
            " 0 0 0 0 1 0 0 0 0 0 0 0 0 2 1 1 1 1 1 1 0 1 1 1 0 1 0 1 0 1 1 1 1 2 0 1 1\n",
            " 0 0 1 0 0 1 0 0 1 0 0 0 1 1 2 0 0 0 1 1 0 1 1 1 2 1 1 1 1 1 0 1 1 1 1 0 0\n",
            " 2 1 0 1 1 0 2 0 1 1 0 1 1 1 1 0 0 0 1 0 1 0 1 1 0 0 0 0 2 1 2 1 1 1 1 0 0\n",
            " 0 1 0 0 1 1 0 1 0 1 0 1 0 1 0 0 0 0 0 2 0 0 1 1 0 0 1 1 0 0 1 0 1 1 1 0 1\n",
            " 1 0 0 0 0 0 1 1 0 1 0 0 1 0 0 1 0 0 0 0 0 0 0 2 0 1 0 1 0 1 0 1 0 2 0 2 2\n",
            " 0 1 0 1 1 1 0 1 1 0 0 1 1 1 1 1 1 1 2 0 0 1 2 0 0 2 1 2 1 0 1 0 0 1 1 1 0\n",
            " 0 2 0 1 0 1 0 1 0 0 2 0 1 0 0 1 1 0 1 1 2 1 0 1 0 0 0 1 0 1 2 0 2 0 1 0 2\n",
            " 0 1 1 1 1 1 0 1 1 0 1 1 2 0 1 0 1 2 0 0 0 0 0 0 0 1 1 1 1 1 2 0 1 1 0 1 1\n",
            " 0 1 0 0 0 1 1 1 0 0 1 0 0 1 1 0 2 1 0 2 0 1 2 0 1 2 1 0 1 2 1 1 1 0 0 0 0\n",
            " 0 0 1 1 0 1 1 1 0 1 2 0 2 2 1 1 1 0 0 1 1 0 2 1 0 0 0 1 0 1 0 0 1 1 1 0 0\n",
            " 0 1 1 0 1 1 1 0 1 0 1 1 1 2 1 1 1 0 1 2 2 1 1 1 0 2 0 1 0 1 2 0 0 2 1 2 1\n",
            " 1 1 1 0 2 1 1 1 1 2 1 1 1 1 0 0 2 0 0 0 1 0 2 1 0 1 1 1 1 0 1 1 2 2 1 0 1\n",
            " 1 0 1 1 0 0 0 0 0 1 1 1 1 0 0 0 0 1 0 0 1 1 0 1 0 1 0 0 0 1 0 0 0 1 0 1 0\n",
            " 2 1 0 1 0 0 2 1 0 0 0 1 1 2 0 0 0 0 0 2 0 0 2 0 1 0 0 1 2 0 0 1 0 1 1 0 0\n",
            " 0 0 0 0 2 0 1 1 0 1 0 1 1 1 1 2 0 0 1 0 1 0 0 0 0 1 1 0 0 0 1 1 1 1 1 1 1\n",
            " 1 0 1 1 0 2 0 1 0 1 0 1 1 1 0 2 1 2 0 0 1 1 0 0 0 0 1 2 1 1 1 1 1 0 0 0 0\n",
            " 0 0 1 1 1 1 0 0 0 1 0 0 1 0 0 0 0 1 0 1 1 2 0 1 1 0 0 0 1 1 1 2 2 1 0 0 1\n",
            " 1]\n"
          ]
        }
      ]
    },
    {
      "cell_type": "code",
      "source": [
        "# Evaluate model performance\n",
        "accuracy = accuracy_score(test_labels, predictions)\n",
        "print(\"Accuracy:\", accuracy)"
      ],
      "metadata": {
        "id": "7yUuL8Hm2ia_",
        "colab": {
          "base_uri": "https://localhost:8080/"
        },
        "outputId": "76c1bc10-89f1-4800-8112-e953a6f262ba"
      },
      "execution_count": 85,
      "outputs": [
        {
          "output_type": "stream",
          "name": "stdout",
          "text": [
            "Accuracy: 0.538\n"
          ]
        }
      ]
    },
    {
      "cell_type": "code",
      "source": [
        "model_checkpoint = 'bert-base-cased'"
      ],
      "metadata": {
        "id": "DQg-CFNJGZrL"
      },
      "execution_count": 86,
      "outputs": []
    },
    {
      "cell_type": "code",
      "source": [
        "bert_tokenizer = BertTokenizer.from_pretrained(model_checkpoint)\n",
        "bert_model = TFBertModel.from_pretrained(model_checkpoint)"
      ],
      "metadata": {
        "id": "W9LpcRD5XBkG",
        "colab": {
          "base_uri": "https://localhost:8080/"
        },
        "outputId": "80c698f8-6a9a-4ba0-b49a-544092e89281"
      },
      "execution_count": 87,
      "outputs": [
        {
          "output_type": "stream",
          "name": "stderr",
          "text": [
            "Some weights of the PyTorch model were not used when initializing the TF 2.0 model TFBertModel: ['cls.predictions.bias', 'cls.predictions.transform.LayerNorm.bias', 'cls.predictions.transform.LayerNorm.weight', 'cls.seq_relationship.bias', 'cls.predictions.transform.dense.weight', 'cls.seq_relationship.weight', 'cls.predictions.transform.dense.bias']\n",
            "- This IS expected if you are initializing TFBertModel from a PyTorch model trained on another task or with another architecture (e.g. initializing a TFBertForSequenceClassification model from a BertForPreTraining model).\n",
            "- This IS NOT expected if you are initializing TFBertModel from a PyTorch model that you expect to be exactly identical (e.g. initializing a TFBertForSequenceClassification model from a BertForSequenceClassification model).\n",
            "All the weights of TFBertModel were initialized from the PyTorch model.\n",
            "If your task is similar to the task the model of the checkpoint was trained on, you can already use TFBertModel for predictions without further training.\n"
          ]
        }
      ]
    },
    {
      "cell_type": "code",
      "source": [
        "max_length = 150"
      ],
      "metadata": {
        "id": "3T9FsLMPXInb"
      },
      "execution_count": 88,
      "outputs": []
    },
    {
      "cell_type": "code",
      "source": [
        "# tokenize the dataset, truncate at `max_length`,\n",
        "# and pad with 0's when less than `max_length` and return a tf Tensor\n",
        "train_encodings = bert_tokenizer(train_texts, truncation=True, padding=True, max_length=max_length, return_tensors='tf')\n",
        "valid_encodings = bert_tokenizer(valid_texts, truncation=True, padding=True, max_length=max_length, return_tensors='tf')\n",
        "test_encodings = bert_tokenizer(test_texts, truncation=True, padding=True, max_length=max_length, return_tensors='tf')"
      ],
      "metadata": {
        "id": "ICgKHLOWXKzf"
      },
      "execution_count": 89,
      "outputs": []
    },
    {
      "cell_type": "code",
      "source": [
        "train_encodings.input_ids[:1]"
      ],
      "metadata": {
        "id": "4-Rvmf5cXP-P",
        "colab": {
          "base_uri": "https://localhost:8080/"
        },
        "outputId": "c03b841b-12a2-431b-a7ac-d0887db5e927"
      },
      "execution_count": 90,
      "outputs": [
        {
          "output_type": "execute_result",
          "data": {
            "text/plain": [
              "<tf.Tensor: shape=(1, 150), dtype=int32, numpy=\n",
              "array([[  101,   138,  6633,  1813,  1260,  1260,  1584,  1126,  2155,\n",
              "         1260,  4252,  3365,  1182, 24559, 22313,  9468, 24034,  5123,\n",
              "         3202,   117,   170,   179,  8456, 14200,  1777, 25762,  2599,\n",
              "         1260,  1137, 13417,  1306,  4554,  2050, 17054,  1161, 15686,\n",
              "        27901, 27647,  1233, 22108,  2599, 14086,  2328,   189, 12894,\n",
              "        11769, 12148, 19782, 14810,  1162,  1260,   175,  5971,  1197,\n",
              "          247, 17952,  1162,  1185,  5618,  1186,  1202, 14516,  1358,\n",
              "          189, 17952,  1348,  5114,   119,   102,     0,     0,     0,\n",
              "            0,     0,     0,     0,     0,     0,     0,     0,     0,\n",
              "            0,     0,     0,     0,     0,     0,     0,     0,     0,\n",
              "            0,     0,     0,     0,     0,     0,     0,     0,     0,\n",
              "            0,     0,     0,     0,     0,     0,     0,     0,     0,\n",
              "            0,     0,     0,     0,     0,     0,     0,     0,     0,\n",
              "            0,     0,     0,     0,     0,     0,     0,     0,     0,\n",
              "            0,     0,     0,     0,     0,     0,     0,     0,     0,\n",
              "            0,     0,     0,     0,     0,     0,     0,     0,     0,\n",
              "            0,     0,     0,     0,     0,     0]], dtype=int32)>"
            ]
          },
          "metadata": {},
          "execution_count": 90
        }
      ]
    },
    {
      "cell_type": "code",
      "source": [
        "from tensorflow.keras.layers import Input, Dense, Dropout, Concatenate, Reshape, GlobalMaxPooling1D, MultiHeadAttention\n",
        "from tensorflow.keras.models import Model\n",
        "from transformers import TFBertModel\n",
        "\n",
        "def create_target_dependent_sentiment_model(checkpoint=model_checkpoint,\n",
        "                                            num_classes=3,\n",
        "                                            hidden_size=201,\n",
        "                                            dropout=0.3,\n",
        "                                            learning_rate=0.00005):\n",
        "    \"\"\"\n",
        "    Build a multi-input sentiment analysis model with BERT, target embeddings, and attention mechanism.\n",
        "    \"\"\"\n",
        "    # Load pre-trained BERT model\n",
        "    bert_model = TFBertModel.from_pretrained(checkpoint)\n",
        "\n",
        "    # Freeze BERT layers to prevent training\n",
        "    for layer in bert_model.layers:\n",
        "        layer.trainable = False\n",
        "\n",
        "    # Define input layers for BERT\n",
        "    input_ids = Input(shape=(max_length,), dtype='int32', name='input_ids')\n",
        "    token_type_ids = Input(shape=(max_length,), dtype='int32', name='token_type_ids')\n",
        "    attention_mask = Input(shape=(max_length,), dtype='int32', name='attention_mask')\n",
        "\n",
        "    # Get BERT output\n",
        "    bert_output = bert_model(input_ids, token_type_ids=token_type_ids, attention_mask=attention_mask)[0]  # BERT sequence output\n",
        "\n",
        "    # Reshape BERT output to add sequence length dimension\n",
        "    bert_output_reshaped = Reshape((-1, 768))(bert_output)\n",
        "\n",
        "    # Apply attention mechanism to BERT output\n",
        "    attention_output = MultiHeadAttention(num_heads=2, key_dim=64)(bert_output_reshaped, bert_output_reshaped)\n",
        "\n",
        "    # Apply global max pooling to extract relevant features from attention output\n",
        "    pooled_output = GlobalMaxPooling1D()(attention_output)\n",
        "\n",
        "    # Define input layer for target IDs\n",
        "    target_ids = Input(shape=(max_length,), dtype='float32', name='target_ids')\n",
        "\n",
        "    # Add a dense layer to process target IDs\n",
        "    target_layer = Dense(hidden_size, activation='relu')(target_ids)\n",
        "\n",
        "    # Concatenate pooled attention output with processed target IDs\n",
        "    concatenated_output = Concatenate()([pooled_output, target_layer])\n",
        "\n",
        "    # Add hidden layer with dropout\n",
        "    hidden_layer = Dense(hidden_size, activation='relu', name='hidden_layer')(concatenated_output)\n",
        "    dropout_layer = Dropout(dropout)(hidden_layer)\n",
        "\n",
        "    # Add classification layer\n",
        "    output = Dense(num_classes, activation='softmax', name='output')(dropout_layer)  # Softmax for multi-class classification\n",
        "\n",
        "    # Create model\n",
        "    classification_model = Model(inputs=[input_ids, token_type_ids, attention_mask, target_ids], outputs=output)\n",
        "\n",
        "    # Compile model\n",
        "    classification_model.compile(optimizer='adam',\n",
        "                                  loss='sparse_categorical_crossentropy',\n",
        "                                  metrics=['accuracy'])\n",
        "\n",
        "    return classification_model"
      ],
      "metadata": {
        "id": "Q9fZ9iiHXgP9"
      },
      "execution_count": 91,
      "outputs": []
    },
    {
      "cell_type": "markdown",
      "source": [],
      "metadata": {
        "id": "xkzfsgZaYYn6"
      }
    },
    {
      "cell_type": "code",
      "source": [
        "pooler_bert_model = create_target_dependent_sentiment_model(num_classes=3)"
      ],
      "metadata": {
        "id": "sA70_vrGXlBO",
        "colab": {
          "base_uri": "https://localhost:8080/"
        },
        "outputId": "9895d3bf-4b67-406d-8e0b-47d1eaf3cbb2"
      },
      "execution_count": 92,
      "outputs": [
        {
          "output_type": "stream",
          "name": "stderr",
          "text": [
            "Some weights of the PyTorch model were not used when initializing the TF 2.0 model TFBertModel: ['cls.predictions.bias', 'cls.predictions.transform.LayerNorm.bias', 'cls.predictions.transform.LayerNorm.weight', 'cls.seq_relationship.bias', 'cls.predictions.transform.dense.weight', 'cls.seq_relationship.weight', 'cls.predictions.transform.dense.bias']\n",
            "- This IS expected if you are initializing TFBertModel from a PyTorch model trained on another task or with another architecture (e.g. initializing a TFBertForSequenceClassification model from a BertForPreTraining model).\n",
            "- This IS NOT expected if you are initializing TFBertModel from a PyTorch model that you expect to be exactly identical (e.g. initializing a TFBertForSequenceClassification model from a BertForSequenceClassification model).\n",
            "All the weights of TFBertModel were initialized from the PyTorch model.\n",
            "If your task is similar to the task the model of the checkpoint was trained on, you can already use TFBertModel for predictions without further training.\n"
          ]
        }
      ]
    },
    {
      "cell_type": "code",
      "source": [
        "pooler_bert_model.summary()"
      ],
      "metadata": {
        "id": "bfmuka4nEc-2",
        "colab": {
          "base_uri": "https://localhost:8080/"
        },
        "outputId": "9a15fb89-d219-4832-9758-ced74bb6c452"
      },
      "execution_count": 93,
      "outputs": [
        {
          "output_type": "stream",
          "name": "stdout",
          "text": [
            "Model: \"model_2\"\n",
            "__________________________________________________________________________________________________\n",
            " Layer (type)                Output Shape                 Param #   Connected to                  \n",
            "==================================================================================================\n",
            " input_ids (InputLayer)      [(None, 150)]                0         []                            \n",
            "                                                                                                  \n",
            " attention_mask (InputLayer  [(None, 150)]                0         []                            \n",
            " )                                                                                                \n",
            "                                                                                                  \n",
            " token_type_ids (InputLayer  [(None, 150)]                0         []                            \n",
            " )                                                                                                \n",
            "                                                                                                  \n",
            " tf_bert_model_5 (TFBertMod  TFBaseModelOutputWithPooli   1083102   ['input_ids[0][0]',           \n",
            " el)                         ngAndCrossAttentions(last_   72         'attention_mask[0][0]',      \n",
            "                             hidden_state=(None, 150, 7              'token_type_ids[0][0]']      \n",
            "                             68),                                                                 \n",
            "                              pooler_output=(None, 768)                                           \n",
            "                             , past_key_values=None, hi                                           \n",
            "                             dden_states=None, attentio                                           \n",
            "                             ns=None, cross_attentions=                                           \n",
            "                             None)                                                                \n",
            "                                                                                                  \n",
            " reshape_2 (Reshape)         (None, 150, 768)             0         ['tf_bert_model_5[0][0]']     \n",
            "                                                                                                  \n",
            " multi_head_attention_2 (Mu  (None, 150, 768)             394368    ['reshape_2[0][0]',           \n",
            " ltiHeadAttention)                                                   'reshape_2[0][0]']           \n",
            "                                                                                                  \n",
            " target_ids (InputLayer)     [(None, 150)]                0         []                            \n",
            "                                                                                                  \n",
            " global_max_pooling1d_2 (Gl  (None, 768)                  0         ['multi_head_attention_2[0][0]\n",
            " obalMaxPooling1D)                                                  ']                            \n",
            "                                                                                                  \n",
            " dense_2 (Dense)             (None, 201)                  30351     ['target_ids[0][0]']          \n",
            "                                                                                                  \n",
            " concatenate_2 (Concatenate  (None, 969)                  0         ['global_max_pooling1d_2[0][0]\n",
            " )                                                                  ',                            \n",
            "                                                                     'dense_2[0][0]']             \n",
            "                                                                                                  \n",
            " hidden_layer (Dense)        (None, 201)                  194970    ['concatenate_2[0][0]']       \n",
            "                                                                                                  \n",
            " dropout_224 (Dropout)       (None, 201)                  0         ['hidden_layer[0][0]']        \n",
            "                                                                                                  \n",
            " output (Dense)              (None, 3)                    606       ['dropout_224[0][0]']         \n",
            "                                                                                                  \n",
            "==================================================================================================\n",
            "Total params: 108930567 (415.54 MB)\n",
            "Trainable params: 620295 (2.37 MB)\n",
            "Non-trainable params: 108310272 (413.17 MB)\n",
            "__________________________________________________________________________________________________\n"
          ]
        }
      ]
    },
    {
      "cell_type": "code",
      "source": [
        "keras.utils.plot_model(pooler_bert_model, show_shapes=False, show_dtype=False, show_layer_names=True, dpi=90)"
      ],
      "metadata": {
        "id": "1KZ7kSokEgbM",
        "colab": {
          "base_uri": "https://localhost:8080/",
          "height": 803
        },
        "outputId": "b06bdc84-4229-4c35-fc52-4c57701e50ab"
      },
      "execution_count": 94,
      "outputs": [
        {
          "output_type": "execute_result",
          "data": {
            "image/png": "[encoded data removed]",
            "text/plain": [
              "<IPython.core.display.Image object>"
            ]
          },
          "metadata": {},
          "execution_count": 94
        }
      ]
    },
    {
      "cell_type": "code",
      "source": [
        "#get the labels in a needed data format for validation\n",
        "npvalid_labels = np.asarray(valid_labels)"
      ],
      "metadata": {
        "id": "L5h0ilZaEuim"
      },
      "execution_count": 95,
      "outputs": []
    },
    {
      "cell_type": "code",
      "source": [
        "import numpy as np  # Ensure numpy is imported\n",
        "\n",
        "# Convert train_labels and valid_labels to numpy arrays if they are not already\n",
        "train_labels = np.array(train_labels)\n",
        "valid_labels = np.array(valid_labels)\n",
        "\n",
        "# Use a dictionary to pass input data to the fit method\n",
        "input_data_train = {\n",
        "    'input_ids': train_encodings.input_ids,\n",
        "    'token_type_ids': train_encodings.token_type_ids,\n",
        "    'attention_mask': train_encodings.attention_mask,\n",
        "    'target_ids': np.array(train_targets)\n",
        "}\n",
        "\n",
        "input_data_valid = {\n",
        "    'input_ids': valid_encodings.input_ids,\n",
        "    'token_type_ids': valid_encodings.token_type_ids,\n",
        "    'attention_mask': valid_encodings.attention_mask,\n",
        "    'target_ids': np.array(valid_targets)\n",
        "}\n",
        "\n",
        "# Fit the model using the dictionary format for input data\n",
        "pooler_bert_model_history = pooler_bert_model.fit(\n",
        "    x=input_data_train,\n",
        "    y=train_labels,\n",
        "    validation_data=(input_data_valid, valid_labels),\n",
        "    batch_size=8,\n",
        "    epochs=1\n",
        ")"
      ],
      "metadata": {
        "id": "KiEH4OJjIsWB",
        "colab": {
          "base_uri": "https://localhost:8080/"
        },
        "outputId": "86b6a8e6-81c3-4dd1-8aa2-0bdd9bb3a743"
      },
      "execution_count": 96,
      "outputs": [
        {
          "output_type": "stream",
          "name": "stdout",
          "text": [
            "477/477 [==============================] - 2195s 5s/step - loss: 0.4559 - accuracy: 0.8249 - val_loss: 0.4146 - val_accuracy: 0.8167\n"
          ]
        }
      ]
    },
    {
      "cell_type": "code",
      "source": [
        "print(train_labels[:100])"
      ],
      "metadata": {
        "id": "D5Y7C9NBTuU-",
        "colab": {
          "base_uri": "https://localhost:8080/"
        },
        "outputId": "03102bd4-4e59-4563-a6ee-7b6fef0bb365"
      },
      "execution_count": 97,
      "outputs": [
        {
          "output_type": "stream",
          "name": "stdout",
          "text": [
            "[1 1 1 0 1 0 1 2 1 0 1 1 2 1 1 1 2 1 0 0 1 1 1 0 1 2 2 0 1 0 2 2 2 0 0 1 0\n",
            " 0 1 0 0 1 2 0 1 2 0 1 1 1 2 2 2 1 0 0 1 2 2 1 1 1 2 1 0 0 0 0 2 0 1 1 1 0\n",
            " 1 1 2 0 0 1 1 0 1 0 1 0 2 0 0 1 0 1 1 0 1 0 0 0 1 0]\n"
          ]
        }
      ]
    },
    {
      "cell_type": "code",
      "source": [
        "# Convert test_labels to a numpy array if it is not already\n",
        "test_labels = np.array(test_labels)\n",
        "\n",
        "# Use a dictionary to pass input data to the evaluate method\n",
        "input_data_test = {\n",
        "    'input_ids': test_encodings.input_ids,\n",
        "    'token_type_ids': test_encodings.token_type_ids,\n",
        "    'attention_mask': test_encodings.attention_mask,\n",
        "    'target_ids': np.array(test_targets)\n",
        "}\n",
        "\n",
        "# Evaluate the model using the dictionary format for input data\n",
        "score = pooler_bert_model.evaluate(\n",
        "    x=input_data_test,\n",
        "    y=test_labels\n",
        ")\n",
        "\n",
        "print('Test loss:', score[0])\n",
        "print('Test accuracy:', score[1])\n"
      ],
      "metadata": {
        "id": "JGXjdhaQMid-",
        "colab": {
          "base_uri": "https://localhost:8080/"
        },
        "outputId": "0df68190-764f-48a0-bbc8-dad7d80406ca"
      },
      "execution_count": 98,
      "outputs": [
        {
          "output_type": "stream",
          "name": "stdout",
          "text": [
            "32/32 [==============================] - 500s 16s/step - loss: 0.3702 - accuracy: 0.8570\n",
            "Test loss: 0.370169997215271\n",
            "Test accuracy: 0.8569999933242798\n"
          ]
        }
      ]
    },
    {
      "cell_type": "code",
      "source": [
        "predictions = pooler_bert_model.predict(\n",
        "    [test_encodings.input_ids, test_encodings.token_type_ids, test_encodings.attention_mask, np.array(test_targets)]\n",
        ")\n",
        "predictions_model1 = tf.argmax(predictions, axis=-1)\n",
        "predictions_model1"
      ],
      "metadata": {
        "id": "ewmPYaQZJcJj",
        "colab": {
          "base_uri": "https://localhost:8080/"
        },
        "outputId": "87088dbf-8624-4931-9cbd-f92ed212cd09"
      },
      "execution_count": 99,
      "outputs": [
        {
          "output_type": "stream",
          "name": "stdout",
          "text": [
            "32/32 [==============================] - 505s 16s/step\n"
          ]
        },
        {
          "output_type": "execute_result",
          "data": {
            "text/plain": [
              "<tf.Tensor: shape=(1000,), dtype=int64, numpy=\n",
              "array([1, 1, 1, 0, 1, 0, 2, 2, 2, 0, 1, 1, 2, 1, 0, 1, 0, 1, 1, 2, 1, 2,\n",
              "       2, 0, 2, 2, 0, 1, 2, 2, 0, 1, 0, 0, 2, 1, 1, 1, 1, 1, 0, 1, 1, 1,\n",
              "       2, 0, 2, 1, 0, 1, 2, 2, 2, 0, 2, 1, 0, 2, 2, 2, 2, 2, 1, 1, 2, 0,\n",
              "       0, 0, 2, 0, 1, 1, 0, 2, 0, 1, 0, 1, 0, 0, 0, 2, 1, 1, 2, 0, 1, 1,\n",
              "       2, 2, 2, 1, 1, 0, 0, 1, 1, 1, 2, 1, 0, 0, 1, 1, 0, 0, 0, 2, 2, 0,\n",
              "       1, 1, 0, 2, 0, 1, 1, 0, 1, 0, 0, 2, 2, 1, 2, 1, 2, 0, 1, 0, 1, 2,\n",
              "       0, 1, 1, 1, 2, 2, 1, 0, 1, 2, 1, 1, 1, 1, 2, 1, 0, 0, 1, 1, 1, 0,\n",
              "       0, 2, 2, 0, 0, 1, 2, 2, 1, 2, 2, 2, 2, 2, 1, 0, 1, 1, 2, 2, 2, 0,\n",
              "       2, 2, 0, 0, 2, 2, 0, 0, 1, 2, 1, 2, 1, 1, 2, 1, 2, 0, 1, 0, 0, 1,\n",
              "       2, 1, 0, 1, 2, 0, 0, 2, 1, 0, 1, 0, 0, 1, 1, 2, 2, 2, 1, 1, 2, 1,\n",
              "       1, 0, 0, 0, 1, 1, 0, 2, 0, 1, 1, 0, 0, 0, 1, 2, 0, 1, 1, 1, 1, 2,\n",
              "       0, 2, 0, 1, 0, 0, 1, 0, 2, 0, 0, 0, 0, 1, 1, 0, 1, 2, 2, 1, 1, 0,\n",
              "       1, 1, 0, 1, 1, 1, 2, 2, 0, 2, 1, 2, 1, 0, 0, 1, 1, 1, 2, 0, 0, 1,\n",
              "       1, 2, 2, 0, 1, 1, 0, 2, 1, 0, 0, 1, 2, 0, 0, 2, 0, 1, 1, 1, 1, 0,\n",
              "       0, 1, 2, 1, 1, 1, 1, 0, 2, 0, 0, 0, 0, 1, 1, 1, 0, 1, 2, 0, 1, 2,\n",
              "       1, 1, 2, 2, 1, 2, 1, 0, 1, 0, 2, 1, 0, 1, 1, 1, 1, 1, 2, 0, 0, 2,\n",
              "       0, 0, 1, 2, 2, 1, 2, 0, 0, 2, 1, 1, 2, 1, 1, 2, 0, 0, 1, 0, 1, 0,\n",
              "       1, 0, 0, 2, 0, 0, 1, 1, 0, 2, 0, 1, 0, 1, 1, 2, 0, 0, 2, 2, 0, 0,\n",
              "       2, 2, 0, 1, 2, 1, 0, 2, 0, 2, 1, 1, 0, 1, 0, 0, 2, 0, 2, 0, 0, 0,\n",
              "       0, 1, 2, 2, 2, 0, 0, 2, 1, 2, 1, 2, 2, 2, 1, 1, 1, 1, 1, 0, 1, 1,\n",
              "       1, 1, 0, 1, 2, 1, 1, 1, 1, 0, 2, 2, 1, 1, 1, 1, 1, 2, 0, 0, 0, 0,\n",
              "       1, 0, 1, 0, 1, 2, 0, 0, 0, 1, 0, 1, 2, 1, 2, 0, 1, 0, 2, 0, 1, 0,\n",
              "       1, 1, 1, 1, 1, 1, 0, 1, 2, 0, 2, 1, 0, 0, 2, 1, 0, 1, 0, 1, 2, 0,\n",
              "       0, 1, 0, 0, 0, 1, 2, 1, 1, 0, 2, 1, 0, 1, 0, 1, 0, 2, 1, 1, 1, 1,\n",
              "       0, 2, 2, 1, 0, 2, 0, 0, 1, 2, 0, 0, 1, 1, 0, 0, 2, 1, 0, 0, 2, 1,\n",
              "       2, 2, 0, 0, 1, 2, 1, 0, 2, 1, 2, 0, 1, 1, 2, 0, 1, 2, 1, 2, 1, 1,\n",
              "       1, 2, 0, 1, 1, 2, 1, 1, 1, 1, 2, 2, 0, 1, 0, 2, 0, 0, 1, 2, 1, 0,\n",
              "       0, 0, 0, 2, 2, 1, 1, 2, 1, 0, 1, 1, 0, 2, 2, 0, 2, 2, 1, 1, 1, 2,\n",
              "       2, 2, 0, 1, 0, 1, 2, 0, 0, 1, 1, 0, 0, 0, 2, 1, 2, 1, 1, 0, 1, 1,\n",
              "       1, 2, 1, 0, 1, 1, 0, 0, 0, 2, 0, 0, 1, 2, 2, 0, 1, 0, 1, 2, 1, 2,\n",
              "       0, 1, 1, 1, 1, 0, 2, 1, 2, 0, 1, 2, 1, 2, 1, 2, 1, 0, 2, 1, 1, 1,\n",
              "       1, 1, 0, 2, 2, 1, 2, 0, 1, 1, 0, 0, 2, 2, 2, 2, 0, 0, 1, 0, 1, 0,\n",
              "       1, 2, 1, 2, 2, 1, 2, 2, 1, 1, 0, 1, 2, 1, 1, 1, 0, 2, 1, 2, 1, 0,\n",
              "       0, 2, 2, 2, 0, 0, 2, 0, 0, 0, 2, 0, 1, 0, 1, 0, 1, 1, 1, 1, 0, 0,\n",
              "       0, 1, 1, 1, 2, 1, 1, 1, 1, 0, 2, 2, 2, 1, 1, 0, 2, 0, 2, 2, 0, 1,\n",
              "       1, 1, 2, 2, 1, 1, 1, 0, 2, 1, 1, 2, 0, 1, 1, 2, 0, 0, 2, 2, 0, 1,\n",
              "       0, 0, 0, 0, 0, 1, 0, 0, 1, 1, 0, 1, 2, 0, 2, 1, 0, 0, 1, 2, 0, 1,\n",
              "       1, 2, 1, 0, 0, 0, 0, 0, 1, 1, 2, 0, 1, 1, 0, 1, 0, 1, 2, 1, 2, 1,\n",
              "       1, 0, 1, 2, 2, 0, 0, 0, 0, 2, 2, 0, 1, 1, 0, 1, 1, 2, 1, 1, 1, 0,\n",
              "       2, 0, 1, 0, 1, 0, 1, 0, 2, 0, 2, 1, 2, 1, 1, 2, 0, 1, 0, 0, 2, 2,\n",
              "       0, 1, 1, 0, 1, 1, 0, 2, 2, 0, 2, 0, 2, 0, 0, 0, 2, 0, 0, 1, 1, 0,\n",
              "       2, 2, 0, 1, 1, 0, 1, 0, 1, 0, 2, 2, 0, 0, 2, 2, 2, 2, 1, 1, 0, 2,\n",
              "       0, 0, 2, 1, 1, 1, 1, 2, 1, 0, 1, 0, 2, 2, 1, 1, 2, 2, 0, 1, 0, 1,\n",
              "       1, 0, 1, 1, 0, 1, 2, 1, 2, 1, 1, 1, 2, 1, 0, 0, 0, 1, 1, 2, 2, 1,\n",
              "       0, 2, 1, 1, 1, 0, 1, 1, 2, 0, 1, 1, 1, 0, 0, 1, 1, 1, 1, 0, 0, 1,\n",
              "       2, 2, 1, 1, 0, 2, 0, 1, 1, 1])>"
            ]
          },
          "metadata": {},
          "execution_count": 99
        }
      ]
    },
    {
      "cell_type": "code",
      "source": [
        "target_names=['negative','neutral','positive']"
      ],
      "metadata": {
        "id": "gCkKwEaQNgij"
      },
      "execution_count": 100,
      "outputs": []
    },
    {
      "cell_type": "code",
      "source": [
        "print(classification_report(test_labels, predictions_model1.numpy(), target_names=target_names))"
      ],
      "metadata": {
        "id": "wD7yBpJiJfS0",
        "colab": {
          "base_uri": "https://localhost:8080/"
        },
        "outputId": "3ba32b64-4242-466b-938a-c14c2ec29b8d"
      },
      "execution_count": 101,
      "outputs": [
        {
          "output_type": "stream",
          "name": "stdout",
          "text": [
            "              precision    recall  f1-score   support\n",
            "\n",
            "    negative       0.95      0.85      0.90       364\n",
            "     neutral       0.82      0.83      0.83       401\n",
            "    positive       0.80      0.91      0.85       235\n",
            "\n",
            "    accuracy                           0.86      1000\n",
            "   macro avg       0.86      0.86      0.86      1000\n",
            "weighted avg       0.86      0.86      0.86      1000\n",
            "\n"
          ]
        }
      ]
    }
  ]
}