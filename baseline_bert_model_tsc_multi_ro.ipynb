{
  "nbformat": 4,
  "nbformat_minor": 0,
  "metadata": {
    "colab": {
      "provenance": []
    },
    "kernelspec": {
      "name": "python3",
      "display_name": "Python 3"
    },
    "language_info": {
      "name": "python"
    }
  },
  "cells": [
    {
      "cell_type": "code",
      "source": [
        "!pip install -q transformers==4.37.2"
      ],
      "metadata": {
        "id": "oTl7ifYRLpBI"
      },
      "execution_count": 128,
      "outputs": []
    },
    {
      "cell_type": "code",
      "source": [
        "!pip install pydot"
      ],
      "metadata": {
        "colab": {
          "base_uri": "https://localhost:8080/"
        },
        "id": "IZuHVbllRnzs",
        "outputId": "81125bee-55d9-4f41-b717-a4496e9df647"
      },
      "execution_count": 129,
      "outputs": [
        {
          "output_type": "stream",
          "name": "stdout",
          "text": [
            "Requirement already satisfied: pydot in /usr/local/lib/python3.10/dist-packages (1.4.2)\n",
            "Requirement already satisfied: pyparsing>=2.1.4 in /usr/local/lib/python3.10/dist-packages (from pydot) (3.1.2)\n"
          ]
        }
      ]
    },
    {
      "cell_type": "code",
      "source": [
        "from transformers import BertTokenizer, TFBertModel"
      ],
      "metadata": {
        "id": "bSbCMTLaRuVR"
      },
      "execution_count": 130,
      "outputs": []
    },
    {
      "cell_type": "code",
      "source": [
        "from sklearn.datasets import fetch_20newsgroups\n",
        "from sklearn.model_selection import train_test_split\n",
        "from sklearn.metrics import classification_report"
      ],
      "metadata": {
        "id": "iwsORDcURpTj"
      },
      "execution_count": 131,
      "outputs": []
    },
    {
      "cell_type": "code",
      "source": [
        "from collections import Counter\n",
        "import numpy as np\n",
        "import tensorflow as tf\n",
        "from tensorflow import keras\n",
        "\n",
        "import seaborn as sns\n",
        "import matplotlib.pyplot as plt\n",
        "from pprint import pprint"
      ],
      "metadata": {
        "id": "6LKehb4PRsNy"
      },
      "execution_count": 132,
      "outputs": []
    },
    {
      "cell_type": "code",
      "source": [
        "import json\n",
        "from transformers import BertTokenizer, TFBertModel\n",
        "import tensorflow as tf\n",
        "# Load JSONL dataset\n",
        "data = []\n",
        "train_texts=[]\n",
        "train_labels=[]\n",
        "train_targets=[]\n",
        "# get train example and label\n",
        "with open('/content/sample_data/train.jsonl', 'r') as f:\n",
        "    for line in f:\n",
        "      text=json.loads(line)\n",
        "      data.append(text)\n",
        "      train_texts.append(text['sentence_normalized'])\n",
        "      polarity=int(text['targets'][0]['polarity'])\n",
        "      this_polarity = -1\n",
        "      if polarity==2:\n",
        "        this_polarity = 0\n",
        "      elif polarity==4:\n",
        "        this_polarity = 1\n",
        "      elif polarity==6:\n",
        "        this_polarity = 2\n",
        "      else:\n",
        "        print('error')\n",
        "\n",
        "      train_labels.append(this_polarity)\n",
        "      targets = text['targets']\n",
        "      target_vector = np.zeros(150)\n",
        "\n",
        "      for target in targets:\n",
        "        target_vector[target['from']:target['to']] = this_polarity\n",
        "\n",
        "      train_targets.append(target_vector)\n",
        "\n",
        "\n",
        "\n",
        "\n",
        "\n",
        "\n",
        "\n",
        "\n",
        "\n",
        "\n",
        "\n",
        "\n",
        "# Preprocess Data and Tokenization\n",
        "\n",
        "\n",
        "\n",
        "#print(data[0])\n"
      ],
      "metadata": {
        "id": "sxFAy2k2S7Y_"
      },
      "execution_count": 133,
      "outputs": []
    },
    {
      "cell_type": "code",
      "source": [
        "print(train_texts[2])"
      ],
      "metadata": {
        "id": "H-6RNkNT-F_o",
        "colab": {
          "base_uri": "https://localhost:8080/"
        },
        "outputId": "87838068-87be-483a-d92b-bc20ef115af9"
      },
      "execution_count": 134,
      "outputs": [
        {
          "output_type": "stream",
          "name": "stdout",
          "text": [
            "Pentru La Stampa, \"era clar încă de la întâlnirea romană dintre Monti, Merkel, Hollande şi Rajoy\", din 22 iunie, că acest Consiliu care a început astăzi \"va fi prima şi cea mai grea încercare prin care conducătorii europeni vor încerca să fondeze, şi, cine ştie, să lanseze, o nouă uniune monetară\":\n"
          ]
        }
      ]
    },
    {
      "cell_type": "code",
      "source": [
        "\n",
        "# Load JSONL dataset\n",
        "data_test = []\n",
        "test_texts=[]\n",
        "test_labels=[]\n",
        "test_targets=[]\n",
        "# get test example and label\n",
        "with open('/content/sample_data/test.json', 'r') as f:\n",
        "    for line in f:\n",
        "      text=json.loads(line)\n",
        "      data_test.append(text)\n",
        "      test_texts.append(text['sentence_normalized'])\n",
        "      polarity=int(text['targets'][0]['polarity'])\n",
        "      this_polarity = -1\n",
        "      if polarity==2:\n",
        "        this_polarity = 0\n",
        "      elif polarity==4:\n",
        "        this_polarity = 1\n",
        "      elif polarity==6:\n",
        "        this_polarity = 2\n",
        "      else:\n",
        "        print('error')\n",
        "\n",
        "      test_labels.append(this_polarity)\n",
        "      targets = text['targets']\n",
        "      target_vector = np.zeros(150)\n",
        "\n",
        "      for target in targets:\n",
        "        target_vector[target['from']:target['to']] = this_polarity\n",
        "\n",
        "      test_targets.append(target_vector)\n"
      ],
      "metadata": {
        "id": "tw6CQGosVq7j"
      },
      "execution_count": 135,
      "outputs": []
    },
    {
      "cell_type": "code",
      "source": [
        "print(len(test_texts))"
      ],
      "metadata": {
        "id": "bZoXAhvb6eTY",
        "colab": {
          "base_uri": "https://localhost:8080/"
        },
        "outputId": "58d45c0e-631a-464f-9db8-572c6b3dfb2c"
      },
      "execution_count": 136,
      "outputs": [
        {
          "output_type": "stream",
          "name": "stdout",
          "text": [
            "1000\n"
          ]
        }
      ]
    },
    {
      "cell_type": "code",
      "source": [
        "# Load JSONL dataset\n",
        "data_vali = []\n",
        "valid_texts=[]\n",
        "valid_labels=[]\n",
        "valid_targets=[]\n",
        "# get valid example and label\n",
        "with open('/content/sample_data/validation.jsonl', 'r') as f:\n",
        "    for line in f:\n",
        "      text=json.loads(line)\n",
        "      data_vali.append(text)\n",
        "      valid_texts.append(text['sentence_normalized'])\n",
        "      polarity=int(text['targets'][0]['polarity'])\n",
        "      this_polarity = -1\n",
        "      if polarity==2:\n",
        "        this_polarity = 0\n",
        "      elif polarity==4:\n",
        "        this_polarity = 1\n",
        "      elif polarity==6:\n",
        "        this_polarity = 2\n",
        "      else:\n",
        "        print('error')\n",
        "\n",
        "      valid_labels.append(this_polarity)\n",
        "      targets = text['targets']\n",
        "      target_vector = np.zeros(150)\n",
        "\n",
        "      for target in targets:\n",
        "        target_vector[target['from']:target['to']] = this_polarity\n",
        "\n",
        "      valid_targets.append(target_vector)"
      ],
      "metadata": {
        "id": "QTDr6wIVKh9l"
      },
      "execution_count": 137,
      "outputs": []
    },
    {
      "cell_type": "code",
      "source": [
        "print(len(valid_texts))"
      ],
      "metadata": {
        "id": "-qL2KXUT6hMA",
        "colab": {
          "base_uri": "https://localhost:8080/"
        },
        "outputId": "3a64ba17-c7af-4f86-a507-b0e3cb54a584"
      },
      "execution_count": 138,
      "outputs": [
        {
          "output_type": "stream",
          "name": "stdout",
          "text": [
            "300\n"
          ]
        }
      ]
    },
    {
      "cell_type": "code",
      "source": [
        "integer_counts = Counter(valid_labels)\n",
        "# Print the summary\n",
        "for integer, count in integer_counts.items():\n",
        "    print(f\"Integer {integer} appears {count} times\")"
      ],
      "metadata": {
        "id": "8EYUigK_YNqI",
        "colab": {
          "base_uri": "https://localhost:8080/"
        },
        "outputId": "94e31c40-9efe-4802-d736-b051172a0304"
      },
      "execution_count": 139,
      "outputs": [
        {
          "output_type": "stream",
          "name": "stdout",
          "text": [
            "Integer 2 appears 71 times\n",
            "Integer 1 appears 117 times\n",
            "Integer 0 appears 112 times\n"
          ]
        }
      ]
    },
    {
      "cell_type": "code",
      "source": [
        "integer_counts = Counter(test_labels)\n",
        "# Print the summary\n",
        "for integer, count in integer_counts.items():\n",
        "    print(f\"Integer {integer} appears {count} times\")"
      ],
      "metadata": {
        "id": "uACwoXYV6tVY",
        "colab": {
          "base_uri": "https://localhost:8080/"
        },
        "outputId": "ed942807-3bae-4789-8328-5a34843ea95b"
      },
      "execution_count": 140,
      "outputs": [
        {
          "output_type": "stream",
          "name": "stdout",
          "text": [
            "Integer 1 appears 401 times\n",
            "Integer 0 appears 364 times\n",
            "Integer 2 appears 235 times\n"
          ]
        }
      ]
    },
    {
      "cell_type": "code",
      "source": [
        "integer_counts = Counter(train_labels)\n",
        "# Print the summary\n",
        "for integer, count in integer_counts.items():\n",
        "    print(f\"Integer {integer} appears {count} times\")"
      ],
      "metadata": {
        "id": "iu8nKXdi6uhJ",
        "colab": {
          "base_uri": "https://localhost:8080/"
        },
        "outputId": "37a001ae-efbf-4e0a-8ac4-af330f04ae75"
      },
      "execution_count": 141,
      "outputs": [
        {
          "output_type": "stream",
          "name": "stdout",
          "text": [
            "Integer 1 appears 1493 times\n",
            "Integer 0 appears 1363 times\n",
            "Integer 2 appears 954 times\n"
          ]
        }
      ]
    },
    {
      "cell_type": "code",
      "source": [
        "#baseline multinomial Naive Bayes\n",
        "from sklearn.feature_extraction.text import CountVectorizer\n",
        "from sklearn.naive_bayes import MultinomialNB\n",
        "from sklearn.pipeline import Pipeline\n",
        "from sklearn.metrics import accuracy_score"
      ],
      "metadata": {
        "id": "7-1okbErzzmA"
      },
      "execution_count": 142,
      "outputs": []
    },
    {
      "cell_type": "code",
      "source": [
        "# Training data\n",
        "\n",
        "# Create a pipeline with CountVectorizer and MultinomialNB\n",
        "pipeline = Pipeline([\n",
        "    ('vect', CountVectorizer()),  # Convert text to word count vectors\n",
        "    ('clf', MultinomialNB()),     # Multinomial Naive Bayes classifier\n",
        "])\n",
        "# Train the model\n",
        "pipeline.fit(train_texts, train_labels)\n",
        "# Test the model\n",
        "# Example test data\n",
        "\n",
        "# Predict sentiment for test data\n",
        "predictions = pipeline.predict(test_texts)\n",
        "print(predictions)"
      ],
      "metadata": {
        "id": "eEPdC_o22FXB",
        "colab": {
          "base_uri": "https://localhost:8080/"
        },
        "outputId": "fd05a193-98db-4278-ee9b-70bbe6135b56"
      },
      "execution_count": 143,
      "outputs": [
        {
          "output_type": "stream",
          "name": "stdout",
          "text": [
            "[1 0 0 0 1 0 1 0 1 0 1 0 2 1 0 1 1 0 1 1 1 0 1 0 1 1 1 1 1 2 0 0 1 0 2 1 1\n",
            " 1 1 1 0 1 1 1 2 2 0 1 0 2 0 1 0 0 1 0 0 2 1 1 0 2 1 0 1 0 0 1 0 0 1 2 0 0\n",
            " 0 1 0 1 0 1 0 1 1 1 1 0 0 2 1 1 1 1 1 0 1 1 1 0 1 0 0 0 1 0 1 0 1 0 2 1 1\n",
            " 0 0 1 0 0 0 0 1 0 1 0 1 0 2 1 0 1 1 1 0 1 1 0 2 0 0 2 1 2 0 1 1 0 1 1 0 0\n",
            " 0 2 1 1 2 0 0 1 1 0 0 1 2 0 1 1 0 1 1 1 0 0 1 0 0 1 2 0 0 0 0 0 0 2 1 0 1\n",
            " 1 1 2 1 1 1 2 1 0 1 0 1 1 0 1 1 1 0 0 0 0 0 0 0 0 0 1 1 1 1 2 0 1 2 0 1 0\n",
            " 1 1 0 2 0 0 0 0 1 0 0 1 1 2 0 2 0 1 1 2 0 2 1 1 0 1 1 1 2 0 0 0 0 1 0 0 1\n",
            " 0 0 1 1 0 1 1 0 1 1 1 0 1 0 1 0 1 0 0 0 1 1 2 0 0 1 2 0 1 0 0 0 1 0 0 1 0\n",
            " 0 0 1 1 0 0 0 1 1 1 1 0 0 0 1 1 2 0 2 0 2 0 0 0 0 0 0 1 0 1 1 0 0 2 1 0 0\n",
            " 1 0 1 0 0 0 0 1 0 0 1 1 1 0 1 2 0 1 2 0 0 1 1 0 0 1 0 0 1 1 0 1 1 2 0 1 0\n",
            " 0 0 1 0 0 0 1 1 0 1 1 0 0 2 0 1 1 1 1 0 0 1 1 1 0 0 0 1 0 1 1 1 1 2 0 1 0\n",
            " 1 0 1 1 1 1 0 0 0 0 0 0 0 1 1 0 0 1 1 0 0 0 1 1 0 1 1 1 1 1 0 1 1 1 0 0 0\n",
            " 1 1 1 1 1 0 1 1 1 0 0 1 1 0 1 0 0 0 2 0 1 0 1 2 0 0 0 0 0 1 2 1 0 1 0 0 1\n",
            " 0 1 0 0 1 1 0 1 0 1 0 1 0 0 0 0 0 1 0 1 2 0 1 1 1 0 1 1 0 0 1 0 1 2 1 0 1\n",
            " 1 0 0 0 0 0 1 0 2 1 0 0 1 0 0 2 0 0 0 1 0 1 0 2 0 0 0 1 0 1 1 1 0 2 0 1 2\n",
            " 0 1 0 1 1 1 0 1 1 0 0 1 1 0 1 1 1 1 2 0 0 1 2 2 0 1 1 1 1 0 1 0 0 1 2 0 0\n",
            " 1 0 1 1 0 1 0 0 0 0 0 0 1 0 0 1 1 0 1 0 2 1 0 1 0 1 0 1 0 1 1 2 1 0 1 1 2\n",
            " 0 1 1 1 1 1 0 1 1 1 1 0 0 0 0 0 1 2 1 0 0 0 1 1 0 1 1 1 1 0 1 0 1 1 2 1 1\n",
            " 0 0 2 0 1 2 1 2 1 0 1 0 0 1 1 1 2 1 0 2 1 1 2 0 1 2 1 0 1 0 1 1 1 0 2 0 1\n",
            " 0 1 1 1 0 1 1 0 0 1 2 0 1 2 2 0 1 1 0 1 0 0 2 1 0 0 0 1 0 1 0 0 0 1 0 0 0\n",
            " 0 0 1 0 0 0 0 0 0 1 1 1 1 2 1 1 1 0 0 0 2 1 1 1 1 1 1 1 0 1 1 0 0 2 1 2 1\n",
            " 0 1 1 0 0 1 1 1 1 1 1 0 1 1 1 0 2 0 0 0 1 0 2 0 0 1 1 0 1 1 1 1 0 1 1 0 1\n",
            " 1 1 1 1 0 0 0 0 0 1 1 1 1 1 0 0 0 1 0 0 1 1 0 2 0 2 2 0 1 0 0 0 1 2 0 1 0\n",
            " 2 1 0 1 0 0 0 1 1 0 0 0 0 2 0 1 0 0 1 2 2 1 1 0 1 0 0 1 1 0 1 1 0 1 1 0 0\n",
            " 0 0 0 0 0 0 2 0 0 2 0 1 1 0 0 2 0 0 1 0 1 2 2 1 0 1 0 1 0 0 1 1 1 1 1 0 0\n",
            " 0 0 1 0 0 0 0 0 0 1 1 1 1 1 0 2 1 2 0 0 1 1 0 1 0 0 1 1 1 0 0 1 1 0 0 0 0\n",
            " 0 0 0 1 1 1 0 0 2 0 0 0 1 0 0 0 1 1 0 0 0 1 2 1 1 1 0 0 1 1 1 1 2 1 0 0 1\n",
            " 1]\n"
          ]
        }
      ]
    },
    {
      "cell_type": "code",
      "source": [
        "# Evaluate model performance\n",
        "accuracy = accuracy_score(test_labels, predictions)\n",
        "print(\"Accuracy:\", accuracy)"
      ],
      "metadata": {
        "id": "7yUuL8Hm2ia_",
        "colab": {
          "base_uri": "https://localhost:8080/"
        },
        "outputId": "d3e1b087-e57a-4692-88f6-1b6fc84269fe"
      },
      "execution_count": 144,
      "outputs": [
        {
          "output_type": "stream",
          "name": "stdout",
          "text": [
            "Accuracy: 0.572\n"
          ]
        }
      ]
    },
    {
      "cell_type": "code",
      "source": [
        "model_checkpoint = 'bert-base-multilingual-cased'"
      ],
      "metadata": {
        "id": "DQg-CFNJGZrL"
      },
      "execution_count": 145,
      "outputs": []
    },
    {
      "cell_type": "code",
      "source": [
        "bert_tokenizer = BertTokenizer.from_pretrained(model_checkpoint)\n",
        "bert_model = TFBertModel.from_pretrained(model_checkpoint)"
      ],
      "metadata": {
        "id": "W9LpcRD5XBkG",
        "colab": {
          "base_uri": "https://localhost:8080/"
        },
        "outputId": "97768559-7738-4eba-8b86-5b5e23ea82cb"
      },
      "execution_count": 146,
      "outputs": [
        {
          "output_type": "stream",
          "name": "stderr",
          "text": [
            "Some weights of the PyTorch model were not used when initializing the TF 2.0 model TFBertModel: ['cls.seq_relationship.bias', 'cls.predictions.transform.dense.bias', 'cls.predictions.transform.dense.weight', 'cls.seq_relationship.weight', 'cls.predictions.bias', 'cls.predictions.transform.LayerNorm.weight', 'cls.predictions.transform.LayerNorm.bias']\n",
            "- This IS expected if you are initializing TFBertModel from a PyTorch model trained on another task or with another architecture (e.g. initializing a TFBertForSequenceClassification model from a BertForPreTraining model).\n",
            "- This IS NOT expected if you are initializing TFBertModel from a PyTorch model that you expect to be exactly identical (e.g. initializing a TFBertForSequenceClassification model from a BertForSequenceClassification model).\n",
            "All the weights of TFBertModel were initialized from the PyTorch model.\n",
            "If your task is similar to the task the model of the checkpoint was trained on, you can already use TFBertModel for predictions without further training.\n"
          ]
        }
      ]
    },
    {
      "cell_type": "code",
      "source": [
        "max_length = 150"
      ],
      "metadata": {
        "id": "3T9FsLMPXInb"
      },
      "execution_count": 147,
      "outputs": []
    },
    {
      "cell_type": "code",
      "source": [
        "# tokenize the dataset, truncate at `max_length`,\n",
        "# and pad with 0's when less than `max_length` and return a tf Tensor\n",
        "train_encodings = bert_tokenizer(train_texts, truncation=True, padding='max_length', max_length=max_length, return_tensors='tf')\n",
        "valid_encodings = bert_tokenizer(valid_texts, truncation=True, padding='max_length', max_length=max_length, return_tensors='tf')\n",
        "test_encodings = bert_tokenizer(test_texts, truncation=True, padding='max_length', max_length=max_length, return_tensors='tf')"
      ],
      "metadata": {
        "id": "ICgKHLOWXKzf"
      },
      "execution_count": 148,
      "outputs": []
    },
    {
      "cell_type": "code",
      "source": [
        "train_encodings.input_ids[:1]"
      ],
      "metadata": {
        "id": "4-Rvmf5cXP-P",
        "colab": {
          "base_uri": "https://localhost:8080/"
        },
        "outputId": "1121a3a6-63f7-4bf4-b5de-35b934b775ae"
      },
      "execution_count": 149,
      "outputs": [
        {
          "output_type": "execute_result",
          "data": {
            "text/plain": [
              "<tf.Tensor: shape=(1, 150), dtype=int32, numpy=\n",
              "array([[   101,  11946,  11322,  18497,  48070,  10941,  10419,  15444,\n",
              "         10104,  11419,  69692,  10136, 110969,  10471,  10378,  12229,\n",
              "         36514,    117, 106227,  96488,  10213,  15893,  30131,  10471,\n",
              "         10104,  13588,  30610,  49529,  11630,  10471,  63594,  13796,\n",
              "         32066,  10161,  11085,  10170,  25061,  10112,  60716,  18220,\n",
              "         13552,  78276,  14767,  12093,  11190,  92710,  46393,  45131,\n",
              "         10113,  10378,  36482,  34182, 107001,  15488,    119,    102,\n",
              "             0,      0,      0,      0,      0,      0,      0,      0,\n",
              "             0,      0,      0,      0,      0,      0,      0,      0,\n",
              "             0,      0,      0,      0,      0,      0,      0,      0,\n",
              "             0,      0,      0,      0,      0,      0,      0,      0,\n",
              "             0,      0,      0,      0,      0,      0,      0,      0,\n",
              "             0,      0,      0,      0,      0,      0,      0,      0,\n",
              "             0,      0,      0,      0,      0,      0,      0,      0,\n",
              "             0,      0,      0,      0,      0,      0,      0,      0,\n",
              "             0,      0,      0,      0,      0,      0,      0,      0,\n",
              "             0,      0,      0,      0,      0,      0,      0,      0,\n",
              "             0,      0,      0,      0,      0,      0,      0,      0,\n",
              "             0,      0,      0,      0,      0,      0]], dtype=int32)>"
            ]
          },
          "metadata": {},
          "execution_count": 149
        }
      ]
    },
    {
      "cell_type": "code",
      "source": [
        "from tensorflow.keras.layers import Input, Dense, Dropout, Concatenate, Reshape, GlobalMaxPooling1D, MultiHeadAttention\n",
        "from tensorflow.keras.models import Model\n",
        "from transformers import TFBertModel\n",
        "\n",
        "def create_target_dependent_sentiment_model(checkpoint=model_checkpoint,\n",
        "                                            num_classes=3,\n",
        "                                            hidden_size=201,\n",
        "                                            dropout=0.3,\n",
        "                                            learning_rate=0.00005):\n",
        "    \"\"\"\n",
        "    Build a multi-input sentiment analysis model with BERT, target embeddings, and attention mechanism.\n",
        "    \"\"\"\n",
        "    # Load pre-trained BERT model\n",
        "    bert_model = TFBertModel.from_pretrained(checkpoint)\n",
        "\n",
        "    # Freeze BERT layers to prevent training\n",
        "    for layer in bert_model.layers:\n",
        "        layer.trainable = False\n",
        "\n",
        "    # Define input layers for BERT\n",
        "    input_ids = Input(shape=(max_length,), dtype='int32', name='input_ids')\n",
        "    token_type_ids = Input(shape=(max_length,), dtype='int32', name='token_type_ids')\n",
        "    attention_mask = Input(shape=(max_length,), dtype='int32', name='attention_mask')\n",
        "\n",
        "    # Get BERT output\n",
        "    bert_output = bert_model(input_ids, token_type_ids=token_type_ids, attention_mask=attention_mask)[0]  # BERT sequence output\n",
        "\n",
        "    # Reshape BERT output to add sequence length dimension\n",
        "    bert_output_reshaped = Reshape((-1, 768))(bert_output)\n",
        "\n",
        "    # Apply attention mechanism to BERT output\n",
        "    attention_output = MultiHeadAttention(num_heads=2, key_dim=64)(bert_output_reshaped, bert_output_reshaped)\n",
        "\n",
        "    # Apply global max pooling to extract relevant features from attention output\n",
        "    pooled_output = GlobalMaxPooling1D()(attention_output)\n",
        "\n",
        "    # Define input layer for target IDs\n",
        "    target_ids = Input(shape=(max_length,), dtype='float32', name='target_ids')\n",
        "\n",
        "    # Add a dense layer to process target IDs\n",
        "    target_layer = Dense(hidden_size, activation='relu')(target_ids)\n",
        "\n",
        "    # Concatenate pooled attention output with processed target IDs\n",
        "    concatenated_output = Concatenate()([pooled_output, target_layer])\n",
        "\n",
        "    # Add hidden layer with dropout\n",
        "    hidden_layer = Dense(hidden_size, activation='relu', name='hidden_layer')(concatenated_output)\n",
        "    dropout_layer = Dropout(dropout)(hidden_layer)\n",
        "\n",
        "    # Add classification layer\n",
        "    output = Dense(num_classes, activation='softmax', name='output')(dropout_layer)  # Softmax for multi-class classification\n",
        "\n",
        "    # Create model\n",
        "    classification_model = Model(inputs=[input_ids, token_type_ids, attention_mask, target_ids], outputs=output)\n",
        "\n",
        "    # Compile model\n",
        "    classification_model.compile(optimizer='adam',\n",
        "                                  loss='sparse_categorical_crossentropy',\n",
        "                                  metrics=['accuracy'])\n",
        "\n",
        "    return classification_model"
      ],
      "metadata": {
        "id": "Q9fZ9iiHXgP9"
      },
      "execution_count": 150,
      "outputs": []
    },
    {
      "cell_type": "markdown",
      "source": [],
      "metadata": {
        "id": "xkzfsgZaYYn6"
      }
    },
    {
      "cell_type": "code",
      "source": [
        "pooler_bert_model = create_target_dependent_sentiment_model(num_classes=3)"
      ],
      "metadata": {
        "id": "sA70_vrGXlBO",
        "colab": {
          "base_uri": "https://localhost:8080/"
        },
        "outputId": "05420480-757a-4583-8f76-e1df9816de05"
      },
      "execution_count": 151,
      "outputs": [
        {
          "output_type": "stream",
          "name": "stderr",
          "text": [
            "Some weights of the PyTorch model were not used when initializing the TF 2.0 model TFBertModel: ['cls.seq_relationship.bias', 'cls.predictions.transform.dense.bias', 'cls.predictions.transform.dense.weight', 'cls.seq_relationship.weight', 'cls.predictions.bias', 'cls.predictions.transform.LayerNorm.weight', 'cls.predictions.transform.LayerNorm.bias']\n",
            "- This IS expected if you are initializing TFBertModel from a PyTorch model trained on another task or with another architecture (e.g. initializing a TFBertForSequenceClassification model from a BertForPreTraining model).\n",
            "- This IS NOT expected if you are initializing TFBertModel from a PyTorch model that you expect to be exactly identical (e.g. initializing a TFBertForSequenceClassification model from a BertForSequenceClassification model).\n",
            "All the weights of TFBertModel were initialized from the PyTorch model.\n",
            "If your task is similar to the task the model of the checkpoint was trained on, you can already use TFBertModel for predictions without further training.\n"
          ]
        }
      ]
    },
    {
      "cell_type": "code",
      "source": [
        "pooler_bert_model.summary()"
      ],
      "metadata": {
        "id": "bfmuka4nEc-2",
        "colab": {
          "base_uri": "https://localhost:8080/"
        },
        "outputId": "80b13ddd-43bd-49d5-853b-95d887f30abd"
      },
      "execution_count": 152,
      "outputs": [
        {
          "output_type": "stream",
          "name": "stdout",
          "text": [
            "Model: \"model_4\"\n",
            "__________________________________________________________________________________________________\n",
            " Layer (type)                Output Shape                 Param #   Connected to                  \n",
            "==================================================================================================\n",
            " input_ids (InputLayer)      [(None, 150)]                0         []                            \n",
            "                                                                                                  \n",
            " attention_mask (InputLayer  [(None, 150)]                0         []                            \n",
            " )                                                                                                \n",
            "                                                                                                  \n",
            " token_type_ids (InputLayer  [(None, 150)]                0         []                            \n",
            " )                                                                                                \n",
            "                                                                                                  \n",
            " tf_bert_model_9 (TFBertMod  TFBaseModelOutputWithPooli   1778534   ['input_ids[0][0]',           \n",
            " el)                         ngAndCrossAttentions(last_   40         'attention_mask[0][0]',      \n",
            "                             hidden_state=(None, 150, 7              'token_type_ids[0][0]']      \n",
            "                             68),                                                                 \n",
            "                              pooler_output=(None, 768)                                           \n",
            "                             , past_key_values=None, hi                                           \n",
            "                             dden_states=None, attentio                                           \n",
            "                             ns=None, cross_attentions=                                           \n",
            "                             None)                                                                \n",
            "                                                                                                  \n",
            " reshape_4 (Reshape)         (None, 150, 768)             0         ['tf_bert_model_9[0][0]']     \n",
            "                                                                                                  \n",
            " multi_head_attention_4 (Mu  (None, 150, 768)             394368    ['reshape_4[0][0]',           \n",
            " ltiHeadAttention)                                                   'reshape_4[0][0]']           \n",
            "                                                                                                  \n",
            " target_ids (InputLayer)     [(None, 150)]                0         []                            \n",
            "                                                                                                  \n",
            " global_max_pooling1d_4 (Gl  (None, 768)                  0         ['multi_head_attention_4[0][0]\n",
            " obalMaxPooling1D)                                                  ']                            \n",
            "                                                                                                  \n",
            " dense_4 (Dense)             (None, 201)                  30351     ['target_ids[0][0]']          \n",
            "                                                                                                  \n",
            " concatenate_4 (Concatenate  (None, 969)                  0         ['global_max_pooling1d_4[0][0]\n",
            " )                                                                  ',                            \n",
            "                                                                     'dense_4[0][0]']             \n",
            "                                                                                                  \n",
            " hidden_layer (Dense)        (None, 201)                  194970    ['concatenate_4[0][0]']       \n",
            "                                                                                                  \n",
            " dropout_374 (Dropout)       (None, 201)                  0         ['hidden_layer[0][0]']        \n",
            "                                                                                                  \n",
            " output (Dense)              (None, 3)                    606       ['dropout_374[0][0]']         \n",
            "                                                                                                  \n",
            "==================================================================================================\n",
            "Total params: 178473735 (680.82 MB)\n",
            "Trainable params: 620295 (2.37 MB)\n",
            "Non-trainable params: 177853440 (678.46 MB)\n",
            "__________________________________________________________________________________________________\n"
          ]
        }
      ]
    },
    {
      "cell_type": "code",
      "source": [
        "keras.utils.plot_model(pooler_bert_model, show_shapes=False, show_dtype=False, show_layer_names=True, dpi=90)"
      ],
      "metadata": {
        "id": "1KZ7kSokEgbM",
        "colab": {
          "base_uri": "https://localhost:8080/",
          "height": 803
        },
        "outputId": "215c4060-6af2-406c-9420-440907eceb3b"
      },
      "execution_count": 153,
      "outputs": [
        {
          "output_type": "execute_result",
          "data": {
            "image/png": "[encoded data removed]",
            "text/plain": [
              "<IPython.core.display.Image object>"
            ]
          },
          "metadata": {},
          "execution_count": 153
        }
      ]
    },
    {
      "cell_type": "code",
      "source": [
        "#get the labels in a needed data format for validation\n",
        "npvalid_labels = np.asarray(valid_labels)"
      ],
      "metadata": {
        "id": "L5h0ilZaEuim"
      },
      "execution_count": 154,
      "outputs": []
    },
    {
      "cell_type": "code",
      "source": [
        "import numpy as np  # Ensure numpy is imported\n",
        "\n",
        "# Convert train_labels and valid_labels to numpy arrays if they are not already\n",
        "train_labels = np.array(train_labels)\n",
        "valid_labels = np.array(valid_labels)\n",
        "\n",
        "# Use a dictionary to pass input data to the fit method\n",
        "input_data_train = {\n",
        "    'input_ids': train_encodings.input_ids,\n",
        "    'token_type_ids': train_encodings.token_type_ids,\n",
        "    'attention_mask': train_encodings.attention_mask,\n",
        "    'target_ids': np.array(train_targets)\n",
        "}\n",
        "\n",
        "input_data_valid = {\n",
        "    'input_ids': valid_encodings.input_ids,\n",
        "    'token_type_ids': valid_encodings.token_type_ids,\n",
        "    'attention_mask': valid_encodings.attention_mask,\n",
        "    'target_ids': np.array(valid_targets)\n",
        "}\n",
        "\n",
        "# Fit the model using the dictionary format for input data\n",
        "pooler_bert_model_history = pooler_bert_model.fit(\n",
        "    x=input_data_train,\n",
        "    y=train_labels,\n",
        "    validation_data=(input_data_valid, valid_labels),\n",
        "    batch_size=8,\n",
        "    epochs=1\n",
        ")"
      ],
      "metadata": {
        "id": "KiEH4OJjIsWB",
        "colab": {
          "base_uri": "https://localhost:8080/"
        },
        "outputId": "4df2a85a-df68-4641-a97d-f8ed822a3387"
      },
      "execution_count": 155,
      "outputs": [
        {
          "output_type": "stream",
          "name": "stdout",
          "text": [
            "477/477 [==============================] - 2343s 5s/step - loss: 0.4697 - accuracy: 0.8318 - val_loss: 0.2947 - val_accuracy: 0.9333\n"
          ]
        }
      ]
    },
    {
      "cell_type": "code",
      "source": [
        "print(train_labels[:100])"
      ],
      "metadata": {
        "id": "D5Y7C9NBTuU-",
        "colab": {
          "base_uri": "https://localhost:8080/"
        },
        "outputId": "7229c900-9177-4bcc-8b15-81bf1f7719df"
      },
      "execution_count": 156,
      "outputs": [
        {
          "output_type": "stream",
          "name": "stdout",
          "text": [
            "[1 1 1 0 1 0 1 2 1 0 1 1 2 1 1 1 2 1 0 0 1 1 1 0 1 2 2 0 1 0 2 2 2 0 0 1 0\n",
            " 0 1 0 0 1 2 0 1 2 0 1 1 1 2 2 2 1 0 0 1 2 2 1 1 1 2 1 0 0 0 0 2 0 1 1 1 0\n",
            " 1 1 2 0 0 1 1 0 1 0 1 0 2 0 0 1 0 1 1 0 1 0 0 0 1 0]\n"
          ]
        }
      ]
    },
    {
      "cell_type": "code",
      "source": [
        "# Convert test_labels to a numpy array if it is not already\n",
        "test_labels = np.array(test_labels)\n",
        "\n",
        "# Use a dictionary to pass input data to the evaluate method\n",
        "input_data_test = {\n",
        "    'input_ids': test_encodings.input_ids,\n",
        "    'token_type_ids': test_encodings.token_type_ids,\n",
        "    'attention_mask': test_encodings.attention_mask,\n",
        "    'target_ids': np.array(test_targets)\n",
        "}\n",
        "\n",
        "# Evaluate the model using the dictionary format for input data\n",
        "score = pooler_bert_model.evaluate(\n",
        "    x=input_data_test,\n",
        "    y=test_labels\n",
        ")\n",
        "\n",
        "print('Test loss:', score[0])\n",
        "print('Test accuracy:', score[1])\n"
      ],
      "metadata": {
        "id": "JGXjdhaQMid-",
        "colab": {
          "base_uri": "https://localhost:8080/"
        },
        "outputId": "63c2121a-765f-41c8-e4bf-e0a4811380bf"
      },
      "execution_count": 157,
      "outputs": [
        {
          "output_type": "stream",
          "name": "stdout",
          "text": [
            "32/32 [==============================] - 524s 16s/step - loss: 0.2949 - accuracy: 0.9210\n",
            "Test loss: 0.29489243030548096\n",
            "Test accuracy: 0.9210000038146973\n"
          ]
        }
      ]
    },
    {
      "cell_type": "code",
      "source": [
        "predictions = pooler_bert_model.predict(\n",
        "    [test_encodings.input_ids, test_encodings.token_type_ids, test_encodings.attention_mask, np.array(test_targets)]\n",
        ")\n",
        "predictions_model1 = tf.argmax(predictions, axis=-1)\n",
        "predictions_model1"
      ],
      "metadata": {
        "id": "ewmPYaQZJcJj",
        "colab": {
          "base_uri": "https://localhost:8080/"
        },
        "outputId": "71adf6d7-fc4c-4066-97dc-ed52944b8fed"
      },
      "execution_count": 158,
      "outputs": [
        {
          "output_type": "stream",
          "name": "stdout",
          "text": [
            "32/32 [==============================] - 522s 16s/step\n"
          ]
        },
        {
          "output_type": "execute_result",
          "data": {
            "text/plain": [
              "<tf.Tensor: shape=(1000,), dtype=int64, numpy=\n",
              "array([1, 1, 0, 0, 1, 0, 1, 2, 1, 0, 1, 1, 2, 1, 0, 1, 0, 0, 1, 2, 1, 1,\n",
              "       1, 0, 2, 2, 0, 0, 2, 2, 0, 1, 0, 0, 0, 1, 1, 0, 1, 1, 0, 1, 1, 1,\n",
              "       2, 0, 2, 1, 0, 1, 2, 1, 2, 0, 2, 1, 0, 2, 1, 1, 2, 1, 1, 0, 2, 0,\n",
              "       0, 0, 2, 0, 1, 0, 0, 2, 0, 1, 0, 0, 0, 1, 0, 1, 1, 0, 1, 0, 1, 0,\n",
              "       2, 2, 1, 1, 2, 0, 0, 1, 1, 1, 2, 2, 0, 0, 1, 1, 0, 0, 0, 2, 2, 0,\n",
              "       1, 0, 0, 1, 0, 1, 0, 0, 1, 0, 0, 1, 2, 1, 1, 1, 1, 0, 1, 0, 1, 2,\n",
              "       0, 1, 1, 1, 2, 2, 1, 0, 1, 2, 1, 0, 1, 1, 2, 1, 0, 0, 1, 1, 1, 1,\n",
              "       0, 2, 2, 0, 0, 1, 2, 2, 1, 2, 2, 2, 1, 2, 0, 0, 1, 0, 2, 2, 2, 0,\n",
              "       1, 1, 0, 0, 2, 2, 1, 0, 1, 0, 1, 2, 1, 1, 2, 1, 2, 0, 1, 0, 0, 1,\n",
              "       2, 1, 0, 0, 2, 0, 0, 2, 1, 0, 1, 1, 0, 1, 0, 2, 2, 2, 1, 1, 2, 1,\n",
              "       1, 0, 0, 0, 0, 1, 0, 2, 0, 0, 1, 0, 0, 0, 1, 1, 0, 1, 1, 1, 1, 2,\n",
              "       0, 2, 0, 1, 0, 0, 1, 0, 2, 0, 0, 0, 0, 1, 1, 0, 1, 2, 2, 1, 1, 0,\n",
              "       1, 1, 0, 1, 1, 1, 2, 2, 0, 2, 0, 2, 0, 0, 0, 1, 1, 1, 1, 0, 0, 1,\n",
              "       0, 1, 2, 0, 1, 1, 0, 2, 1, 0, 0, 1, 2, 0, 0, 1, 0, 1, 1, 1, 1, 0,\n",
              "       0, 1, 2, 1, 1, 0, 1, 0, 1, 0, 0, 0, 0, 0, 0, 1, 0, 1, 2, 0, 1, 1,\n",
              "       1, 1, 2, 1, 1, 1, 1, 0, 1, 0, 2, 0, 0, 1, 1, 1, 1, 2, 2, 0, 0, 2,\n",
              "       0, 0, 1, 1, 2, 1, 2, 0, 0, 2, 1, 0, 2, 0, 1, 2, 0, 0, 0, 0, 1, 0,\n",
              "       0, 0, 0, 2, 1, 0, 1, 0, 1, 2, 0, 1, 0, 1, 1, 1, 0, 0, 1, 2, 0, 0,\n",
              "       2, 2, 0, 1, 1, 1, 0, 2, 0, 1, 1, 1, 0, 1, 0, 0, 1, 0, 2, 0, 0, 0,\n",
              "       0, 0, 2, 1, 2, 0, 0, 2, 1, 2, 1, 1, 0, 1, 1, 1, 1, 1, 1, 0, 1, 1,\n",
              "       1, 0, 0, 0, 1, 1, 1, 1, 1, 0, 1, 1, 1, 1, 1, 1, 1, 2, 0, 0, 0, 1,\n",
              "       1, 0, 1, 0, 1, 2, 0, 0, 0, 0, 0, 1, 2, 1, 2, 0, 1, 0, 2, 0, 1, 0,\n",
              "       0, 1, 1, 1, 0, 0, 0, 0, 2, 0, 1, 1, 0, 0, 2, 1, 0, 1, 0, 1, 2, 0,\n",
              "       0, 1, 0, 0, 0, 1, 2, 1, 1, 0, 2, 0, 0, 1, 0, 1, 0, 2, 0, 1, 1, 1,\n",
              "       0, 2, 2, 0, 0, 2, 0, 0, 0, 2, 0, 0, 0, 1, 0, 0, 1, 1, 0, 0, 2, 0,\n",
              "       2, 1, 0, 0, 1, 2, 1, 0, 2, 0, 2, 0, 1, 1, 1, 0, 1, 2, 1, 1, 1, 1,\n",
              "       1, 2, 0, 0, 1, 1, 1, 0, 1, 1, 2, 1, 0, 1, 0, 1, 0, 0, 1, 2, 1, 0,\n",
              "       0, 0, 0, 2, 2, 1, 1, 1, 1, 0, 1, 0, 0, 1, 2, 0, 1, 2, 1, 0, 1, 2,\n",
              "       2, 2, 0, 1, 0, 0, 1, 0, 0, 0, 1, 0, 0, 0, 2, 1, 1, 1, 1, 0, 0, 1,\n",
              "       1, 2, 0, 0, 1, 1, 0, 0, 0, 2, 0, 0, 1, 2, 2, 0, 1, 0, 1, 1, 0, 2,\n",
              "       0, 0, 1, 1, 1, 0, 2, 1, 2, 0, 1, 2, 1, 2, 1, 2, 1, 0, 2, 1, 1, 1,\n",
              "       1, 1, 0, 2, 2, 1, 1, 0, 1, 1, 0, 0, 1, 1, 2, 2, 0, 0, 1, 0, 1, 0,\n",
              "       1, 1, 0, 2, 0, 1, 2, 2, 0, 1, 0, 1, 1, 0, 0, 1, 0, 2, 1, 2, 1, 0,\n",
              "       0, 2, 2, 2, 0, 0, 2, 0, 0, 0, 1, 0, 1, 0, 1, 0, 1, 0, 0, 0, 0, 0,\n",
              "       0, 1, 1, 1, 2, 1, 1, 1, 1, 0, 1, 2, 2, 0, 1, 0, 1, 0, 2, 1, 0, 1,\n",
              "       1, 1, 2, 2, 2, 1, 1, 1, 2, 1, 0, 2, 0, 1, 1, 1, 0, 0, 1, 2, 0, 1,\n",
              "       0, 0, 0, 0, 0, 1, 0, 0, 1, 0, 0, 1, 2, 0, 1, 1, 0, 0, 0, 1, 0, 0,\n",
              "       1, 2, 1, 0, 0, 0, 0, 0, 1, 1, 0, 0, 1, 0, 0, 1, 0, 1, 2, 1, 2, 0,\n",
              "       1, 0, 0, 2, 2, 0, 0, 0, 0, 2, 1, 0, 1, 0, 0, 1, 1, 2, 1, 0, 0, 0,\n",
              "       1, 0, 1, 0, 1, 0, 1, 0, 2, 0, 2, 1, 2, 2, 1, 2, 0, 1, 0, 0, 2, 1,\n",
              "       0, 1, 1, 0, 1, 1, 0, 2, 1, 0, 1, 0, 2, 0, 0, 0, 2, 0, 0, 1, 0, 0,\n",
              "       2, 2, 0, 1, 1, 0, 1, 0, 1, 0, 1, 2, 0, 0, 2, 2, 2, 2, 1, 1, 0, 1,\n",
              "       0, 0, 2, 1, 1, 0, 1, 2, 0, 0, 1, 0, 1, 1, 1, 0, 2, 1, 0, 1, 0, 0,\n",
              "       1, 0, 1, 0, 0, 1, 2, 1, 2, 1, 1, 1, 2, 1, 0, 0, 0, 1, 1, 1, 1, 1,\n",
              "       0, 2, 1, 0, 1, 0, 1, 1, 2, 0, 1, 1, 0, 0, 0, 0, 1, 1, 0, 0, 0, 1,\n",
              "       2, 2, 1, 1, 0, 2, 0, 1, 1, 1])>"
            ]
          },
          "metadata": {},
          "execution_count": 158
        }
      ]
    },
    {
      "cell_type": "code",
      "source": [
        "target_names=['negative','neutral','positive']"
      ],
      "metadata": {
        "id": "gCkKwEaQNgij"
      },
      "execution_count": 159,
      "outputs": []
    },
    {
      "cell_type": "code",
      "source": [
        "print(classification_report(test_labels, predictions_model1.numpy(), target_names=target_names))"
      ],
      "metadata": {
        "id": "wD7yBpJiJfS0",
        "colab": {
          "base_uri": "https://localhost:8080/"
        },
        "outputId": "d444dd57-7d12-47fa-f29c-67e036aef367"
      },
      "execution_count": 160,
      "outputs": [
        {
          "output_type": "stream",
          "name": "stdout",
          "text": [
            "              precision    recall  f1-score   support\n",
            "\n",
            "    negative       0.89      1.00      0.94       364\n",
            "     neutral       0.92      0.92      0.92       401\n",
            "    positive       1.00      0.81      0.89       235\n",
            "\n",
            "    accuracy                           0.92      1000\n",
            "   macro avg       0.94      0.91      0.92      1000\n",
            "weighted avg       0.93      0.92      0.92      1000\n",
            "\n"
          ]
        }
      ]
    }
  ]
}