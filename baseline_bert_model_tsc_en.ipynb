{
  "nbformat": 4,
  "nbformat_minor": 0,
  "metadata": {
    "colab": {
      "provenance": []
    },
    "kernelspec": {
      "name": "python3",
      "display_name": "Python 3"
    },
    "language_info": {
      "name": "python"
    }
  },
  "cells": [
    {
      "cell_type": "code",
      "source": [
        "!pip install -q transformers==4.37.2"
      ],
      "metadata": {
        "id": "oTl7ifYRLpBI"
      },
      "execution_count": 33,
      "outputs": []
    },
    {
      "cell_type": "code",
      "source": [
        "!pip install pydot"
      ],
      "metadata": {
        "colab": {
          "base_uri": "https://localhost:8080/"
        },
        "id": "IZuHVbllRnzs",
        "outputId": "30f679c8-8565-4890-fad6-4e2ad5253cf0"
      },
      "execution_count": 34,
      "outputs": [
        {
          "output_type": "stream",
          "name": "stdout",
          "text": [
            "Requirement already satisfied: pydot in /usr/local/lib/python3.10/dist-packages (1.4.2)\n",
            "Requirement already satisfied: pyparsing>=2.1.4 in /usr/local/lib/python3.10/dist-packages (from pydot) (3.1.2)\n"
          ]
        }
      ]
    },
    {
      "cell_type": "code",
      "source": [
        "from transformers import BertTokenizer, TFBertModel"
      ],
      "metadata": {
        "id": "bSbCMTLaRuVR"
      },
      "execution_count": 35,
      "outputs": []
    },
    {
      "cell_type": "code",
      "source": [
        "from sklearn.datasets import fetch_20newsgroups\n",
        "from sklearn.model_selection import train_test_split\n",
        "from sklearn.metrics import classification_report"
      ],
      "metadata": {
        "id": "iwsORDcURpTj"
      },
      "execution_count": 36,
      "outputs": []
    },
    {
      "cell_type": "code",
      "source": [
        "from collections import Counter\n",
        "import numpy as np\n",
        "import tensorflow as tf\n",
        "from tensorflow import keras\n",
        "\n",
        "import seaborn as sns\n",
        "import matplotlib.pyplot as plt\n",
        "from pprint import pprint"
      ],
      "metadata": {
        "id": "6LKehb4PRsNy"
      },
      "execution_count": 37,
      "outputs": []
    },
    {
      "cell_type": "code",
      "source": [
        "import json\n",
        "from transformers import BertTokenizer, TFBertModel\n",
        "import tensorflow as tf\n",
        "# Load JSONL dataset\n",
        "data = []\n",
        "train_texts=[]\n",
        "train_labels=[]\n",
        "train_targets=[]\n",
        "# get train example and label\n",
        "with open('/content/sample_data/train.jsonl', 'r') as f:\n",
        "    for line in f:\n",
        "      text=json.loads(line)\n",
        "      data.append(text)\n",
        "      train_texts.append(text['sentence_normalized'])\n",
        "      polarity=int(text['targets'][0]['polarity'])\n",
        "      this_polarity = -1\n",
        "      if polarity==2:\n",
        "        this_polarity = 0\n",
        "      elif polarity==4:\n",
        "        this_polarity = 1\n",
        "      elif polarity==6:\n",
        "        this_polarity = 2\n",
        "      else:\n",
        "        print('error')\n",
        "\n",
        "      train_labels.append(this_polarity)\n",
        "      targets = text['targets']\n",
        "      target_vector = np.zeros(150)\n",
        "\n",
        "      for target in targets:\n",
        "        target_vector[target['from']:target['to']] = this_polarity\n",
        "\n",
        "      train_targets.append(target_vector)\n",
        "\n",
        "\n",
        "\n",
        "\n",
        "\n",
        "\n",
        "\n",
        "\n",
        "\n",
        "\n",
        "\n",
        "\n",
        "# Preprocess Data and Tokenization\n",
        "\n",
        "\n",
        "\n",
        "#print(data[0])\n"
      ],
      "metadata": {
        "id": "sxFAy2k2S7Y_"
      },
      "execution_count": 38,
      "outputs": []
    },
    {
      "cell_type": "code",
      "source": [
        "print(train_texts[2])"
      ],
      "metadata": {
        "id": "H-6RNkNT-F_o",
        "colab": {
          "base_uri": "https://localhost:8080/"
        },
        "outputId": "5028b37c-8abb-4726-d039-479817ead8fc"
      },
      "execution_count": 39,
      "outputs": [
        {
          "output_type": "stream",
          "name": "stdout",
          "text": [
            "For La Stampa, “it was clear from the encounter in Rome between Monti, Merkel, Rajoy and Hollande” on June 22 that the Council meeting, which gets underway this Thursday, “will be a tough and tricky test that will see European leaders try to establish and, who knows, bring in a revamped monetary union”:\n"
          ]
        }
      ]
    },
    {
      "cell_type": "code",
      "source": [
        "\n",
        "# Load JSONL dataset\n",
        "data_test = []\n",
        "test_texts=[]\n",
        "test_labels=[]\n",
        "test_targets=[]\n",
        "# get test example and label\n",
        "with open('/content/sample_data/test.json', 'r') as f:\n",
        "    for line in f:\n",
        "      text=json.loads(line)\n",
        "      data_test.append(text)\n",
        "      test_texts.append(text['sentence_normalized'])\n",
        "      polarity=int(text['targets'][0]['polarity'])\n",
        "      this_polarity = -1\n",
        "      if polarity==2:\n",
        "        this_polarity = 0\n",
        "      elif polarity==4:\n",
        "        this_polarity = 1\n",
        "      elif polarity==6:\n",
        "        this_polarity = 2\n",
        "      else:\n",
        "        print('error')\n",
        "\n",
        "      test_labels.append(this_polarity)\n",
        "      targets = text['targets']\n",
        "      target_vector = np.zeros(150)\n",
        "\n",
        "      for target in targets:\n",
        "        target_vector[target['from']:target['to']] = this_polarity\n",
        "\n",
        "      test_targets.append(target_vector)\n"
      ],
      "metadata": {
        "id": "tw6CQGosVq7j"
      },
      "execution_count": 40,
      "outputs": []
    },
    {
      "cell_type": "code",
      "source": [
        "print(len(test_texts))"
      ],
      "metadata": {
        "id": "bZoXAhvb6eTY",
        "colab": {
          "base_uri": "https://localhost:8080/"
        },
        "outputId": "fcf89b81-d3c0-4b3f-f0df-769e656d26d1"
      },
      "execution_count": 41,
      "outputs": [
        {
          "output_type": "stream",
          "name": "stdout",
          "text": [
            "1000\n"
          ]
        }
      ]
    },
    {
      "cell_type": "code",
      "source": [
        "# Load JSONL dataset\n",
        "data_vali = []\n",
        "valid_texts=[]\n",
        "valid_labels=[]\n",
        "valid_targets=[]\n",
        "# get valid example and label\n",
        "with open('/content/sample_data/validation.jsonl', 'r') as f:\n",
        "    for line in f:\n",
        "      text=json.loads(line)\n",
        "      data_vali.append(text)\n",
        "      valid_texts.append(text['sentence_normalized'])\n",
        "      polarity=int(text['targets'][0]['polarity'])\n",
        "      this_polarity = -1\n",
        "      if polarity==2:\n",
        "        this_polarity = 0\n",
        "      elif polarity==4:\n",
        "        this_polarity = 1\n",
        "      elif polarity==6:\n",
        "        this_polarity = 2\n",
        "      else:\n",
        "        print('error')\n",
        "\n",
        "      valid_labels.append(this_polarity)\n",
        "      targets = text['targets']\n",
        "      target_vector = np.zeros(150)\n",
        "\n",
        "      for target in targets:\n",
        "        target_vector[target['from']:target['to']] = this_polarity\n",
        "\n",
        "      valid_targets.append(target_vector)"
      ],
      "metadata": {
        "id": "QTDr6wIVKh9l"
      },
      "execution_count": 42,
      "outputs": []
    },
    {
      "cell_type": "code",
      "source": [
        "print(len(valid_texts))"
      ],
      "metadata": {
        "id": "-qL2KXUT6hMA",
        "colab": {
          "base_uri": "https://localhost:8080/"
        },
        "outputId": "0d2f8ce8-63e4-42f0-bc1a-4f99c993380b"
      },
      "execution_count": 43,
      "outputs": [
        {
          "output_type": "stream",
          "name": "stdout",
          "text": [
            "300\n"
          ]
        }
      ]
    },
    {
      "cell_type": "code",
      "source": [
        "integer_counts = Counter(valid_labels)\n",
        "# Print the summary\n",
        "for integer, count in integer_counts.items():\n",
        "    print(f\"Integer {integer} appears {count} times\")"
      ],
      "metadata": {
        "id": "8EYUigK_YNqI",
        "colab": {
          "base_uri": "https://localhost:8080/"
        },
        "outputId": "eeb929e3-2e7f-4f98-fa37-2aeb0f97c103"
      },
      "execution_count": 44,
      "outputs": [
        {
          "output_type": "stream",
          "name": "stdout",
          "text": [
            "Integer 2 appears 71 times\n",
            "Integer 1 appears 117 times\n",
            "Integer 0 appears 112 times\n"
          ]
        }
      ]
    },
    {
      "cell_type": "code",
      "source": [
        "integer_counts = Counter(test_labels)\n",
        "# Print the summary\n",
        "for integer, count in integer_counts.items():\n",
        "    print(f\"Integer {integer} appears {count} times\")"
      ],
      "metadata": {
        "id": "uACwoXYV6tVY",
        "colab": {
          "base_uri": "https://localhost:8080/"
        },
        "outputId": "4f11c507-7c75-425d-fe81-3ab71980e4cc"
      },
      "execution_count": 45,
      "outputs": [
        {
          "output_type": "stream",
          "name": "stdout",
          "text": [
            "Integer 1 appears 401 times\n",
            "Integer 0 appears 364 times\n",
            "Integer 2 appears 235 times\n"
          ]
        }
      ]
    },
    {
      "cell_type": "code",
      "source": [
        "integer_counts = Counter(train_labels)\n",
        "# Print the summary\n",
        "for integer, count in integer_counts.items():\n",
        "    print(f\"Integer {integer} appears {count} times\")"
      ],
      "metadata": {
        "id": "iu8nKXdi6uhJ",
        "colab": {
          "base_uri": "https://localhost:8080/"
        },
        "outputId": "b93c6b3e-60c5-4e63-bbb0-11251596818a"
      },
      "execution_count": 46,
      "outputs": [
        {
          "output_type": "stream",
          "name": "stdout",
          "text": [
            "Integer 1 appears 1493 times\n",
            "Integer 0 appears 1363 times\n",
            "Integer 2 appears 954 times\n"
          ]
        }
      ]
    },
    {
      "cell_type": "code",
      "source": [
        "#baseline multinomial Naive Bayes\n",
        "from sklearn.feature_extraction.text import CountVectorizer\n",
        "from sklearn.naive_bayes import MultinomialNB\n",
        "from sklearn.pipeline import Pipeline\n",
        "from sklearn.metrics import accuracy_score"
      ],
      "metadata": {
        "id": "7-1okbErzzmA"
      },
      "execution_count": 47,
      "outputs": []
    },
    {
      "cell_type": "code",
      "source": [
        "# Training data\n",
        "\n",
        "# Create a pipeline with CountVectorizer and MultinomialNB\n",
        "pipeline = Pipeline([\n",
        "    ('vect', CountVectorizer()),  # Convert text to word count vectors\n",
        "    ('clf', MultinomialNB()),     # Multinomial Naive Bayes classifier\n",
        "])\n",
        "# Train the model\n",
        "pipeline.fit(train_texts, train_labels)\n",
        "# Test the model\n",
        "# Example test data\n",
        "\n",
        "# Predict sentiment for test data\n",
        "predictions = pipeline.predict(test_texts)\n",
        "print(predictions)"
      ],
      "metadata": {
        "id": "eEPdC_o22FXB",
        "colab": {
          "base_uri": "https://localhost:8080/"
        },
        "outputId": "c26fd563-fc30-459f-fc00-0f05e5a65983"
      },
      "execution_count": 48,
      "outputs": [
        {
          "output_type": "stream",
          "name": "stdout",
          "text": [
            "[1 1 0 0 1 0 1 1 1 0 1 0 1 0 0 1 0 0 1 1 1 1 1 0 2 2 1 1 0 2 0 0 1 0 2 1 1\n",
            " 0 1 1 1 1 1 1 1 0 1 1 0 1 1 1 0 0 1 1 0 1 1 1 2 1 0 0 1 0 0 1 1 0 0 2 1 0\n",
            " 0 0 1 1 0 0 0 1 1 1 1 0 1 2 2 1 1 1 1 0 1 1 1 1 0 0 0 0 0 0 0 0 1 2 1 0 2\n",
            " 0 1 1 1 1 1 2 1 0 0 1 0 0 2 1 1 1 1 0 0 1 1 0 0 0 2 1 1 2 0 2 2 0 1 2 0 0\n",
            " 0 1 1 1 2 1 0 1 1 0 0 2 1 1 1 0 1 1 1 0 1 0 1 0 0 2 1 0 1 0 0 0 0 2 1 0 1\n",
            " 1 1 1 1 1 1 2 1 0 2 0 0 1 1 1 0 1 0 1 0 1 1 0 0 0 1 1 0 1 1 0 0 1 1 0 0 1\n",
            " 1 0 1 2 0 0 0 0 2 1 0 2 2 0 0 2 1 1 1 0 0 0 1 1 0 1 1 0 2 0 0 0 0 1 0 0 1\n",
            " 0 1 1 1 0 0 1 0 1 0 1 1 1 0 1 0 1 1 0 0 1 1 2 0 0 1 0 0 0 0 1 1 0 0 1 2 0\n",
            " 1 0 1 0 0 2 0 1 1 1 0 0 0 1 2 1 1 1 2 0 2 0 1 0 0 0 0 1 0 1 1 0 1 0 1 1 0\n",
            " 1 2 1 0 0 1 0 0 0 0 1 1 1 0 2 2 2 1 2 1 0 1 1 0 0 1 0 0 1 1 0 2 0 1 0 1 0\n",
            " 1 0 0 0 1 0 0 0 0 0 0 0 0 2 0 2 1 1 1 0 0 0 2 1 1 0 0 1 0 1 1 1 0 2 0 2 0\n",
            " 1 0 0 1 0 1 0 0 0 0 0 0 1 0 1 1 0 1 1 1 2 1 0 1 1 1 1 1 0 1 0 1 1 1 1 1 0\n",
            " 2 1 0 1 1 0 2 0 0 0 0 1 1 0 0 0 0 0 1 0 1 1 1 1 0 0 0 0 0 1 2 2 1 1 1 0 1\n",
            " 0 1 0 0 1 1 0 2 0 1 0 1 0 1 0 0 0 0 0 0 0 0 0 1 1 0 1 1 0 0 1 2 1 2 0 0 2\n",
            " 1 1 0 0 1 0 1 0 0 1 0 2 1 0 0 1 0 0 0 2 0 1 0 2 0 1 0 1 0 0 0 1 2 2 0 2 2\n",
            " 0 1 0 1 1 1 1 1 1 0 1 1 1 1 0 0 1 1 2 0 0 1 2 0 0 1 1 1 1 0 1 0 1 1 0 1 0\n",
            " 0 0 0 1 0 1 0 1 0 0 0 0 1 0 1 1 1 0 2 1 2 1 0 1 2 0 1 1 0 1 1 0 1 0 1 1 2\n",
            " 0 1 1 2 1 1 1 1 1 1 0 0 2 0 1 0 1 2 0 2 0 2 1 0 0 1 0 1 1 1 1 0 0 1 2 1 0\n",
            " 1 0 1 0 1 2 1 2 1 0 1 0 0 1 1 0 2 1 0 2 1 1 2 0 1 1 1 0 0 0 1 1 1 0 0 0 1\n",
            " 0 1 1 0 2 1 2 1 2 1 2 0 1 1 1 2 2 0 0 1 1 0 2 0 0 0 1 1 0 1 2 0 1 1 0 2 0\n",
            " 0 0 1 0 1 1 0 0 1 1 1 1 1 2 1 1 1 0 1 0 2 1 1 0 2 1 2 1 0 1 1 0 2 2 2 2 1\n",
            " 1 0 1 1 2 1 0 0 1 1 1 1 1 1 0 2 2 0 0 0 1 0 2 1 0 0 1 1 2 0 1 0 2 1 1 0 2\n",
            " 1 0 1 1 0 0 0 0 1 1 1 1 1 1 0 0 0 0 1 0 1 1 1 0 0 1 1 0 1 0 0 0 0 1 1 1 0\n",
            " 2 1 0 1 0 0 0 1 1 0 0 1 1 0 0 2 0 0 1 1 2 1 2 0 1 0 0 1 1 0 0 1 0 1 1 0 1\n",
            " 1 0 1 0 0 0 1 0 0 1 0 1 1 1 0 2 0 1 1 0 0 1 1 0 0 0 1 0 2 0 1 1 1 1 1 1 1\n",
            " 0 0 1 0 1 1 0 1 0 1 0 1 1 1 0 2 1 2 0 0 0 1 0 1 0 0 0 0 1 0 1 1 1 0 0 0 0\n",
            " 1 0 0 1 1 1 0 0 0 2 0 0 1 2 0 0 1 1 0 0 0 1 0 1 1 1 0 2 1 1 1 2 0 1 0 0 1\n",
            " 1]\n"
          ]
        }
      ]
    },
    {
      "cell_type": "code",
      "source": [
        "# Evaluate model performance\n",
        "accuracy = accuracy_score(test_labels, predictions)\n",
        "print(\"Accuracy:\", accuracy)"
      ],
      "metadata": {
        "id": "7yUuL8Hm2ia_",
        "colab": {
          "base_uri": "https://localhost:8080/"
        },
        "outputId": "5744d6cc-057f-4a87-f40c-e62457f56aa2"
      },
      "execution_count": 49,
      "outputs": [
        {
          "output_type": "stream",
          "name": "stdout",
          "text": [
            "Accuracy: 0.563\n"
          ]
        }
      ]
    },
    {
      "cell_type": "code",
      "source": [
        "model_checkpoint = 'bert-base-cased'"
      ],
      "metadata": {
        "id": "DQg-CFNJGZrL"
      },
      "execution_count": 50,
      "outputs": []
    },
    {
      "cell_type": "code",
      "source": [
        "bert_tokenizer = BertTokenizer.from_pretrained(model_checkpoint)\n",
        "bert_model = TFBertModel.from_pretrained(model_checkpoint)"
      ],
      "metadata": {
        "id": "W9LpcRD5XBkG",
        "colab": {
          "base_uri": "https://localhost:8080/"
        },
        "outputId": "ad34a33f-6d7d-46b0-83d9-0c6a8110da28"
      },
      "execution_count": 51,
      "outputs": [
        {
          "output_type": "stream",
          "name": "stderr",
          "text": [
            "Some weights of the PyTorch model were not used when initializing the TF 2.0 model TFBertModel: ['cls.predictions.transform.LayerNorm.weight', 'cls.predictions.bias', 'cls.predictions.transform.dense.weight', 'cls.seq_relationship.bias', 'cls.seq_relationship.weight', 'cls.predictions.transform.dense.bias', 'cls.predictions.transform.LayerNorm.bias']\n",
            "- This IS expected if you are initializing TFBertModel from a PyTorch model trained on another task or with another architecture (e.g. initializing a TFBertForSequenceClassification model from a BertForPreTraining model).\n",
            "- This IS NOT expected if you are initializing TFBertModel from a PyTorch model that you expect to be exactly identical (e.g. initializing a TFBertForSequenceClassification model from a BertForSequenceClassification model).\n",
            "All the weights of TFBertModel were initialized from the PyTorch model.\n",
            "If your task is similar to the task the model of the checkpoint was trained on, you can already use TFBertModel for predictions without further training.\n"
          ]
        }
      ]
    },
    {
      "cell_type": "code",
      "source": [
        "max_length = 150"
      ],
      "metadata": {
        "id": "3T9FsLMPXInb"
      },
      "execution_count": 52,
      "outputs": []
    },
    {
      "cell_type": "code",
      "source": [
        "# tokenize the dataset, truncate at `max_length`,\n",
        "# and pad with 0's when less than `max_length` and return a tf Tensor\n",
        "train_encodings = bert_tokenizer(train_texts, truncation=True, padding='max_length', max_length=max_length, return_tensors='tf')\n",
        "valid_encodings = bert_tokenizer(valid_texts, truncation=True, padding='max_length', max_length=max_length, return_tensors='tf')\n",
        "test_encodings = bert_tokenizer(test_texts, truncation=True, padding='max_length', max_length=max_length, return_tensors='tf')"
      ],
      "metadata": {
        "id": "ICgKHLOWXKzf"
      },
      "execution_count": 53,
      "outputs": []
    },
    {
      "cell_type": "code",
      "source": [
        "train_encodings.input_ids[:1]"
      ],
      "metadata": {
        "id": "4-Rvmf5cXP-P",
        "colab": {
          "base_uri": "https://localhost:8080/"
        },
        "outputId": "8fe564f5-82d1-40bc-dac3-58410ca1fb70"
      },
      "execution_count": 54,
      "outputs": [
        {
          "output_type": "execute_result",
          "data": {
            "text/plain": [
              "<tf.Tensor: shape=(1, 150), dtype=int32, numpy=\n",
              "array([[  101,  1966,  1131,  1125,  1589,  1107,  1103,  3181,  1111,\n",
              "         1995,  1201,   117, 15686, 27901, 27647,  1233,   117,   170,\n",
              "         3619,  4391,  1104,  8988,  4247,   117,  1309,  1125,  1103,\n",
              "         3767,  1106,  1329,  1123,  4944,  1107,  1103,  5618,  1104,\n",
              "         1123,  2261,   119,   102,     0,     0,     0,     0,     0,\n",
              "            0,     0,     0,     0,     0,     0,     0,     0,     0,\n",
              "            0,     0,     0,     0,     0,     0,     0,     0,     0,\n",
              "            0,     0,     0,     0,     0,     0,     0,     0,     0,\n",
              "            0,     0,     0,     0,     0,     0,     0,     0,     0,\n",
              "            0,     0,     0,     0,     0,     0,     0,     0,     0,\n",
              "            0,     0,     0,     0,     0,     0,     0,     0,     0,\n",
              "            0,     0,     0,     0,     0,     0,     0,     0,     0,\n",
              "            0,     0,     0,     0,     0,     0,     0,     0,     0,\n",
              "            0,     0,     0,     0,     0,     0,     0,     0,     0,\n",
              "            0,     0,     0,     0,     0,     0,     0,     0,     0,\n",
              "            0,     0,     0,     0,     0,     0,     0,     0,     0,\n",
              "            0,     0,     0,     0,     0,     0]], dtype=int32)>"
            ]
          },
          "metadata": {},
          "execution_count": 54
        }
      ]
    },
    {
      "cell_type": "code",
      "source": [
        "from tensorflow.keras.layers import Input, Dense, Dropout, Concatenate, Reshape, GlobalMaxPooling1D, MultiHeadAttention\n",
        "from tensorflow.keras.models import Model\n",
        "from transformers import TFBertModel\n",
        "\n",
        "def create_target_dependent_sentiment_model(checkpoint=model_checkpoint,\n",
        "                                            num_classes=3,\n",
        "                                            hidden_size=201,\n",
        "                                            dropout=0.3,\n",
        "                                            learning_rate=0.00005):\n",
        "    \"\"\"\n",
        "    Build a multi-input sentiment analysis model with BERT, target embeddings, and attention mechanism.\n",
        "    \"\"\"\n",
        "    # Load pre-trained BERT model\n",
        "    bert_model = TFBertModel.from_pretrained(checkpoint)\n",
        "\n",
        "    # Freeze BERT layers to prevent training\n",
        "    for layer in bert_model.layers:\n",
        "        layer.trainable = False\n",
        "\n",
        "    # Define input layers for BERT\n",
        "    input_ids = Input(shape=(max_length,), dtype='int32', name='input_ids')\n",
        "    token_type_ids = Input(shape=(max_length,), dtype='int32', name='token_type_ids')\n",
        "    attention_mask = Input(shape=(max_length,), dtype='int32', name='attention_mask')\n",
        "\n",
        "    # Get BERT output\n",
        "    bert_output = bert_model(input_ids, token_type_ids=token_type_ids, attention_mask=attention_mask)[0]  # BERT sequence output\n",
        "\n",
        "    # Reshape BERT output to add sequence length dimension\n",
        "    bert_output_reshaped = Reshape((-1, 768))(bert_output)\n",
        "\n",
        "    # Apply attention mechanism to BERT output\n",
        "    attention_output = MultiHeadAttention(num_heads=2, key_dim=64)(bert_output_reshaped, bert_output_reshaped)\n",
        "\n",
        "    # Apply global max pooling to extract relevant features from attention output\n",
        "    pooled_output = GlobalMaxPooling1D()(attention_output)\n",
        "\n",
        "    # Define input layer for target IDs\n",
        "    target_ids = Input(shape=(max_length,), dtype='float32', name='target_ids')\n",
        "\n",
        "    # Add a dense layer to process target IDs\n",
        "    target_layer = Dense(hidden_size, activation='relu')(target_ids)\n",
        "\n",
        "    # Concatenate pooled attention output with processed target IDs\n",
        "    concatenated_output = Concatenate()([pooled_output, target_layer])\n",
        "\n",
        "    # Add hidden layer with dropout\n",
        "    hidden_layer = Dense(hidden_size, activation='relu', name='hidden_layer')(concatenated_output)\n",
        "    dropout_layer = Dropout(dropout)(hidden_layer)\n",
        "\n",
        "    # Add classification layer\n",
        "    output = Dense(num_classes, activation='softmax', name='output')(dropout_layer)  # Softmax for multi-class classification\n",
        "\n",
        "    # Create model\n",
        "    classification_model = Model(inputs=[input_ids, token_type_ids, attention_mask, target_ids], outputs=output)\n",
        "\n",
        "    # Compile model\n",
        "    classification_model.compile(optimizer='adam',\n",
        "                                  loss='sparse_categorical_crossentropy',\n",
        "                                  metrics=['accuracy'])\n",
        "\n",
        "    return classification_model"
      ],
      "metadata": {
        "id": "Q9fZ9iiHXgP9"
      },
      "execution_count": 55,
      "outputs": []
    },
    {
      "cell_type": "markdown",
      "source": [],
      "metadata": {
        "id": "xkzfsgZaYYn6"
      }
    },
    {
      "cell_type": "code",
      "source": [
        "pooler_bert_model = create_target_dependent_sentiment_model(num_classes=3)"
      ],
      "metadata": {
        "id": "sA70_vrGXlBO",
        "colab": {
          "base_uri": "https://localhost:8080/"
        },
        "outputId": "37c0ab97-d0a4-4352-c559-901333c2ad37"
      },
      "execution_count": 56,
      "outputs": [
        {
          "output_type": "stream",
          "name": "stderr",
          "text": [
            "Some weights of the PyTorch model were not used when initializing the TF 2.0 model TFBertModel: ['cls.predictions.transform.LayerNorm.weight', 'cls.predictions.bias', 'cls.predictions.transform.dense.weight', 'cls.seq_relationship.bias', 'cls.seq_relationship.weight', 'cls.predictions.transform.dense.bias', 'cls.predictions.transform.LayerNorm.bias']\n",
            "- This IS expected if you are initializing TFBertModel from a PyTorch model trained on another task or with another architecture (e.g. initializing a TFBertForSequenceClassification model from a BertForPreTraining model).\n",
            "- This IS NOT expected if you are initializing TFBertModel from a PyTorch model that you expect to be exactly identical (e.g. initializing a TFBertForSequenceClassification model from a BertForSequenceClassification model).\n",
            "All the weights of TFBertModel were initialized from the PyTorch model.\n",
            "If your task is similar to the task the model of the checkpoint was trained on, you can already use TFBertModel for predictions without further training.\n"
          ]
        }
      ]
    },
    {
      "cell_type": "code",
      "source": [
        "pooler_bert_model.summary()"
      ],
      "metadata": {
        "id": "bfmuka4nEc-2",
        "colab": {
          "base_uri": "https://localhost:8080/"
        },
        "outputId": "a8721906-69d6-4913-91ce-6979b59e34e2"
      },
      "execution_count": 57,
      "outputs": [
        {
          "output_type": "stream",
          "name": "stdout",
          "text": [
            "Model: \"model_1\"\n",
            "__________________________________________________________________________________________________\n",
            " Layer (type)                Output Shape                 Param #   Connected to                  \n",
            "==================================================================================================\n",
            " input_ids (InputLayer)      [(None, 150)]                0         []                            \n",
            "                                                                                                  \n",
            " attention_mask (InputLayer  [(None, 150)]                0         []                            \n",
            " )                                                                                                \n",
            "                                                                                                  \n",
            " token_type_ids (InputLayer  [(None, 150)]                0         []                            \n",
            " )                                                                                                \n",
            "                                                                                                  \n",
            " tf_bert_model_3 (TFBertMod  TFBaseModelOutputWithPooli   1083102   ['input_ids[0][0]',           \n",
            " el)                         ngAndCrossAttentions(last_   72         'attention_mask[0][0]',      \n",
            "                             hidden_state=(None, 150, 7              'token_type_ids[0][0]']      \n",
            "                             68),                                                                 \n",
            "                              pooler_output=(None, 768)                                           \n",
            "                             , past_key_values=None, hi                                           \n",
            "                             dden_states=None, attentio                                           \n",
            "                             ns=None, cross_attentions=                                           \n",
            "                             None)                                                                \n",
            "                                                                                                  \n",
            " reshape_1 (Reshape)         (None, 150, 768)             0         ['tf_bert_model_3[0][0]']     \n",
            "                                                                                                  \n",
            " multi_head_attention_1 (Mu  (None, 150, 768)             394368    ['reshape_1[0][0]',           \n",
            " ltiHeadAttention)                                                   'reshape_1[0][0]']           \n",
            "                                                                                                  \n",
            " target_ids (InputLayer)     [(None, 150)]                0         []                            \n",
            "                                                                                                  \n",
            " global_max_pooling1d_1 (Gl  (None, 768)                  0         ['multi_head_attention_1[0][0]\n",
            " obalMaxPooling1D)                                                  ']                            \n",
            "                                                                                                  \n",
            " dense_1 (Dense)             (None, 201)                  30351     ['target_ids[0][0]']          \n",
            "                                                                                                  \n",
            " concatenate_1 (Concatenate  (None, 969)                  0         ['global_max_pooling1d_1[0][0]\n",
            " )                                                                  ',                            \n",
            "                                                                     'dense_1[0][0]']             \n",
            "                                                                                                  \n",
            " hidden_layer (Dense)        (None, 201)                  194970    ['concatenate_1[0][0]']       \n",
            "                                                                                                  \n",
            " dropout_149 (Dropout)       (None, 201)                  0         ['hidden_layer[0][0]']        \n",
            "                                                                                                  \n",
            " output (Dense)              (None, 3)                    606       ['dropout_149[0][0]']         \n",
            "                                                                                                  \n",
            "==================================================================================================\n",
            "Total params: 108930567 (415.54 MB)\n",
            "Trainable params: 620295 (2.37 MB)\n",
            "Non-trainable params: 108310272 (413.17 MB)\n",
            "__________________________________________________________________________________________________\n"
          ]
        }
      ]
    },
    {
      "cell_type": "code",
      "source": [
        "keras.utils.plot_model(pooler_bert_model, show_shapes=False, show_dtype=False, show_layer_names=True, dpi=90)"
      ],
      "metadata": {
        "id": "1KZ7kSokEgbM",
        "colab": {
          "base_uri": "https://localhost:8080/",
          "height": 803
        },
        "outputId": "a0534c52-361e-4b6c-eaff-1f742d463c60"
      },
      "execution_count": 58,
      "outputs": [
        {
          "output_type": "execute_result",
          "data": {
            "image/png": "[encoded data removed]",
            "text/plain": [
              "<IPython.core.display.Image object>"
            ]
          },
          "metadata": {},
          "execution_count": 58
        }
      ]
    },
    {
      "cell_type": "code",
      "source": [
        "#get the labels in a needed data format for validation\n",
        "npvalid_labels = np.asarray(valid_labels)"
      ],
      "metadata": {
        "id": "L5h0ilZaEuim"
      },
      "execution_count": 59,
      "outputs": []
    },
    {
      "cell_type": "code",
      "source": [
        "import numpy as np  # Ensure numpy is imported\n",
        "\n",
        "# Convert train_labels and valid_labels to numpy arrays if they are not already\n",
        "train_labels = np.array(train_labels)\n",
        "valid_labels = np.array(valid_labels)\n",
        "\n",
        "# Use a dictionary to pass input data to the fit method\n",
        "input_data_train = {\n",
        "    'input_ids': train_encodings.input_ids,\n",
        "    'token_type_ids': train_encodings.token_type_ids,\n",
        "    'attention_mask': train_encodings.attention_mask,\n",
        "    'target_ids': np.array(train_targets)\n",
        "}\n",
        "\n",
        "input_data_valid = {\n",
        "    'input_ids': valid_encodings.input_ids,\n",
        "    'token_type_ids': valid_encodings.token_type_ids,\n",
        "    'attention_mask': valid_encodings.attention_mask,\n",
        "    'target_ids': np.array(valid_targets)\n",
        "}\n",
        "\n",
        "# Fit the model using the dictionary format for input data\n",
        "pooler_bert_model_history = pooler_bert_model.fit(\n",
        "    x=input_data_train,\n",
        "    y=train_labels,\n",
        "    validation_data=(input_data_valid, valid_labels),\n",
        "    batch_size=8,\n",
        "    epochs=1\n",
        ")"
      ],
      "metadata": {
        "id": "KiEH4OJjIsWB",
        "colab": {
          "base_uri": "https://localhost:8080/"
        },
        "outputId": "ba0f86ba-99e6-4ec3-edd3-cf3b90e064ae"
      },
      "execution_count": 60,
      "outputs": [
        {
          "output_type": "stream",
          "name": "stdout",
          "text": [
            "477/477 [==============================] - 2684s 6s/step - loss: 0.3915 - accuracy: 0.8559 - val_loss: 0.5733 - val_accuracy: 0.8033\n"
          ]
        }
      ]
    },
    {
      "cell_type": "code",
      "source": [
        "print(train_labels[:100])"
      ],
      "metadata": {
        "id": "D5Y7C9NBTuU-",
        "colab": {
          "base_uri": "https://localhost:8080/"
        },
        "outputId": "41c1a790-bf85-43f7-abcc-c6aad18ba168"
      },
      "execution_count": 61,
      "outputs": [
        {
          "output_type": "stream",
          "name": "stdout",
          "text": [
            "[1 1 1 0 1 0 1 2 1 0 1 1 2 1 1 1 2 1 0 0 1 1 1 0 1 2 2 0 1 0 2 2 2 0 0 1 0\n",
            " 0 1 0 0 1 2 0 1 2 0 1 1 1 2 2 2 1 0 0 1 2 2 1 1 1 2 1 0 0 0 0 2 0 1 1 1 0\n",
            " 1 1 2 0 0 1 1 0 1 0 1 0 2 0 0 1 0 1 1 0 1 0 0 0 1 0]\n"
          ]
        }
      ]
    },
    {
      "cell_type": "code",
      "source": [
        "# Convert test_labels to a numpy array if it is not already\n",
        "test_labels = np.array(test_labels)\n",
        "\n",
        "# Use a dictionary to pass input data to the evaluate method\n",
        "input_data_test = {\n",
        "    'input_ids': test_encodings.input_ids,\n",
        "    'token_type_ids': test_encodings.token_type_ids,\n",
        "    'attention_mask': test_encodings.attention_mask,\n",
        "    'target_ids': np.array(test_targets)\n",
        "}\n",
        "\n",
        "# Evaluate the model using the dictionary format for input data\n",
        "score = pooler_bert_model.evaluate(\n",
        "    x=input_data_test,\n",
        "    y=test_labels\n",
        ")\n",
        "\n",
        "print('Test loss:', score[0])\n",
        "print('Test accuracy:', score[1])\n"
      ],
      "metadata": {
        "id": "JGXjdhaQMid-",
        "colab": {
          "base_uri": "https://localhost:8080/"
        },
        "outputId": "4ab9f4f0-71c6-4ecf-bba8-a92c4bef5620"
      },
      "execution_count": 62,
      "outputs": [
        {
          "output_type": "stream",
          "name": "stdout",
          "text": [
            "32/32 [==============================] - 610s 19s/step - loss: 0.4697 - accuracy: 0.8210\n",
            "Test loss: 0.4697026014328003\n",
            "Test accuracy: 0.8209999799728394\n"
          ]
        }
      ]
    },
    {
      "cell_type": "code",
      "source": [
        "predictions = pooler_bert_model.predict(\n",
        "    [test_encodings.input_ids, test_encodings.token_type_ids, test_encodings.attention_mask, np.array(test_targets)]\n",
        ")\n",
        "predictions_model1 = tf.argmax(predictions, axis=-1)\n",
        "predictions_model1"
      ],
      "metadata": {
        "id": "ewmPYaQZJcJj",
        "colab": {
          "base_uri": "https://localhost:8080/"
        },
        "outputId": "956c4e31-1c71-4da4-d042-302ea8a93159"
      },
      "execution_count": 63,
      "outputs": [
        {
          "output_type": "stream",
          "name": "stdout",
          "text": [
            "32/32 [==============================] - 617s 19s/step\n"
          ]
        },
        {
          "output_type": "execute_result",
          "data": {
            "text/plain": [
              "<tf.Tensor: shape=(1000,), dtype=int64, numpy=\n",
              "array([1, 1, 0, 0, 1, 0, 1, 2, 1, 0, 1, 1, 1, 1, 0, 1, 0, 0, 1, 2, 1, 1,\n",
              "       1, 0, 1, 1, 0, 0, 2, 1, 0, 1, 0, 0, 2, 1, 1, 0, 1, 1, 0, 1, 1, 1,\n",
              "       1, 0, 1, 1, 0, 1, 1, 1, 1, 0, 2, 1, 0, 1, 1, 1, 2, 1, 1, 0, 2, 0,\n",
              "       0, 0, 1, 0, 1, 1, 0, 2, 0, 1, 0, 1, 0, 1, 0, 1, 1, 1, 1, 0, 1, 1,\n",
              "       1, 2, 1, 1, 1, 0, 0, 1, 1, 1, 1, 2, 0, 0, 1, 1, 0, 0, 0, 1, 1, 0,\n",
              "       1, 0, 0, 1, 0, 1, 0, 0, 0, 0, 0, 1, 1, 1, 1, 1, 1, 0, 1, 0, 1, 1,\n",
              "       0, 1, 1, 1, 2, 1, 1, 0, 1, 1, 1, 0, 1, 1, 1, 1, 0, 0, 1, 1, 1, 1,\n",
              "       0, 2, 2, 0, 0, 1, 1, 1, 1, 2, 1, 2, 1, 1, 0, 0, 1, 0, 2, 1, 2, 0,\n",
              "       1, 1, 0, 0, 2, 1, 1, 0, 1, 1, 1, 2, 1, 1, 1, 1, 1, 0, 1, 0, 0, 1,\n",
              "       1, 1, 0, 0, 1, 0, 0, 1, 1, 0, 1, 0, 0, 1, 0, 2, 1, 1, 1, 1, 2, 1,\n",
              "       1, 0, 0, 0, 0, 1, 0, 2, 0, 0, 1, 0, 0, 0, 1, 1, 0, 1, 1, 1, 1, 1,\n",
              "       0, 2, 0, 1, 0, 0, 1, 0, 2, 0, 0, 0, 0, 1, 1, 0, 1, 2, 1, 1, 1, 0,\n",
              "       1, 1, 0, 1, 1, 1, 1, 2, 0, 2, 0, 1, 0, 0, 0, 1, 1, 1, 1, 0, 0, 1,\n",
              "       0, 1, 1, 0, 1, 1, 0, 1, 1, 0, 0, 0, 1, 0, 0, 1, 0, 1, 1, 1, 1, 0,\n",
              "       0, 1, 1, 1, 1, 0, 1, 0, 1, 0, 0, 0, 0, 1, 0, 1, 0, 1, 1, 0, 1, 1,\n",
              "       1, 1, 2, 1, 1, 1, 1, 0, 1, 0, 2, 0, 0, 1, 1, 1, 1, 1, 1, 0, 0, 2,\n",
              "       0, 0, 1, 1, 1, 1, 1, 0, 0, 2, 1, 0, 1, 0, 1, 1, 0, 0, 0, 0, 1, 0,\n",
              "       0, 0, 0, 2, 1, 0, 1, 1, 1, 2, 0, 1, 0, 1, 1, 1, 0, 0, 1, 1, 0, 0,\n",
              "       0, 1, 0, 1, 1, 1, 0, 2, 0, 1, 1, 1, 0, 1, 0, 0, 1, 0, 1, 0, 0, 0,\n",
              "       0, 0, 1, 1, 2, 0, 0, 1, 1, 1, 1, 1, 1, 1, 1, 1, 1, 1, 1, 0, 0, 1,\n",
              "       1, 0, 0, 0, 1, 1, 1, 1, 1, 0, 1, 1, 1, 1, 1, 1, 1, 2, 0, 0, 0, 1,\n",
              "       1, 0, 1, 0, 1, 1, 0, 0, 0, 0, 0, 1, 1, 1, 1, 0, 1, 0, 1, 0, 1, 0,\n",
              "       0, 1, 1, 1, 0, 0, 0, 0, 1, 0, 1, 1, 0, 0, 1, 1, 0, 1, 0, 1, 1, 0,\n",
              "       0, 1, 0, 0, 0, 1, 2, 1, 1, 0, 2, 0, 0, 1, 0, 1, 0, 1, 0, 1, 1, 1,\n",
              "       0, 2, 2, 0, 0, 1, 0, 0, 0, 1, 0, 0, 0, 1, 0, 0, 1, 1, 0, 0, 1, 0,\n",
              "       1, 2, 0, 0, 1, 2, 1, 0, 2, 1, 2, 0, 1, 1, 1, 0, 1, 1, 1, 1, 1, 1,\n",
              "       1, 1, 0, 0, 1, 1, 1, 0, 1, 1, 1, 1, 0, 1, 0, 1, 0, 0, 1, 1, 1, 0,\n",
              "       0, 0, 0, 1, 2, 1, 1, 1, 1, 0, 1, 0, 0, 1, 2, 0, 1, 1, 1, 0, 1, 1,\n",
              "       2, 1, 0, 1, 0, 0, 1, 0, 0, 0, 1, 0, 0, 0, 1, 1, 1, 1, 1, 0, 0, 1,\n",
              "       1, 2, 1, 0, 1, 1, 0, 0, 0, 1, 0, 0, 1, 1, 2, 0, 1, 0, 1, 1, 0, 1,\n",
              "       0, 0, 1, 1, 1, 0, 2, 1, 1, 0, 1, 2, 1, 2, 1, 1, 1, 0, 2, 1, 1, 1,\n",
              "       1, 1, 0, 2, 1, 1, 1, 0, 1, 1, 0, 0, 1, 1, 0, 2, 0, 0, 1, 0, 1, 0,\n",
              "       1, 1, 0, 1, 2, 1, 1, 1, 0, 1, 0, 1, 1, 0, 0, 1, 0, 1, 1, 2, 1, 0,\n",
              "       0, 1, 1, 2, 0, 0, 1, 0, 0, 0, 1, 0, 1, 0, 1, 0, 1, 0, 0, 0, 0, 0,\n",
              "       0, 1, 1, 1, 2, 1, 1, 1, 1, 0, 1, 1, 1, 0, 1, 0, 2, 0, 2, 1, 0, 1,\n",
              "       1, 1, 2, 1, 1, 1, 1, 0, 2, 1, 0, 1, 0, 0, 1, 1, 0, 0, 1, 2, 1, 1,\n",
              "       0, 0, 0, 0, 0, 1, 0, 0, 1, 0, 0, 1, 2, 0, 1, 1, 1, 0, 0, 1, 0, 0,\n",
              "       1, 2, 1, 0, 0, 0, 0, 0, 1, 0, 1, 0, 1, 0, 0, 1, 0, 1, 1, 1, 2, 0,\n",
              "       1, 1, 0, 2, 1, 0, 0, 0, 0, 1, 1, 0, 1, 0, 0, 1, 1, 2, 1, 0, 0, 0,\n",
              "       1, 0, 1, 0, 1, 0, 1, 0, 1, 0, 1, 1, 1, 2, 1, 1, 0, 1, 0, 0, 2, 1,\n",
              "       0, 1, 1, 0, 1, 1, 0, 2, 1, 0, 1, 0, 1, 0, 0, 0, 2, 0, 0, 1, 0, 0,\n",
              "       1, 1, 0, 1, 1, 0, 1, 0, 1, 0, 1, 1, 0, 0, 2, 1, 2, 1, 1, 1, 0, 1,\n",
              "       0, 0, 1, 1, 1, 0, 1, 2, 0, 0, 1, 0, 1, 1, 1, 0, 2, 1, 0, 1, 0, 0,\n",
              "       1, 0, 1, 0, 0, 1, 2, 1, 1, 1, 1, 1, 2, 1, 0, 0, 0, 1, 1, 1, 1, 0,\n",
              "       0, 1, 1, 2, 1, 0, 1, 1, 2, 0, 1, 1, 0, 0, 0, 0, 1, 1, 0, 0, 0, 1,\n",
              "       2, 1, 1, 1, 0, 2, 0, 1, 1, 1])>"
            ]
          },
          "metadata": {},
          "execution_count": 63
        }
      ]
    },
    {
      "cell_type": "code",
      "source": [
        "target_names=['negative','neutral','positive']"
      ],
      "metadata": {
        "id": "gCkKwEaQNgij"
      },
      "execution_count": 64,
      "outputs": []
    },
    {
      "cell_type": "code",
      "source": [
        "print(classification_report(test_labels, predictions_model1.numpy(), target_names=target_names))"
      ],
      "metadata": {
        "id": "wD7yBpJiJfS0",
        "colab": {
          "base_uri": "https://localhost:8080/"
        },
        "outputId": "8c251139-28cc-458b-b10a-12db6f443b70"
      },
      "execution_count": 65,
      "outputs": [
        {
          "output_type": "stream",
          "name": "stdout",
          "text": [
            "              precision    recall  f1-score   support\n",
            "\n",
            "    negative       0.91      1.00      0.95       364\n",
            "     neutral       0.72      0.93      0.82       401\n",
            "    positive       1.00      0.35      0.52       235\n",
            "\n",
            "    accuracy                           0.82      1000\n",
            "   macro avg       0.88      0.76      0.76      1000\n",
            "weighted avg       0.86      0.82      0.80      1000\n",
            "\n"
          ]
        }
      ]
    }
  ]
}