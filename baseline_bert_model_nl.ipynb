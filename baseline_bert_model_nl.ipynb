{
  "nbformat": 4,
  "nbformat_minor": 0,
  "metadata": {
    "colab": {
      "provenance": []
    },
    "kernelspec": {
      "name": "python3",
      "display_name": "Python 3"
    },
    "language_info": {
      "name": "python"
    }
  },
  "cells": [
    {
      "cell_type": "code",
      "source": [
        "!pip install -q transformers==4.37.2"
      ],
      "metadata": {
        "id": "oTl7ifYRLpBI"
      },
      "execution_count": 38,
      "outputs": []
    },
    {
      "cell_type": "code",
      "source": [
        "!pip install pydot"
      ],
      "metadata": {
        "colab": {
          "base_uri": "https://localhost:8080/"
        },
        "id": "IZuHVbllRnzs",
        "outputId": "dfdf3f8b-ebe0-44a6-b94a-d0383251f7b0"
      },
      "execution_count": 39,
      "outputs": [
        {
          "output_type": "stream",
          "name": "stdout",
          "text": [
            "Requirement already satisfied: pydot in /usr/local/lib/python3.10/dist-packages (1.4.2)\n",
            "Requirement already satisfied: pyparsing>=2.1.4 in /usr/local/lib/python3.10/dist-packages (from pydot) (3.1.2)\n"
          ]
        }
      ]
    },
    {
      "cell_type": "code",
      "source": [
        "from transformers import BertTokenizer, TFBertModel"
      ],
      "metadata": {
        "id": "bSbCMTLaRuVR"
      },
      "execution_count": 40,
      "outputs": []
    },
    {
      "cell_type": "code",
      "source": [
        "from sklearn.datasets import fetch_20newsgroups\n",
        "from sklearn.model_selection import train_test_split\n",
        "from sklearn.metrics import classification_report"
      ],
      "metadata": {
        "id": "iwsORDcURpTj"
      },
      "execution_count": 41,
      "outputs": []
    },
    {
      "cell_type": "code",
      "source": [
        "from collections import Counter\n",
        "import numpy as np\n",
        "import tensorflow as tf\n",
        "from tensorflow import keras\n",
        "\n",
        "import seaborn as sns\n",
        "import matplotlib.pyplot as plt\n",
        "from pprint import pprint"
      ],
      "metadata": {
        "id": "6LKehb4PRsNy"
      },
      "execution_count": 42,
      "outputs": []
    },
    {
      "cell_type": "code",
      "source": [
        "import json\n",
        "from transformers import BertTokenizer, TFBertModel\n",
        "import tensorflow as tf\n",
        "# Load JSONL dataset\n",
        "data = []\n",
        "train_texts=[]\n",
        "train_labels=[]\n",
        "# get train example and label\n",
        "with open('/content/sample_data/train.jsonl', 'r') as f:\n",
        "    for line in f:\n",
        "      text=json.loads(line)\n",
        "      data.append(text)\n",
        "      train_texts.append(text['sentence_normalized'])\n",
        "      polarity=int(text['targets'][0]['polarity'])\n",
        "      if polarity==2:\n",
        "        train_labels.append(0)\n",
        "      elif polarity==4:\n",
        "        train_labels.append(1)\n",
        "      elif polarity==6:\n",
        "        train_labels.append(2)\n",
        "      else:\n",
        "        print('error')\n",
        "\n",
        "\n",
        "\n",
        "\n",
        "\n",
        "\n",
        "\n",
        "\n",
        "\n",
        "\n",
        "\n",
        "# Preprocess Data and Tokenization\n",
        "\n",
        "\n",
        "\n",
        "#print(data[0])\n"
      ],
      "metadata": {
        "id": "sxFAy2k2S7Y_"
      },
      "execution_count": 43,
      "outputs": []
    },
    {
      "cell_type": "code",
      "source": [
        "print(train_texts[2])"
      ],
      "metadata": {
        "colab": {
          "base_uri": "https://localhost:8080/"
        },
        "id": "H-6RNkNT-F_o",
        "outputId": "c5580e7a-ffb1-4ef1-ccef-145b07af70b4"
      },
      "execution_count": 44,
      "outputs": [
        {
          "output_type": "stream",
          "name": "stdout",
          "text": [
            "Voor La Stampa werd het vorige week al tijdens de ontmoeting van Monti, Merkel, Hollande en Rajoy in Rome duidelijk dat de eurotop die vandaag in Brussel van start is gegaan, “de eerste lastige test is voor de Europese leiders omdat zij zullen trachten een nieuwe monetaire unie te bewerkstelligen en, wie weet, deze ook tot uitvoering te brengen”.\n",
            "\n"
          ]
        }
      ]
    },
    {
      "cell_type": "code",
      "source": [
        "\n",
        "# Load JSONL dataset\n",
        "data_test = []\n",
        "test_texts=[]\n",
        "test_labels=[]\n",
        "# get test example and label\n",
        "with open('/content/sample_data/test.json', 'r') as f:\n",
        "    for line in f:\n",
        "      text=json.loads(line)\n",
        "      data_test.append(text)\n",
        "      test_texts.append(text['sentence_normalized'])\n",
        "      polarity=int(text['targets'][0]['polarity'])\n",
        "      if polarity==2:\n",
        "        test_labels.append(0)\n",
        "      elif polarity==4:\n",
        "        test_labels.append(1)\n",
        "      elif polarity==6:\n",
        "        test_labels.append(2)\n",
        "      else:\n",
        "        print('error')\n"
      ],
      "metadata": {
        "id": "tw6CQGosVq7j"
      },
      "execution_count": 45,
      "outputs": []
    },
    {
      "cell_type": "code",
      "source": [
        "print(len(test_texts))"
      ],
      "metadata": {
        "colab": {
          "base_uri": "https://localhost:8080/"
        },
        "id": "bZoXAhvb6eTY",
        "outputId": "cf26b49e-9c2a-46d6-b1d0-977f443085cb"
      },
      "execution_count": 46,
      "outputs": [
        {
          "output_type": "stream",
          "name": "stdout",
          "text": [
            "1000\n"
          ]
        }
      ]
    },
    {
      "cell_type": "code",
      "source": [
        "# Load JSONL dataset\n",
        "data_vali = []\n",
        "valid_texts=[]\n",
        "valid_labels=[]\n",
        "# get valid example and label\n",
        "with open('/content/sample_data/validation.jsonl', 'r') as f:\n",
        "    for line in f:\n",
        "      text=json.loads(line)\n",
        "      data_vali.append(text)\n",
        "      valid_texts.append(text['sentence_normalized'])\n",
        "      polarity=int(text['targets'][0]['polarity'])\n",
        "      if polarity==2:\n",
        "        valid_labels.append(0)\n",
        "      elif polarity==4:\n",
        "        valid_labels.append(1)\n",
        "      elif polarity==6:\n",
        "        valid_labels.append(2)\n",
        "      else:\n",
        "        print('error')"
      ],
      "metadata": {
        "id": "QTDr6wIVKh9l"
      },
      "execution_count": 47,
      "outputs": []
    },
    {
      "cell_type": "code",
      "source": [
        "print(len(valid_texts))"
      ],
      "metadata": {
        "colab": {
          "base_uri": "https://localhost:8080/"
        },
        "id": "-qL2KXUT6hMA",
        "outputId": "f97fb889-bcde-4f37-85b6-0d213d4d6c23"
      },
      "execution_count": 48,
      "outputs": [
        {
          "output_type": "stream",
          "name": "stdout",
          "text": [
            "300\n"
          ]
        }
      ]
    },
    {
      "cell_type": "code",
      "source": [
        "integer_counts = Counter(valid_labels)\n",
        "# Print the summary\n",
        "for integer, count in integer_counts.items():\n",
        "    print(f\"Integer {integer} appears {count} times\")"
      ],
      "metadata": {
        "colab": {
          "base_uri": "https://localhost:8080/"
        },
        "id": "8EYUigK_YNqI",
        "outputId": "39a3ae13-f442-4284-97f8-5bd914aca85d"
      },
      "execution_count": 49,
      "outputs": [
        {
          "output_type": "stream",
          "name": "stdout",
          "text": [
            "Integer 2 appears 71 times\n",
            "Integer 1 appears 117 times\n",
            "Integer 0 appears 112 times\n"
          ]
        }
      ]
    },
    {
      "cell_type": "code",
      "source": [
        "integer_counts = Counter(test_labels)\n",
        "# Print the summary\n",
        "for integer, count in integer_counts.items():\n",
        "    print(f\"Integer {integer} appears {count} times\")"
      ],
      "metadata": {
        "colab": {
          "base_uri": "https://localhost:8080/"
        },
        "id": "uACwoXYV6tVY",
        "outputId": "38449fbb-c0a5-4a38-ad91-f8abaad7f8cc"
      },
      "execution_count": 50,
      "outputs": [
        {
          "output_type": "stream",
          "name": "stdout",
          "text": [
            "Integer 1 appears 401 times\n",
            "Integer 0 appears 364 times\n",
            "Integer 2 appears 235 times\n"
          ]
        }
      ]
    },
    {
      "cell_type": "code",
      "source": [
        "integer_counts = Counter(train_labels)\n",
        "# Print the summary\n",
        "for integer, count in integer_counts.items():\n",
        "    print(f\"Integer {integer} appears {count} times\")"
      ],
      "metadata": {
        "colab": {
          "base_uri": "https://localhost:8080/"
        },
        "id": "iu8nKXdi6uhJ",
        "outputId": "fb2bf393-e71d-4dd7-eefa-9498fa2ed65f"
      },
      "execution_count": 51,
      "outputs": [
        {
          "output_type": "stream",
          "name": "stdout",
          "text": [
            "Integer 1 appears 1493 times\n",
            "Integer 0 appears 1363 times\n",
            "Integer 2 appears 954 times\n"
          ]
        }
      ]
    },
    {
      "cell_type": "code",
      "source": [
        "#baseline multinomial Naive Bayes\n",
        "from sklearn.feature_extraction.text import CountVectorizer\n",
        "from sklearn.naive_bayes import MultinomialNB\n",
        "from sklearn.pipeline import Pipeline\n",
        "from sklearn.metrics import accuracy_score"
      ],
      "metadata": {
        "id": "7-1okbErzzmA"
      },
      "execution_count": 52,
      "outputs": []
    },
    {
      "cell_type": "code",
      "source": [
        "# Training data\n",
        "\n",
        "# Create a pipeline with CountVectorizer and MultinomialNB\n",
        "pipeline = Pipeline([\n",
        "    ('vect', CountVectorizer()),  # Convert text to word count vectors\n",
        "    ('clf', MultinomialNB()),     # Multinomial Naive Bayes classifier\n",
        "])\n",
        "# Train the model\n",
        "pipeline.fit(train_texts, train_labels)\n",
        "# Test the model\n",
        "# Example test data\n",
        "\n",
        "# Predict sentiment for test data\n",
        "predictions = pipeline.predict(test_texts)\n",
        "print(predictions)"
      ],
      "metadata": {
        "colab": {
          "base_uri": "https://localhost:8080/"
        },
        "id": "eEPdC_o22FXB",
        "outputId": "21f09e3e-48ae-416e-c547-e62f2ca511aa"
      },
      "execution_count": 53,
      "outputs": [
        {
          "output_type": "stream",
          "name": "stdout",
          "text": [
            "[1 0 0 1 1 0 1 0 1 1 0 1 1 1 2 1 0 0 0 1 1 0 1 0 0 1 0 0 2 0 0 1 0 0 2 1 1\n",
            " 0 1 1 0 1 1 1 0 0 1 1 0 2 1 1 0 0 1 0 1 2 1 1 0 1 0 0 2 1 0 1 1 0 0 2 0 0\n",
            " 0 0 2 1 0 1 0 0 1 1 1 0 2 2 1 1 1 0 1 0 1 1 1 0 0 0 0 0 1 1 0 1 1 1 1 0 1\n",
            " 0 1 1 0 1 0 0 1 0 0 0 1 0 1 1 1 1 1 1 0 0 2 0 0 1 2 1 1 2 1 2 2 0 1 0 0 0\n",
            " 1 1 1 0 2 1 1 1 1 1 0 2 0 1 1 1 1 1 1 1 0 0 1 1 2 1 2 0 2 0 0 0 0 1 1 0 1\n",
            " 1 0 1 1 1 1 2 2 0 1 0 0 1 2 0 1 1 0 1 0 0 1 0 0 0 1 2 0 1 1 0 0 1 1 0 0 1\n",
            " 1 0 1 0 0 1 0 0 2 0 0 0 2 0 0 2 1 1 1 1 0 1 1 1 0 1 2 0 2 0 0 0 0 1 0 0 1\n",
            " 0 0 1 2 0 1 1 0 1 1 1 2 1 0 1 0 1 0 0 0 2 1 2 0 0 0 0 1 1 0 0 1 1 1 2 1 0\n",
            " 1 0 1 1 0 0 0 1 0 2 1 0 0 1 1 1 2 1 2 0 0 0 1 0 0 2 0 1 0 1 1 0 0 2 1 0 0\n",
            " 1 1 1 0 0 1 0 1 2 0 1 1 0 0 1 1 1 1 0 1 0 2 1 1 0 1 0 0 1 1 0 1 0 1 0 1 0\n",
            " 2 0 1 0 2 0 0 0 0 0 0 0 0 2 0 1 1 1 1 0 0 1 0 1 0 1 1 1 0 1 1 1 1 2 0 1 0\n",
            " 1 0 1 0 1 1 0 0 0 0 0 0 1 0 2 1 0 1 1 1 0 1 1 0 1 1 1 1 1 1 0 1 1 1 1 0 0\n",
            " 2 1 0 1 1 0 1 0 0 0 0 1 1 0 1 0 0 1 1 0 1 0 1 1 2 0 2 1 0 1 2 1 0 1 1 0 2\n",
            " 0 1 0 0 1 1 0 0 0 0 0 1 0 1 0 0 0 1 0 1 2 0 0 1 1 0 1 0 0 0 0 0 1 1 0 0 2\n",
            " 1 1 0 0 1 0 1 1 2 1 0 0 1 0 0 1 0 0 0 1 0 0 0 2 0 1 0 1 0 1 1 1 0 1 0 0 2\n",
            " 0 1 0 1 1 1 1 1 1 1 1 0 2 1 0 0 0 1 2 0 0 0 2 0 0 1 1 2 1 0 0 0 2 1 0 1 0\n",
            " 1 1 0 1 0 1 0 1 0 0 0 0 1 0 1 0 1 0 1 1 2 1 0 1 0 0 1 1 0 1 2 0 1 0 1 0 2\n",
            " 0 1 1 1 1 1 0 1 1 1 0 2 2 0 1 0 1 2 0 0 1 1 1 0 1 1 0 1 1 1 1 0 0 1 0 1 1\n",
            " 0 0 1 0 1 2 1 1 1 0 1 0 0 1 0 0 2 1 0 1 0 1 2 0 1 1 1 0 1 0 1 1 1 0 0 0 1\n",
            " 0 1 1 1 0 1 2 1 2 0 1 0 1 2 1 1 2 1 0 1 0 0 2 1 1 0 1 1 0 1 0 0 0 1 0 1 0\n",
            " 1 0 1 0 0 1 0 0 0 1 1 1 1 0 1 1 1 0 0 0 2 1 1 1 1 2 1 1 0 1 1 0 2 2 1 2 1\n",
            " 1 1 1 0 2 0 0 1 1 2 1 0 1 1 0 1 2 0 0 0 0 0 2 2 0 0 1 1 1 1 1 1 1 0 1 0 1\n",
            " 1 0 1 1 0 0 0 0 1 1 0 0 2 1 0 0 0 0 2 1 1 1 0 0 0 1 0 0 2 0 0 0 1 0 0 1 0\n",
            " 2 1 0 2 0 0 1 0 1 0 0 0 0 2 1 0 0 1 1 1 1 2 1 0 1 0 0 1 1 0 0 1 0 1 1 0 1\n",
            " 0 0 0 0 0 0 1 0 0 1 0 1 1 1 1 1 0 0 1 0 0 1 1 0 0 0 0 0 0 0 2 2 1 1 1 1 1\n",
            " 0 0 1 0 0 2 1 1 0 1 0 1 1 1 0 2 1 2 0 0 0 1 0 1 0 0 1 1 1 0 0 1 0 0 0 0 0\n",
            " 0 0 0 1 2 1 0 0 0 1 0 0 0 0 2 0 1 1 0 0 1 1 0 1 1 1 0 0 0 1 1 0 0 2 0 0 1\n",
            " 1]\n"
          ]
        }
      ]
    },
    {
      "cell_type": "code",
      "source": [
        "# Evaluate model performance\n",
        "accuracy = accuracy_score(test_labels, predictions)\n",
        "print(\"Accuracy:\", accuracy)"
      ],
      "metadata": {
        "colab": {
          "base_uri": "https://localhost:8080/"
        },
        "id": "7yUuL8Hm2ia_",
        "outputId": "5ee33058-3e06-4730-8217-284853627d39"
      },
      "execution_count": 54,
      "outputs": [
        {
          "output_type": "stream",
          "name": "stdout",
          "text": [
            "Accuracy: 0.531\n"
          ]
        }
      ]
    },
    {
      "cell_type": "code",
      "source": [
        "model_checkpoint = 'bert-base-cased'"
      ],
      "metadata": {
        "id": "DQg-CFNJGZrL"
      },
      "execution_count": 55,
      "outputs": []
    },
    {
      "cell_type": "code",
      "source": [
        "bert_tokenizer = BertTokenizer.from_pretrained(model_checkpoint)\n",
        "bert_model = TFBertModel.from_pretrained(model_checkpoint)"
      ],
      "metadata": {
        "colab": {
          "base_uri": "https://localhost:8080/"
        },
        "id": "W9LpcRD5XBkG",
        "outputId": "9a778ce5-b315-4acb-b358-a35907a8edf3"
      },
      "execution_count": 56,
      "outputs": [
        {
          "output_type": "stream",
          "name": "stderr",
          "text": [
            "Some weights of the PyTorch model were not used when initializing the TF 2.0 model TFBertModel: ['cls.seq_relationship.weight', 'cls.predictions.transform.dense.bias', 'cls.predictions.bias', 'cls.predictions.transform.LayerNorm.bias', 'cls.predictions.transform.LayerNorm.weight', 'cls.predictions.transform.dense.weight', 'cls.seq_relationship.bias']\n",
            "- This IS expected if you are initializing TFBertModel from a PyTorch model trained on another task or with another architecture (e.g. initializing a TFBertForSequenceClassification model from a BertForPreTraining model).\n",
            "- This IS NOT expected if you are initializing TFBertModel from a PyTorch model that you expect to be exactly identical (e.g. initializing a TFBertForSequenceClassification model from a BertForSequenceClassification model).\n",
            "All the weights of TFBertModel were initialized from the PyTorch model.\n",
            "If your task is similar to the task the model of the checkpoint was trained on, you can already use TFBertModel for predictions without further training.\n"
          ]
        }
      ]
    },
    {
      "cell_type": "code",
      "source": [
        "max_length = 50"
      ],
      "metadata": {
        "id": "3T9FsLMPXInb"
      },
      "execution_count": 57,
      "outputs": []
    },
    {
      "cell_type": "code",
      "source": [
        "# tokenize the dataset, truncate at `max_length`,\n",
        "# and pad with 0's when less than `max_length` and return a tf Tensor\n",
        "train_encodings = bert_tokenizer(train_texts, truncation=True, padding=True, max_length=max_length, return_tensors='tf')\n",
        "valid_encodings = bert_tokenizer(valid_texts, truncation=True, padding=True, max_length=max_length, return_tensors='tf')\n",
        "test_encodings = bert_tokenizer(test_texts, truncation=True, padding=True, max_length=max_length, return_tensors='tf')"
      ],
      "metadata": {
        "id": "ICgKHLOWXKzf"
      },
      "execution_count": 58,
      "outputs": []
    },
    {
      "cell_type": "code",
      "source": [
        "train_encodings.input_ids[:1]"
      ],
      "metadata": {
        "colab": {
          "base_uri": "https://localhost:8080/"
        },
        "id": "4-Rvmf5cXP-P",
        "outputId": "584b9c53-29f3-4e39-de6f-ddbbe99f2682"
      },
      "execution_count": 59,
      "outputs": [
        {
          "output_type": "execute_result",
          "data": {
            "text/plain": [
              "<tf.Tensor: shape=(1, 50), dtype=int32, numpy=\n",
              "array([[  101, 15686, 27901, 27647,  1233,   117,   174,  1424,   163,\n",
              "        14315,  2217,  4391,  1162,  3498, 19585,  2897,  3121, 22923,\n",
              "         2217,   170,  2087,  2718,  4206,  1204,   117,   195,  2875,\n",
              "         1195,  6137,  3624,  1813,  2393,  5069,  1179,   179, 26028,\n",
              "         1107,  1119,  1204,  2394,  2497,  1377,   117, 12477,  1813,\n",
              "         1108,  1106,  1204,   183,   102]], dtype=int32)>"
            ]
          },
          "metadata": {},
          "execution_count": 59
        }
      ]
    },
    {
      "cell_type": "code",
      "source": [
        "from tensorflow.keras.layers import Input, Dense, Dropout\n",
        "from tensorflow.keras.models import Model\n",
        "def create_bert_multiclass_model(checkpoint = model_checkpoint,\n",
        "                                 num_classes = 3,\n",
        "                                 hidden_size = 201,\n",
        "                                 dropout=0.3,\n",
        "                                 learning_rate=0.00005):\n",
        "    \"\"\"\n",
        "    Build a simple classification model with BERT. Use the Pooler Output for classification purposes.\n",
        "    \"\"\"\n",
        "    ### YOUR CODE HERE\n",
        "\n",
        "    bert_model = TFBertModel.from_pretrained(checkpoint)\n",
        "\n",
        "    # Freeze BERT layers to prevent training\n",
        "    for layer in bert_model.layers:\n",
        "        layer.trainable = False\n",
        "\n",
        "    # Define input layers\n",
        "    input_ids = Input(shape=(max_length,), dtype='int32', name='input_ids')\n",
        "\n",
        "    token_type_ids = Input(shape=(max_length,), dtype='int32', name='token_type_ids')\n",
        "    attention_mask = Input(shape=(max_length,), dtype='int32', name='attention_mask')\n",
        "\n",
        "\n",
        "\n",
        "    # Get BERT output\n",
        "    bert_output = bert_model(input_ids, token_type_ids=token_type_ids, attention_mask=attention_mask)[1]  # Pooler output\n",
        "\n",
        "\n",
        "\n",
        "\n",
        "    # Add hidden layer with dropout\n",
        "    hidden_layer = Dense(hidden_size, activation='relu', name='hidden_layer')(bert_output)\n",
        "    dropout_layer = Dropout(dropout)(hidden_layer)\n",
        "\n",
        "    # Add classification layer\n",
        "    output = Dense(num_classes, activation='softmax', name='output')(dropout_layer)  # Softmax for multi-class classification\n",
        "\n",
        "    # Create model\n",
        "    classification_model = Model(inputs=[input_ids, token_type_ids, attention_mask], outputs=output)\n",
        "\n",
        "    # Compile model\n",
        "    classification_model.compile(optimizer=keras.optimizers.Adam(learning_rate=learning_rate),\n",
        "                                 loss='sparse_categorical_crossentropy',\n",
        "                                 metrics=['accuracy'])\n",
        "\n",
        "    ### END YOUR CODE\n",
        "    return classification_model"
      ],
      "metadata": {
        "id": "Q9fZ9iiHXgP9"
      },
      "execution_count": 60,
      "outputs": []
    },
    {
      "cell_type": "markdown",
      "source": [],
      "metadata": {
        "id": "xkzfsgZaYYn6"
      }
    },
    {
      "cell_type": "code",
      "source": [
        "pooler_bert_model = create_bert_multiclass_model(checkpoint=model_checkpoint, num_classes=3)"
      ],
      "metadata": {
        "colab": {
          "base_uri": "https://localhost:8080/"
        },
        "id": "sA70_vrGXlBO",
        "outputId": "4ff8be56-03be-42d4-cd10-83bd8af8754d"
      },
      "execution_count": 61,
      "outputs": [
        {
          "output_type": "stream",
          "name": "stderr",
          "text": [
            "Some weights of the PyTorch model were not used when initializing the TF 2.0 model TFBertModel: ['cls.seq_relationship.weight', 'cls.predictions.transform.dense.bias', 'cls.predictions.bias', 'cls.predictions.transform.LayerNorm.bias', 'cls.predictions.transform.LayerNorm.weight', 'cls.predictions.transform.dense.weight', 'cls.seq_relationship.bias']\n",
            "- This IS expected if you are initializing TFBertModel from a PyTorch model trained on another task or with another architecture (e.g. initializing a TFBertForSequenceClassification model from a BertForPreTraining model).\n",
            "- This IS NOT expected if you are initializing TFBertModel from a PyTorch model that you expect to be exactly identical (e.g. initializing a TFBertForSequenceClassification model from a BertForSequenceClassification model).\n",
            "All the weights of TFBertModel were initialized from the PyTorch model.\n",
            "If your task is similar to the task the model of the checkpoint was trained on, you can already use TFBertModel for predictions without further training.\n"
          ]
        }
      ]
    },
    {
      "cell_type": "code",
      "source": [
        "pooler_bert_model.summary()"
      ],
      "metadata": {
        "colab": {
          "base_uri": "https://localhost:8080/"
        },
        "id": "bfmuka4nEc-2",
        "outputId": "bb9faedf-c122-440f-c3cd-7e1f4992fcf8"
      },
      "execution_count": 62,
      "outputs": [
        {
          "output_type": "stream",
          "name": "stdout",
          "text": [
            "Model: \"model_1\"\n",
            "__________________________________________________________________________________________________\n",
            " Layer (type)                Output Shape                 Param #   Connected to                  \n",
            "==================================================================================================\n",
            " input_ids (InputLayer)      [(None, 50)]                 0         []                            \n",
            "                                                                                                  \n",
            " attention_mask (InputLayer  [(None, 50)]                 0         []                            \n",
            " )                                                                                                \n",
            "                                                                                                  \n",
            " token_type_ids (InputLayer  [(None, 50)]                 0         []                            \n",
            " )                                                                                                \n",
            "                                                                                                  \n",
            " tf_bert_model_3 (TFBertMod  TFBaseModelOutputWithPooli   1083102   ['input_ids[0][0]',           \n",
            " el)                         ngAndCrossAttentions(last_   72         'attention_mask[0][0]',      \n",
            "                             hidden_state=(None, 50, 76              'token_type_ids[0][0]']      \n",
            "                             8),                                                                  \n",
            "                              pooler_output=(None, 768)                                           \n",
            "                             , past_key_values=None, hi                                           \n",
            "                             dden_states=None, attentio                                           \n",
            "                             ns=None, cross_attentions=                                           \n",
            "                             None)                                                                \n",
            "                                                                                                  \n",
            " hidden_layer (Dense)        (None, 201)                  154569    ['tf_bert_model_3[0][1]']     \n",
            "                                                                                                  \n",
            " dropout_149 (Dropout)       (None, 201)                  0         ['hidden_layer[0][0]']        \n",
            "                                                                                                  \n",
            " output (Dense)              (None, 3)                    606       ['dropout_149[0][0]']         \n",
            "                                                                                                  \n",
            "==================================================================================================\n",
            "Total params: 108465447 (413.76 MB)\n",
            "Trainable params: 155175 (606.15 KB)\n",
            "Non-trainable params: 108310272 (413.17 MB)\n",
            "__________________________________________________________________________________________________\n"
          ]
        }
      ]
    },
    {
      "cell_type": "code",
      "source": [
        "keras.utils.plot_model(pooler_bert_model, show_shapes=False, show_dtype=False, show_layer_names=True, dpi=90)"
      ],
      "metadata": {
        "colab": {
          "base_uri": "https://localhost:8080/",
          "height": 438
        },
        "id": "1KZ7kSokEgbM",
        "outputId": "effe35ea-876a-46f2-c948-4a459a1b2e97"
      },
      "execution_count": 63,
      "outputs": [
        {
          "output_type": "execute_result",
          "data": {
            "image/png": "[encoded data removed]",
            "text/plain": [
              "<IPython.core.display.Image object>"
            ]
          },
          "metadata": {},
          "execution_count": 63
        }
      ]
    },
    {
      "cell_type": "code",
      "source": [
        "#get the labels in a needed data format for validation\n",
        "npvalid_labels = np.asarray(valid_labels)"
      ],
      "metadata": {
        "id": "L5h0ilZaEuim"
      },
      "execution_count": 64,
      "outputs": []
    },
    {
      "cell_type": "code",
      "source": [
        "import numpy as np  # Ensure numpy is imported\n",
        "\n",
        "# Convert train_labels and valid_labels to numpy arrays if they are not already\n",
        "train_labels = np.array(train_labels)\n",
        "valid_labels = np.array(valid_labels)\n",
        "\n",
        "# Use a dictionary to pass input data to the fit method\n",
        "input_data_train = {\n",
        "    'input_ids': train_encodings.input_ids,\n",
        "    'token_type_ids': train_encodings.token_type_ids,\n",
        "    'attention_mask': train_encodings.attention_mask\n",
        "}\n",
        "\n",
        "input_data_valid = {\n",
        "    'input_ids': valid_encodings.input_ids,\n",
        "    'token_type_ids': valid_encodings.token_type_ids,\n",
        "    'attention_mask': valid_encodings.attention_mask\n",
        "}\n",
        "\n",
        "# Fit the model using the dictionary format for input data\n",
        "pooler_bert_model_history = pooler_bert_model.fit(\n",
        "    x=input_data_train,\n",
        "    y=train_labels,\n",
        "    validation_data=(input_data_valid, valid_labels),\n",
        "    batch_size=8,\n",
        "    epochs=3\n",
        ")"
      ],
      "metadata": {
        "colab": {
          "base_uri": "https://localhost:8080/"
        },
        "id": "KiEH4OJjIsWB",
        "outputId": "15698e80-8bf6-4450-9573-e20c6a42d3cf"
      },
      "execution_count": 65,
      "outputs": [
        {
          "output_type": "stream",
          "name": "stdout",
          "text": [
            "Epoch 1/3\n",
            "477/477 [==============================] - 742s 2s/step - loss: 1.1568 - accuracy: 0.3562 - val_loss: 1.0916 - val_accuracy: 0.3900\n",
            "Epoch 2/3\n",
            "477/477 [==============================] - 756s 2s/step - loss: 1.1048 - accuracy: 0.3693 - val_loss: 1.0783 - val_accuracy: 0.3967\n",
            "Epoch 3/3\n",
            "477/477 [==============================] - 760s 2s/step - loss: 1.0919 - accuracy: 0.3835 - val_loss: 1.0909 - val_accuracy: 0.3900\n"
          ]
        }
      ]
    },
    {
      "cell_type": "code",
      "source": [
        "# Convert test_labels to a numpy array if it is not already\n",
        "test_labels = np.array(test_labels)\n",
        "\n",
        "# Use a dictionary to pass input data to the evaluate method\n",
        "input_data_test = {\n",
        "    'input_ids': test_encodings.input_ids,\n",
        "    'token_type_ids': test_encodings.token_type_ids,\n",
        "    'attention_mask': test_encodings.attention_mask\n",
        "}\n",
        "\n",
        "# Evaluate the model using the dictionary format for input data\n",
        "score = pooler_bert_model.evaluate(\n",
        "    x=input_data_test,\n",
        "    y=test_labels\n",
        ")\n",
        "\n",
        "print('Test loss:', score[0])\n",
        "print('Test accuracy:', score[1])\n"
      ],
      "metadata": {
        "colab": {
          "base_uri": "https://localhost:8080/"
        },
        "id": "JGXjdhaQMid-",
        "outputId": "7fb0fc42-5f40-4e38-d5b8-c47b42cae0c1"
      },
      "execution_count": 66,
      "outputs": [
        {
          "output_type": "stream",
          "name": "stdout",
          "text": [
            "32/32 [==============================] - 158s 5s/step - loss: 1.0796 - accuracy: 0.4000\n",
            "Test loss: 1.0796456336975098\n",
            "Test accuracy: 0.4000000059604645\n"
          ]
        }
      ]
    },
    {
      "cell_type": "code",
      "source": [
        "predictions = pooler_bert_model.predict([test_encodings.input_ids[:3], test_encodings.token_type_ids[:3], test_encodings.attention_mask[:3]])"
      ],
      "metadata": {
        "id": "-0JBzsX9JaPt",
        "colab": {
          "base_uri": "https://localhost:8080/"
        },
        "outputId": "4774178b-32c4-4296-dae9-582ce9e251ed"
      },
      "execution_count": 67,
      "outputs": [
        {
          "output_type": "stream",
          "name": "stdout",
          "text": [
            "1/1 [==============================] - 6s 6s/step\n"
          ]
        }
      ]
    },
    {
      "cell_type": "code",
      "source": [
        "predictions = pooler_bert_model.predict(\n",
        "    [test_encodings.input_ids, test_encodings.token_type_ids, test_encodings.attention_mask]\n",
        ")\n",
        "predictions_model1 = tf.argmax(predictions, axis=-1)\n",
        "predictions_model1"
      ],
      "metadata": {
        "id": "ewmPYaQZJcJj",
        "colab": {
          "base_uri": "https://localhost:8080/"
        },
        "outputId": "67276648-0235-4374-feba-8b2dbaf13723"
      },
      "execution_count": 68,
      "outputs": [
        {
          "output_type": "stream",
          "name": "stdout",
          "text": [
            "32/32 [==============================] - 158s 5s/step\n"
          ]
        },
        {
          "output_type": "execute_result",
          "data": {
            "text/plain": [
              "<tf.Tensor: shape=(1000,), dtype=int64, numpy=\n",
              "array([1, 1, 1, 1, 1, 1, 1, 1, 1, 1, 1, 1, 1, 1, 1, 1, 1, 1, 1, 1, 1, 1,\n",
              "       1, 1, 1, 1, 1, 1, 1, 1, 1, 1, 1, 1, 1, 1, 1, 1, 1, 1, 1, 1, 1, 1,\n",
              "       1, 1, 1, 1, 1, 1, 1, 1, 1, 1, 1, 1, 1, 1, 1, 1, 1, 1, 1, 1, 1, 1,\n",
              "       1, 1, 1, 1, 1, 1, 1, 1, 1, 1, 1, 1, 1, 1, 1, 1, 1, 1, 1, 1, 1, 1,\n",
              "       1, 1, 1, 1, 1, 1, 1, 1, 1, 1, 1, 1, 1, 1, 1, 1, 1, 1, 1, 1, 1, 1,\n",
              "       1, 1, 1, 1, 1, 1, 1, 1, 1, 1, 1, 1, 1, 1, 1, 1, 1, 1, 1, 1, 1, 1,\n",
              "       1, 1, 1, 1, 1, 1, 1, 1, 1, 1, 1, 1, 1, 1, 1, 1, 1, 1, 1, 1, 1, 1,\n",
              "       1, 1, 1, 1, 1, 1, 1, 1, 1, 1, 1, 1, 1, 1, 1, 1, 1, 1, 1, 1, 1, 1,\n",
              "       1, 1, 1, 1, 1, 1, 1, 1, 1, 1, 1, 1, 1, 1, 1, 1, 1, 1, 1, 1, 1, 1,\n",
              "       1, 1, 1, 1, 1, 1, 1, 1, 1, 1, 1, 1, 1, 1, 1, 1, 1, 1, 1, 1, 1, 1,\n",
              "       1, 1, 1, 1, 1, 1, 1, 1, 1, 1, 1, 1, 1, 1, 1, 1, 1, 1, 1, 1, 1, 1,\n",
              "       1, 1, 1, 1, 1, 1, 1, 1, 1, 1, 1, 1, 1, 1, 1, 1, 1, 1, 1, 1, 1, 1,\n",
              "       1, 1, 1, 1, 1, 1, 1, 1, 1, 1, 1, 1, 1, 1, 1, 1, 1, 1, 1, 1, 1, 1,\n",
              "       1, 1, 1, 1, 1, 1, 1, 1, 1, 1, 1, 1, 1, 1, 1, 1, 1, 1, 1, 1, 1, 1,\n",
              "       1, 1, 1, 1, 1, 1, 1, 1, 1, 1, 1, 1, 1, 1, 1, 1, 1, 1, 1, 1, 1, 1,\n",
              "       1, 1, 1, 1, 1, 1, 1, 1, 1, 1, 1, 1, 1, 1, 1, 1, 1, 1, 1, 1, 1, 1,\n",
              "       1, 1, 1, 1, 1, 1, 1, 1, 1, 1, 1, 1, 1, 1, 1, 1, 1, 1, 1, 1, 1, 1,\n",
              "       1, 1, 1, 1, 1, 1, 1, 1, 1, 1, 1, 1, 1, 1, 1, 1, 1, 1, 1, 1, 1, 1,\n",
              "       1, 1, 1, 1, 1, 1, 1, 1, 1, 1, 1, 1, 1, 1, 1, 1, 1, 1, 1, 1, 1, 1,\n",
              "       1, 1, 1, 1, 1, 1, 1, 1, 1, 1, 1, 1, 1, 1, 1, 1, 1, 1, 1, 1, 1, 1,\n",
              "       1, 1, 1, 1, 1, 1, 1, 1, 1, 1, 1, 1, 1, 1, 1, 1, 1, 1, 1, 1, 1, 1,\n",
              "       1, 1, 1, 1, 1, 1, 1, 1, 1, 1, 1, 1, 1, 1, 1, 1, 1, 1, 1, 1, 1, 1,\n",
              "       1, 1, 1, 1, 1, 1, 1, 1, 1, 1, 1, 1, 1, 1, 1, 1, 1, 1, 1, 1, 1, 1,\n",
              "       1, 1, 1, 1, 1, 1, 1, 1, 1, 1, 1, 1, 1, 1, 1, 1, 1, 1, 1, 1, 1, 1,\n",
              "       1, 1, 1, 1, 1, 1, 1, 1, 1, 1, 1, 1, 1, 1, 1, 1, 1, 1, 1, 1, 1, 1,\n",
              "       1, 1, 1, 1, 1, 1, 1, 1, 1, 1, 1, 1, 1, 1, 1, 1, 1, 1, 1, 1, 1, 1,\n",
              "       1, 1, 1, 1, 1, 1, 1, 1, 1, 1, 1, 1, 1, 1, 1, 1, 1, 1, 1, 1, 1, 1,\n",
              "       1, 1, 1, 1, 1, 1, 1, 1, 0, 1, 1, 1, 1, 1, 1, 1, 1, 1, 1, 1, 1, 1,\n",
              "       1, 1, 1, 1, 1, 1, 1, 1, 1, 1, 1, 1, 1, 1, 1, 1, 1, 1, 1, 1, 1, 1,\n",
              "       1, 1, 1, 1, 1, 1, 1, 1, 1, 1, 1, 1, 1, 1, 1, 1, 1, 1, 1, 1, 1, 1,\n",
              "       1, 1, 1, 1, 1, 1, 1, 1, 1, 1, 1, 1, 1, 1, 1, 1, 1, 1, 1, 1, 1, 1,\n",
              "       1, 1, 1, 1, 1, 1, 1, 1, 1, 1, 1, 1, 1, 1, 1, 1, 1, 1, 1, 1, 1, 1,\n",
              "       1, 1, 1, 1, 1, 1, 1, 1, 1, 1, 1, 1, 1, 1, 1, 1, 1, 1, 1, 1, 1, 1,\n",
              "       1, 1, 1, 1, 1, 1, 1, 1, 1, 1, 1, 1, 1, 1, 1, 1, 1, 1, 1, 1, 1, 1,\n",
              "       1, 1, 1, 1, 1, 1, 1, 1, 1, 1, 1, 1, 1, 1, 1, 1, 1, 1, 1, 1, 1, 1,\n",
              "       1, 1, 1, 1, 1, 1, 1, 1, 1, 1, 1, 1, 1, 1, 1, 1, 1, 1, 1, 1, 1, 1,\n",
              "       1, 1, 1, 1, 1, 1, 1, 1, 1, 1, 1, 1, 1, 1, 1, 1, 1, 1, 1, 1, 1, 1,\n",
              "       1, 1, 1, 1, 1, 1, 1, 1, 1, 1, 1, 1, 1, 1, 1, 1, 1, 1, 1, 1, 1, 1,\n",
              "       1, 1, 1, 1, 1, 1, 1, 1, 1, 1, 1, 1, 1, 1, 1, 1, 1, 1, 1, 1, 1, 1,\n",
              "       1, 1, 1, 1, 1, 1, 1, 1, 1, 1, 1, 1, 1, 1, 1, 1, 1, 1, 1, 1, 1, 1,\n",
              "       1, 1, 1, 1, 1, 1, 1, 1, 1, 1, 1, 1, 1, 1, 1, 1, 1, 1, 1, 1, 1, 1,\n",
              "       1, 1, 1, 1, 1, 1, 1, 1, 1, 1, 1, 1, 1, 1, 1, 1, 1, 1, 1, 1, 1, 1,\n",
              "       1, 1, 1, 1, 1, 1, 1, 1, 1, 1, 1, 1, 1, 1, 1, 1, 1, 1, 1, 1, 1, 1,\n",
              "       1, 1, 1, 1, 1, 1, 1, 1, 1, 1, 1, 1, 1, 1, 1, 1, 1, 1, 1, 1, 1, 1,\n",
              "       1, 1, 1, 1, 1, 1, 1, 1, 1, 1, 1, 1, 1, 1, 1, 1, 1, 1, 1, 1, 1, 1,\n",
              "       1, 1, 1, 1, 1, 1, 1, 1, 1, 1])>"
            ]
          },
          "metadata": {},
          "execution_count": 68
        }
      ]
    },
    {
      "cell_type": "code",
      "source": [
        "target_names=['negative','neutral','positive']"
      ],
      "metadata": {
        "id": "gCkKwEaQNgij"
      },
      "execution_count": 69,
      "outputs": []
    },
    {
      "cell_type": "code",
      "source": [
        "print(classification_report(test_labels, predictions_model1.numpy(), target_names=target_names))"
      ],
      "metadata": {
        "id": "wD7yBpJiJfS0",
        "colab": {
          "base_uri": "https://localhost:8080/"
        },
        "outputId": "1dc78ce0-d379-4dc5-df3f-65f54fe4db48"
      },
      "execution_count": 70,
      "outputs": [
        {
          "output_type": "stream",
          "name": "stdout",
          "text": [
            "              precision    recall  f1-score   support\n",
            "\n",
            "    negative       0.00      0.00      0.00       364\n",
            "     neutral       0.40      1.00      0.57       401\n",
            "    positive       0.00      0.00      0.00       235\n",
            "\n",
            "    accuracy                           0.40      1000\n",
            "   macro avg       0.13      0.33      0.19      1000\n",
            "weighted avg       0.16      0.40      0.23      1000\n",
            "\n"
          ]
        },
        {
          "output_type": "stream",
          "name": "stderr",
          "text": [
            "/usr/local/lib/python3.10/dist-packages/sklearn/metrics/_classification.py:1344: UndefinedMetricWarning: Precision and F-score are ill-defined and being set to 0.0 in labels with no predicted samples. Use `zero_division` parameter to control this behavior.\n",
            "  _warn_prf(average, modifier, msg_start, len(result))\n",
            "/usr/local/lib/python3.10/dist-packages/sklearn/metrics/_classification.py:1344: UndefinedMetricWarning: Precision and F-score are ill-defined and being set to 0.0 in labels with no predicted samples. Use `zero_division` parameter to control this behavior.\n",
            "  _warn_prf(average, modifier, msg_start, len(result))\n",
            "/usr/local/lib/python3.10/dist-packages/sklearn/metrics/_classification.py:1344: UndefinedMetricWarning: Precision and F-score are ill-defined and being set to 0.0 in labels with no predicted samples. Use `zero_division` parameter to control this behavior.\n",
            "  _warn_prf(average, modifier, msg_start, len(result))\n"
          ]
        }
      ]
    }
  ]
}